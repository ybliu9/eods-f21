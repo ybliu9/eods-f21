{
 "cells": [
  {
   "cell_type": "markdown",
   "metadata": {},
   "source": [
    "# Week 13 Quiz\n",
    "\n",
    "## [Name] - [UNI]\n",
    "\n",
    "### Due Sun Dec 19th, 11:59pm ET"
   ]
  },
  {
   "cell_type": "markdown",
   "metadata": {},
   "source": [
    "In this quiz we'll practice using SQL to extract and transform some US State population data.\n",
    "\n",
    "We'll use pandasql to execute SQL on pandas dataframes.\n",
    "\n",
    "If for some reason pandasql deosn't work, please just take a shot at what you think the SQL should be."
   ]
  },
  {
   "cell_type": "code",
   "execution_count": null,
   "metadata": {},
   "outputs": [],
   "source": [
    "import pandas as pd\n",
    "import numpy as np\n",
    "import matplotlib.pyplot as plt\n",
    "\n",
    "from pandasql import PandaSQL\n",
    "\n",
    "%matplotlib inline"
   ]
  },
  {
   "cell_type": "markdown",
   "metadata": {},
   "source": [
    "## Set up pysqldf"
   ]
  },
  {
   "cell_type": "code",
   "execution_count": null,
   "metadata": {},
   "outputs": [],
   "source": [
    "# Setting up an instance of PandaSQL to pass SQL commands to\n",
    "pysqldf = PandaSQL()"
   ]
  },
  {
   "cell_type": "markdown",
   "metadata": {},
   "source": [
    "## Load Data"
   ]
  },
  {
   "cell_type": "code",
   "execution_count": null,
   "metadata": {},
   "outputs": [],
   "source": [
    "# Load state population data\n",
    "state_population = pd.read_csv('../data/state-population.csv')\n",
    "state_population = state_population.rename({'state/region':'abbreviation'},\n",
    "                                           axis=1)\n",
    "\n",
    "# Load state area data\n",
    "state_areas = pd.read_csv('../data/state-areas.csv')\n",
    "state_areas = state_areas.rename({'area (sq. mi)':'area'},axis=1)\n",
    "\n",
    "# Load state abbreviation data\n",
    "state_abbrevs = pd.read_csv('../data/state-abbrevs.csv')"
   ]
  },
  {
   "cell_type": "markdown",
   "metadata": {},
   "source": [
    "## Practice SQL"
   ]
  },
  {
   "cell_type": "code",
   "execution_count": null,
   "metadata": {},
   "outputs": [],
   "source": [
    "# Write SQL to print out:\n",
    "#    all columns from table state_areas limited to the first 3 rows \n",
    "#    aka state_areas.head(3)\n",
    "sql = \"\"\"\n",
    "____\n",
    "\"\"\"\n",
    "pysqldf(sql)"
   ]
  },
  {
   "cell_type": "code",
   "execution_count": null,
   "metadata": {},
   "outputs": [],
   "source": [
    "# Write SQL to print out the same dataframe as given by this pandas call:\n",
    "#    state_popultion.loc[:,['abbreviation']].iloc[:3]\n",
    "sql = \"\"\"\n",
    "____\n",
    "\"\"\"\n",
    "pysqldf(sql)"
   ]
  },
  {
   "cell_type": "markdown",
   "metadata": {},
   "source": [
    "---"
   ]
  },
  {
   "cell_type": "markdown",
   "metadata": {},
   "source": [
    "# OPTIONAL\n",
    "\n",
    "Everything below is optional if you'd like more practice with sql"
   ]
  },
  {
   "cell_type": "code",
   "execution_count": null,
   "metadata": {},
   "outputs": [],
   "source": [
    "# Write SQL to print out:\n",
    "#    columns state and area from table state_areas for rows with state starting with 'Mi'\n",
    "sql = \"\"\"\n",
    "____\n",
    "\"\"\"\n",
    "pysqldf(sql)"
   ]
  },
  {
   "cell_type": "code",
   "execution_count": null,
   "metadata": {},
   "outputs": [],
   "source": [
    "# Write SQL to print out:\n",
    "#    columns state and area from table state_areas \n",
    "#    for rows with state starting with 'Mi' and area greater than 80000\n",
    "sql = \"\"\"\n",
    "____\n",
    "\"\"\"\n",
    "pysqldf(sql)"
   ]
  },
  {
   "cell_type": "code",
   "execution_count": null,
   "metadata": {},
   "outputs": [],
   "source": [
    "# Write SQL to print out:\n",
    "#    all columns from table state_areas \n",
    "#    LEFT JOINED with state_abbreviations ON state\n",
    "#    limited to the first 3 rows\n",
    "sql = \"\"\"\n",
    "____\n",
    "\"\"\"\n",
    "pysqldf(sql)"
   ]
  },
  {
   "cell_type": "code",
   "execution_count": null,
   "metadata": {},
   "outputs": [],
   "source": [
    "# Write SQL to print out:\n",
    "#    all columns from table state_areas aliased as s_area\n",
    "#    (INNER) JOINED with state_abbreviations aliased as s_abb ON state\n",
    "#    (INNER) JOINED with state_population aliased as s_pop ON abbreviation\n",
    "sql = \"\"\"\n",
    "____\n",
    "\"\"\"\n",
    "pysqldf(sql)"
   ]
  },
  {
   "cell_type": "code",
   "execution_count": null,
   "metadata": {},
   "outputs": [],
   "source": [
    "# Write SQL to print out:\n",
    "#    s_area.state,\n",
    "#    s_area.area,\n",
    "#    s_pop.year,\n",
    "#    s_pop.population\n",
    "#    from table state_areas aliased as s_area\n",
    "#    (INNER) JOINED with state_abbreviations aliased as s_abb ON state\n",
    "#    (INNER) JOINED with state_population aliased as s_pop ON abbreviation\n",
    "#    where s_pop.ages is 'total'\n",
    "#    ordered by s_area.state, s_pop.year\n",
    "sql = \"\"\"\n",
    "____\n",
    "\"\"\"\n",
    "pysqldf(sql)"
   ]
  },
  {
   "cell_type": "code",
   "execution_count": null,
   "metadata": {},
   "outputs": [],
   "source": [
    "# Feel free to experiment with additional SQL calls. \n",
    "# For example, state_population contains more regions than there are states in state_areas\n",
    "#     so different join types (left, right) will give different results\n",
    "\n",
    "# As an additional challenge: calculate the total average population per state"
   ]
  }
 ],
 "metadata": {
  "kernelspec": {
   "display_name": "eods-f21",
   "language": "python",
   "name": "eods-f21"
  },
  "language_info": {
   "codemirror_mode": {
    "name": "ipython",
    "version": 3
   },
   "file_extension": ".py",
   "mimetype": "text/x-python",
   "name": "python",
   "nbconvert_exporter": "python",
   "pygments_lexer": "ipython3",
   "version": "3.8.10"
  }
 },
 "nbformat": 4,
 "nbformat_minor": 2
}
