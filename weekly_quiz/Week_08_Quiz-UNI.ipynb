{
 "cells": [
  {
   "cell_type": "markdown",
   "metadata": {
    "slideshow": {
     "slide_type": "slide"
    }
   },
   "source": [
    "# Week 8 Quiz\n",
    "\n",
    "## [Name] - [UNI]\n",
    "\n",
    "### Due Sun. Nov 14, 11:59pm ET"
   ]
  },
  {
   "cell_type": "code",
   "execution_count": null,
   "metadata": {},
   "outputs": [],
   "source": [
    "# import numpy as np and pandas as pd\n",
    "import numpy as np\n",
    "import pandas as pd"
   ]
  },
  {
   "cell_type": "code",
   "execution_count": null,
   "metadata": {},
   "outputs": [],
   "source": [
    "# Read in data from data/week8_housing_data.csv and store as dataframe df.\n",
    "# This data includes a column datetaime column DocumentDate. \n",
    "# Use parse_dates to parse this column into datetimes\n",
    "# Print df.info() to see the number of rows, column names, column datatypes and amount of missing data.\n",
    "df = pd.read_csv('../data/week8_housing_data.csv',parse_dates=['DocumentDate'])\n",
    "df.info()"
   ]
  },
  {
   "cell_type": "code",
   "execution_count": null,
   "metadata": {},
   "outputs": [],
   "source": [
    "# If we run df.duplicated() we get a vector of booleans that indicate duplicated rows.\n",
    "# Print df.duplicated() and .sum() to get the number of duplicated rows (there should be 9).\n",
    "____"
   ]
  },
  {
   "cell_type": "code",
   "execution_count": null,
   "metadata": {},
   "outputs": [],
   "source": [
    "# Use drop_duplicates() to drop the duplicated rows inplace.\n",
    "# Check the entire row (subset=None) and keep the first duplicate (keep='first')\n",
    "____\n",
    "\n",
    "# Print df.shape to confirm rows were dropped (num rows should now be 991).\n",
    "df.shape"
   ]
  },
  {
   "cell_type": "code",
   "execution_count": null,
   "metadata": {},
   "outputs": [],
   "source": [
    "# From the .info() above, we see there are missing values in SqFtLot.\n",
    "# Before we fill this column, create a new column 'SqFtLot_missing' in df.\n",
    "# This column should contain integers, 1 for missing, 0 for not missing.\n",
    "# Use .isna() and .astype(int) to create the 'SqFtLot_missing' column.\n",
    "____\n",
    "\n",
    "# Assert that the sum of the SqFtLot_missing column equals the number of missing values in SqFtLot\n",
    "____\n",
    "\n",
    "# Assert that the dtype of SqFtLot_missing is int\n",
    "assert df.SqFtLot_missing.dtype == int"
   ]
  },
  {
   "cell_type": "code",
   "execution_count": null,
   "metadata": {},
   "outputs": [],
   "source": [
    "# Now fill the missing values in df.SqFtLot with the mean of the SqFtLot column.\n",
    "# Use .fillna() and .mean()\n",
    "# Be sure to either use inplace or store back into the existing SqFtLot column.\n",
    "____\n",
    "\n",
    "# Assert that the SqFtLot column no longer contains any missing values (number of missing values == 0)\n",
    "assert df.SqFtLot.isna().sum() == 0"
   ]
  },
  {
   "cell_type": "code",
   "execution_count": null,
   "metadata": {},
   "outputs": [],
   "source": [
    "# Standardize the SqFtLot column using the sklearn StandardScaler\n",
    "\n",
    "# Import StandardScaler from sklearn.preprocessing\n",
    "____\n",
    "\n",
    "# Use fit_transform() on the SqFtLot column only.\n",
    "# NOTE: fit_transform requires a 2D matrix. Use df[['SqFtLot']] to pass a dataframe instead of a series.\n",
    "# Store the transformed values back into a new column 'SqFtLot_scaled' in df.\n",
    "____\n",
    "\n",
    "# Call .agg(['mean','std']).round(2) on SqFtLot and SqFtLot_scaled columns \n",
    "#   to confirm the scaling has operated as expected.\n",
    "____"
   ]
  },
  {
   "cell_type": "code",
   "execution_count": null,
   "metadata": {},
   "outputs": [],
   "source": [
    "# There are also missing values in PropertyType.\n",
    "# Since 'PropertyType' is categorical, let's treat MISSING as another category.\n",
    "# Fill the empty values in PropertyType with the string 'MISSING'.\n",
    "# Be sure to either use inplace or store back into the existing PropertyType column.\n",
    "____\n",
    "\n",
    "# Call .value_counts() on the PropertyType column \n",
    "#   to see how many of each category exist in the dataframe.\n",
    "____"
   ]
  },
  {
   "cell_type": "code",
   "execution_count": null,
   "metadata": {},
   "outputs": [],
   "source": [
    "# Confirm we have no missing data by asserting that the sum of df.isna() over rows and columns is equal to 0.\n",
    "____"
   ]
  },
  {
   "cell_type": "code",
   "execution_count": null,
   "metadata": {},
   "outputs": [],
   "source": [
    "# Transform the categorical feature PropertyType using pd.get_dummies().\n",
    "# Note that we can call get_dummies on the entire dataframe and only categorical features will be transformed.\n",
    "# Store the result back into df\n",
    "____\n",
    "\n",
    "# Print out the first 3 rows of df to see the result.\n",
    "df.head(3)"
   ]
  }
 ],
 "metadata": {
  "kernelspec": {
   "display_name": "eods-f21",
   "language": "python",
   "name": "eods-f21"
  },
  "language_info": {
   "codemirror_mode": {
    "name": "ipython",
    "version": 3
   },
   "file_extension": ".py",
   "mimetype": "text/x-python",
   "name": "python",
   "nbconvert_exporter": "python",
   "pygments_lexer": "ipython3",
   "version": "3.8.10"
  }
 },
 "nbformat": 4,
 "nbformat_minor": 2
}
