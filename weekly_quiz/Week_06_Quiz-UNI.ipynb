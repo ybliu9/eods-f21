{
 "cells": [
  {
   "cell_type": "markdown",
   "metadata": {},
   "source": [
    "# Week 6 Quiz\n",
    "\n",
    "## [Name] - [UNI]\n",
    "\n",
    "### Due Sunday Oct 24 11:59pm ET"
   ]
  },
  {
   "cell_type": "markdown",
   "metadata": {},
   "source": [
    "In this quiz we'll be loading some data, training a few models and plotting their decision boundaries to compare how the models perform."
   ]
  },
  {
   "cell_type": "code",
   "execution_count": null,
   "metadata": {},
   "outputs": [],
   "source": [
    "import pandas as pd\n",
    "import numpy as np\n",
    "import matplotlib.pyplot as plt\n",
    "import seaborn as sns\n",
    "\n",
    "from sklearn import datasets\n",
    "from mlxtend.plotting import plot_decision_regions\n",
    "\n",
    "sns.set_style('darkgrid')\n",
    "%matplotlib inline"
   ]
  },
  {
   "cell_type": "code",
   "execution_count": null,
   "metadata": {},
   "outputs": [],
   "source": [
    "# For this quiz we'll be using the \"iris\" dataset, a very common dataset seen \n",
    "# when learning about classification.\n",
    "\n",
    "# Using sklearn.datasets, load the dataset into iris \n",
    "iris = datasets.load_iris()"
   ]
  },
  {
   "cell_type": "code",
   "execution_count": null,
   "metadata": {},
   "outputs": [],
   "source": [
    "# As we've seen in other datasets loaded from sklearn, the data is contained in\n",
    "# iris.data and feature names in iris.feature_names.\n",
    "# Create a new pd.DataFrame X_iris that contains iris.data\n",
    "#    with columns=iris.feature_names\n",
    "X_iris = ____\n",
    "\n",
    "# In order to make the data easier to plot, keep only the first 2 features:\n",
    "#   \"sepal length (cm)\",\"sepal width (cm)\"\n",
    "# Store back into X_iris\n",
    "X_iris = ____\n",
    "\n",
    "# We'll check to make sure that X_iris only has 2 columns\n",
    "assert X_iris.shape == (150,2)\n",
    "\n",
    "# The target/label is contained in iris.target.\n",
    "# Create a pd.Series y_iris containing iris.target.\n",
    "y_iris = ____\n",
    "\n",
    "# Print out the number of rows per label.\n",
    "# Note that this is a multiclass problem (3 classes)\n",
    "#   each with 50 observations\n",
    "y_iris.value_counts()"
   ]
  },
  {
   "cell_type": "code",
   "execution_count": null,
   "metadata": {},
   "outputs": [],
   "source": [
    "# Import LogisticRegression from sklearn.linear_model\n",
    "____\n",
    "\n",
    "# Instantiate the LogisticRegression model with default settings\n",
    "#   and fit on X_iris and y_iris\n",
    "# Store in logreg\n",
    "____\n",
    "\n",
    "# Plot the training set and trained classifier with \n",
    "#   plot_decision_regions() which takes numpy arrays\n",
    "#   so use X_iris.values, y_iris.values\n",
    "____"
   ]
  },
  {
   "cell_type": "code",
   "execution_count": null,
   "metadata": {},
   "outputs": [],
   "source": [
    "# Import KNeighborsClassifier from sklearn.neighbors\n",
    "____\n",
    "\n",
    "# Instantiate the KNeighborsClassifier model with default settings\n",
    "#   and fit on X_iris and y_iris\n",
    "# Store in knn\n",
    "____\n",
    "\n",
    "# Plot the training set and trained classifier with plot_decision_regions()\n",
    "____"
   ]
  },
  {
   "cell_type": "code",
   "execution_count": null,
   "metadata": {},
   "outputs": [],
   "source": [
    "# Import GradientBoostingClassifier from sklearn.ensemble\n",
    "____\n",
    "\n",
    "# Instantiate the GradientBoostingClassifier with default settings\n",
    "#   and fit on X_iris and y_iris\n",
    "# Store in gbc\n",
    "____\n",
    "\n",
    "# Plot the training set and trained classifier with plot_decision_regions()\n",
    "____"
   ]
  }
 ],
 "metadata": {
  "kernelspec": {
   "display_name": "eods-f21",
   "language": "python",
   "name": "eods-f21"
  },
  "language_info": {
   "codemirror_mode": {
    "name": "ipython",
    "version": 3
   },
   "file_extension": ".py",
   "mimetype": "text/x-python",
   "name": "python",
   "nbconvert_exporter": "python",
   "pygments_lexer": "ipython3",
   "version": "3.8.10"
  }
 },
 "nbformat": 4,
 "nbformat_minor": 4
}
