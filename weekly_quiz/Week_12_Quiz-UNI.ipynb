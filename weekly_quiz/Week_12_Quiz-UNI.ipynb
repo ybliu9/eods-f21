{
 "cells": [
  {
   "cell_type": "markdown",
   "metadata": {},
   "source": [
    "# Week 12 Quiz\n",
    "\n",
    "## [Name] - [UNI]\n",
    "\n",
    "### Due Sun December 12th, 11:59pm ET"
   ]
  },
  {
   "cell_type": "markdown",
   "metadata": {},
   "source": [
    "In this quiz, we're going to gather some financial data from an external source and practice performing a few time series tranformations with visualizations."
   ]
  },
  {
   "cell_type": "markdown",
   "metadata": {},
   "source": [
    "### Setup Environment"
   ]
  },
  {
   "cell_type": "code",
   "execution_count": null,
   "metadata": {},
   "outputs": [],
   "source": [
    "import numpy as np\n",
    "import pandas as pd\n",
    "import matplotlib.pyplot as plt\n",
    "import seaborn as sns\n",
    "\n",
    "sns.set_style('whitegrid')\n",
    "\n",
    "%matplotlib inline"
   ]
  },
  {
   "cell_type": "markdown",
   "metadata": {},
   "source": [
    "## Gather Data"
   ]
  },
  {
   "cell_type": "code",
   "execution_count": null,
   "metadata": {},
   "outputs": [],
   "source": [
    "# The pandas_datareader package provides access to many different data api's \n",
    "#   includeing financial sources such as yahoo and quandl as well as economic data from the World Bank.\n",
    "# For more info see: https://pandas-datareader.readthedocs.io/en/latest/remote_data.html\n",
    "#\n",
    "# Note that name of the package at when installing is 'pandas-datareader' with a hyphen,\n",
    "#   while the package name when importing is 'pandas_datareader' with an underscore.\n",
    "\n",
    "# From 'pandas_datareader' import the 'data' module\n",
    "____\n",
    "\n",
    "# We're going to load daily stock price information for Tesla which has the ticker symbol 'TSLA'.\n",
    "# We only want to look at stock prices for the year 2021.\n",
    "# We'll do this using the data.DataReader object from pandas_datareader.\n",
    "# The first positional argument to data.DataReader is the name of the data we're looking for.\n",
    "#    In this case it is the string 'TSLA'.\n",
    "# We also need to specify:\n",
    "#    start='1/1/2021',\n",
    "#    end='12/31/2021',\n",
    "#    data_source='yahoo'\n",
    "# The data-structure returned by DataReader is a dataframe.\n",
    "# Store this result as df\n",
    "____\n",
    "\n",
    "# Print the info for df and note the range of the index\n",
    "____"
   ]
  },
  {
   "cell_type": "markdown",
   "metadata": {},
   "source": [
    "## Set Frequency"
   ]
  },
  {
   "cell_type": "code",
   "execution_count": null,
   "metadata": {},
   "outputs": [],
   "source": [
    "# Initially there is no frequency associated with the datetime index of df.\n",
    "# To check this, we can look at the .freq attribute of the index\n",
    "\n",
    "print(df.index.freq)"
   ]
  },
  {
   "cell_type": "code",
   "execution_count": null,
   "metadata": {},
   "outputs": [],
   "source": [
    "# While the original data is by business day, with missing holidays, we're going to set the frequency to \"Day\".\n",
    "# Use the .resample() and .asfreq() functions, with frequency string 'D'.\n",
    "# Store the resulting dataframe as df_D.\n",
    "df_D = ____\n",
    "\n",
    "# Print the .freq of the index of df_D to check that it has the correct frequency (<Day>)\n",
    "____"
   ]
  },
  {
   "cell_type": "markdown",
   "metadata": {},
   "source": [
    "## Plot Closing Price"
   ]
  },
  {
   "cell_type": "code",
   "execution_count": null,
   "metadata": {},
   "outputs": [],
   "source": [
    "# The Closing price of a stock is the price of that stock at the close of the trading day. \n",
    "# The Adjusted Closing price factors in things such as dividends and stock splits.\n",
    "# For this period, these prices are the same, so we'll just use Close.\n",
    "\n",
    "# Plot the daily Close column of df_D in a figure of size (12,6)\n",
    "____"
   ]
  },
  {
   "cell_type": "markdown",
   "metadata": {},
   "source": [
    "# Fill Missing Data"
   ]
  },
  {
   "cell_type": "code",
   "execution_count": null,
   "metadata": {},
   "outputs": [],
   "source": [
    "# Note that we're missing data on weekends and holidays.\n",
    "# For example, Jan 9th is missing data.\n",
    "# Display the first 6 rows of df_D to show some missing data.\n",
    "____"
   ]
  },
  {
   "cell_type": "code",
   "execution_count": null,
   "metadata": {},
   "outputs": [],
   "source": [
    "# Forward fill the missing data using .ffill()\n",
    "# Store the result as df_D_filled\n",
    "df_D_filled = ____\n",
    "\n",
    "# Confirm that df_D_filled has been forward filled by displaying the first 6 rows.\n",
    "____"
   ]
  },
  {
   "cell_type": "code",
   "execution_count": null,
   "metadata": {},
   "outputs": [],
   "source": [
    "# Plot Close again in a figure of size (12,6), this time from df_D_filled\n",
    "# Note that there are no longer any gaps\n",
    "____"
   ]
  },
  {
   "cell_type": "markdown",
   "metadata": {},
   "source": [
    "## Calculate and Plot Percentage Change of Closing"
   ]
  },
  {
   "cell_type": "code",
   "execution_count": null,
   "metadata": {},
   "outputs": [],
   "source": [
    "# There appear to be some dramatic shifts in price in this time period.\n",
    "# Using the data in df_D_filled, calculate the percentage change of Close \n",
    "#    and store in df_D_filled as a new column 'Close_pctchange'\n",
    "df_D_filled['Close_pctchange'] = ____\n",
    "\n",
    "# Plot 'Close_pctchange' in a figure of size (12,6)\n",
    "____"
   ]
  },
  {
   "cell_type": "markdown",
   "metadata": {},
   "source": [
    "## Summarize Data Using Rolling Window"
   ]
  },
  {
   "cell_type": "code",
   "execution_count": null,
   "metadata": {},
   "outputs": [],
   "source": [
    "# To help visualize the data, create a plot that smooths \n",
    "#    Close_pctchange data over time using a rolling window.\n",
    "\n",
    "# First create a rolling window object on df_D_filled.Close_pctchange\n",
    "#   Use window=7, center=True, win_type=None (default, all points equally weighted)\n",
    "# Store in variable rolling\n",
    "rolling = ____\n",
    "\n",
    "# Take the rolling mean and store in variable rolling_mean\n",
    "rolling_mean = ____\n",
    "\n",
    "# Plot the rolling mean on a plot of size (12,6)\n",
    "____"
   ]
  },
  {
   "cell_type": "markdown",
   "metadata": {},
   "source": [
    "## Zoom In On October and November"
   ]
  },
  {
   "cell_type": "code",
   "execution_count": null,
   "metadata": {
    "scrolled": true
   },
   "outputs": [],
   "source": [
    "# There should be a big positive then negative spikes in October.\n",
    "# Let's zoom in here.\n",
    "\n",
    "# Create a new plot (size 12,6) of df_D_filled.Close_pctchange (not rolling) \n",
    "#   include only the data points in October and November (Hint: use .loc['2021-10':'2021-11'])\n",
    "____"
   ]
  },
  {
   "cell_type": "code",
   "execution_count": null,
   "metadata": {},
   "outputs": [],
   "source": [
    "# We can use the .idxmax() function to print the index of the row corresponding to the maximum value in a series.\n",
    "# Use idxmax to print the date corresponding to the maximum Close_pctchange in October 2021.\n",
    "# It should correspond with the spike seen in the plot above.\n",
    "____"
   ]
  }
 ],
 "metadata": {
  "kernelspec": {
   "display_name": "eods-f21",
   "language": "python",
   "name": "eods-f21"
  },
  "language_info": {
   "codemirror_mode": {
    "name": "ipython",
    "version": 3
   },
   "file_extension": ".py",
   "mimetype": "text/x-python",
   "name": "python",
   "nbconvert_exporter": "python",
   "pygments_lexer": "ipython3",
   "version": "3.8.10"
  }
 },
 "nbformat": 4,
 "nbformat_minor": 2
}
