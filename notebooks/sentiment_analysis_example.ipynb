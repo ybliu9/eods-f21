{
 "cells": [
  {
   "cell_type": "code",
   "execution_count": 1,
   "metadata": {},
   "outputs": [],
   "source": [
    "import pandas as pd\n",
    "import numpy as np\n",
    "import matplotlib.pyplot\n",
    "import glob\n",
    "import requests\n",
    "import tarfile\n",
    "import tqdm\n",
    "import os"
   ]
  },
  {
   "cell_type": "markdown",
   "metadata": {},
   "source": [
    "## From: Python Machine Learning by Raschka and Mirjalili"
   ]
  },
  {
   "cell_type": "markdown",
   "metadata": {},
   "source": [
    "---"
   ]
  },
  {
   "cell_type": "markdown",
   "metadata": {},
   "source": [
    "## Get the data"
   ]
  },
  {
   "cell_type": "code",
   "execution_count": 2,
   "metadata": {},
   "outputs": [],
   "source": [
    "# only need to rerun if csv's are not in ../data\n",
    "\n",
    "imdb_url = 'http://ai.stanford.edu/~amaas/data/sentiment/'\n",
    "imdb_tar = 'aclImdb_v1.tar.gz'\n",
    "data_base = '../data/'\n",
    "imdb_base = 'aclImdb'\n",
    "imdb_csv = 'acl_imdb_data.csv'\n",
    "\n",
    "if not glob.glob(os.path.join(data_base,imdb_tar)):\n",
    "    req = requests.get(imdb_url+imdb_tar)\n",
    "    open('../data/'+imdb_tar,'wb').write(req.content)\n",
    "\n",
    "if not glob.glob(os.path.join(data_base,imdb_base)):\n",
    "    with tarfile.open(os.path.join(data_base,imdb_tar),'r:gz') as tar:\n",
    "            tar.extractall(path=data_base)\n",
    "if not glob.glob(os.path.join(data_base,imdb_csv)):\n",
    "    labels = {'pos':1,'neg':0}\n",
    "    df = pd.DataFrame()\n",
    "    with tqdm.tqdm(total=50000) as pbar:\n",
    "        for s in ('test','train'):\n",
    "            for l in ('pos','neg'):\n",
    "                path = os.path.join(data_base,imdb_base,s,l)\n",
    "                for file in sorted(os.listdir(path)):\n",
    "                    with open(os.path.join(path,file),\n",
    "                              'r', encoding='utf-8') as infile:\n",
    "                        txt = infile.read()\n",
    "                    df = df.append([[txt, labels[l]]],ignore_index=True)\n",
    "                    pbar.update()\n",
    "    df.columns = ['review','sentiment']\n",
    "    \n",
    "    np.random.seed(0)\n",
    "    df = df.reindex(np.random.permutation(df.index))\n",
    "    df.to_csv('../data/acl_imdb_data.csv',index=False,encoding='utf-8')"
   ]
  },
  {
   "cell_type": "code",
   "execution_count": 3,
   "metadata": {},
   "outputs": [
    {
     "name": "stdout",
     "output_type": "stream",
     "text": [
      "<class 'pandas.core.frame.DataFrame'>\n",
      "RangeIndex: 50000 entries, 0 to 49999\n",
      "Data columns (total 2 columns):\n",
      " #   Column     Non-Null Count  Dtype \n",
      "---  ------     --------------  ----- \n",
      " 0   review     50000 non-null  object\n",
      " 1   sentiment  50000 non-null  int64 \n",
      "dtypes: int64(1), object(1)\n",
      "memory usage: 781.4+ KB\n"
     ]
    }
   ],
   "source": [
    "df = pd.read_csv('../data/acl_imdb_data.csv',encoding='utf-8')\n",
    "df.info()"
   ]
  },
  {
   "cell_type": "code",
   "execution_count": 4,
   "metadata": {},
   "outputs": [
    {
     "data": {
      "text/html": [
       "<div>\n",
       "<style scoped>\n",
       "    .dataframe tbody tr th:only-of-type {\n",
       "        vertical-align: middle;\n",
       "    }\n",
       "\n",
       "    .dataframe tbody tr th {\n",
       "        vertical-align: top;\n",
       "    }\n",
       "\n",
       "    .dataframe thead th {\n",
       "        text-align: right;\n",
       "    }\n",
       "</style>\n",
       "<table border=\"1\" class=\"dataframe\">\n",
       "  <thead>\n",
       "    <tr style=\"text-align: right;\">\n",
       "      <th></th>\n",
       "      <th>review</th>\n",
       "      <th>sentiment</th>\n",
       "    </tr>\n",
       "  </thead>\n",
       "  <tbody>\n",
       "    <tr>\n",
       "      <th>0</th>\n",
       "      <td>In 1974, the teenager Martha Moxley (Maggie Gr...</td>\n",
       "      <td>1</td>\n",
       "    </tr>\n",
       "    <tr>\n",
       "      <th>1</th>\n",
       "      <td>OK... so... I really like Kris Kristofferson a...</td>\n",
       "      <td>0</td>\n",
       "    </tr>\n",
       "    <tr>\n",
       "      <th>2</th>\n",
       "      <td>***SPOILER*** Do not read this, if you think a...</td>\n",
       "      <td>0</td>\n",
       "    </tr>\n",
       "  </tbody>\n",
       "</table>\n",
       "</div>"
      ],
      "text/plain": [
       "                                              review  sentiment\n",
       "0  In 1974, the teenager Martha Moxley (Maggie Gr...          1\n",
       "1  OK... so... I really like Kris Kristofferson a...          0\n",
       "2  ***SPOILER*** Do not read this, if you think a...          0"
      ]
     },
     "execution_count": 4,
     "metadata": {},
     "output_type": "execute_result"
    }
   ],
   "source": [
    "df.head(3)"
   ]
  },
  {
   "cell_type": "markdown",
   "metadata": {},
   "source": [
    "---"
   ]
  },
  {
   "cell_type": "markdown",
   "metadata": {},
   "source": [
    "## Transform Data"
   ]
  },
  {
   "cell_type": "code",
   "execution_count": 5,
   "metadata": {},
   "outputs": [
    {
     "data": {
      "text/plain": [
       "'OK... so... I really like Kris Kristofferson and his'"
      ]
     },
     "execution_count": 5,
     "metadata": {},
     "output_type": "execute_result"
    }
   ],
   "source": [
    "test_doc = df.loc[1,'review'][:52]\n",
    "test_doc"
   ]
  },
  {
   "cell_type": "code",
   "execution_count": 6,
   "metadata": {},
   "outputs": [],
   "source": [
    "# preprocess the text to remove html tags, normalize emoticons, remove other non-word characters and lowercase\n",
    "import re\n",
    "def preprocessor(text):\n",
    "    text = re.sub('<[^>]*>','',text)                             # remove html tags\n",
    "    emoticons = re.findall('(?::|;|=)(?:-)?(?:\\)|\\(|D|P)',text)  # find emoticons, see https://regex101.com/\n",
    "    # remove non-word chars, lowercase, add back in emoticons\n",
    "    text = (re.sub('[\\W]+',' ',text.lower()) + ' '.join(emoticons).replace('-','')) \n",
    "    return text"
   ]
  },
  {
   "cell_type": "code",
   "execution_count": 7,
   "metadata": {},
   "outputs": [
    {
     "data": {
      "text/plain": [
       "'this is a test :) :( :)'"
      ]
     },
     "execution_count": 7,
     "metadata": {},
     "output_type": "execute_result"
    }
   ],
   "source": [
    "preprocessor(\"</a>This :) is :( a test :-)!\")"
   ]
  },
  {
   "cell_type": "code",
   "execution_count": 8,
   "metadata": {},
   "outputs": [
    {
     "data": {
      "text/plain": [
       "'ok so i really like kris kristofferson and his'"
      ]
     },
     "execution_count": 8,
     "metadata": {},
     "output_type": "execute_result"
    }
   ],
   "source": [
    "preprocessor(test_doc)"
   ]
  },
  {
   "cell_type": "code",
   "execution_count": 9,
   "metadata": {},
   "outputs": [],
   "source": [
    "# We'll do this once here to speed up the grid search later on\n",
    "df['review_processed'] = df.review.apply(preprocessor)"
   ]
  },
  {
   "cell_type": "code",
   "execution_count": 10,
   "metadata": {},
   "outputs": [
    {
     "data": {
      "text/plain": [
       "'ok so i really like kris kristofferson and his'"
      ]
     },
     "execution_count": 10,
     "metadata": {},
     "output_type": "execute_result"
    }
   ],
   "source": [
    "test_doc_processed = preprocessor(test_doc)\n",
    "test_doc_processed"
   ]
  },
  {
   "cell_type": "markdown",
   "metadata": {},
   "source": [
    "## Different Tokenizers"
   ]
  },
  {
   "cell_type": "code",
   "execution_count": 11,
   "metadata": {},
   "outputs": [],
   "source": [
    "def tokenizer(text):\n",
    "    return text.split() # split on whitespace"
   ]
  },
  {
   "cell_type": "code",
   "execution_count": 12,
   "metadata": {},
   "outputs": [
    {
     "data": {
      "text/plain": [
       "['ok', 'so', 'i', 'really', 'like', 'kris', 'kristofferson', 'and', 'his']"
      ]
     },
     "execution_count": 12,
     "metadata": {},
     "output_type": "execute_result"
    }
   ],
   "source": [
    "tokenizer(preprocessor(test_doc_processed))"
   ]
  },
  {
   "cell_type": "code",
   "execution_count": 13,
   "metadata": {},
   "outputs": [],
   "source": [
    "# need to run: conda install -n eods-s21 nltk\n",
    "from nltk.stem.porter import PorterStemmer\n",
    "\n",
    "porter = PorterStemmer()\n",
    "def tokenizer_porter(text):\n",
    "    return [porter.stem(word) for word in text.split()]"
   ]
  },
  {
   "cell_type": "code",
   "execution_count": 14,
   "metadata": {},
   "outputs": [
    {
     "data": {
      "text/plain": [
       "['ok', 'so', 'i', 'realli', 'like', 'kri', 'kristofferson', 'and', 'hi']"
      ]
     },
     "execution_count": 14,
     "metadata": {},
     "output_type": "execute_result"
    }
   ],
   "source": [
    "tokenizer_porter(test_doc_processed)"
   ]
  },
  {
   "cell_type": "markdown",
   "metadata": {},
   "source": [
    "---"
   ]
  },
  {
   "cell_type": "markdown",
   "metadata": {},
   "source": [
    "## Train Model"
   ]
  },
  {
   "cell_type": "code",
   "execution_count": 15,
   "metadata": {},
   "outputs": [],
   "source": [
    "from sklearn.model_selection import train_test_split"
   ]
  },
  {
   "cell_type": "code",
   "execution_count": 16,
   "metadata": {},
   "outputs": [],
   "source": [
    "X_train,X_test,y_train,y_test = train_test_split(df.review_processed,df.sentiment)"
   ]
  },
  {
   "cell_type": "code",
   "execution_count": 17,
   "metadata": {},
   "outputs": [],
   "source": [
    "from sklearn.model_selection import GridSearchCV\n",
    "from sklearn.pipeline import Pipeline\n",
    "from sklearn.linear_model import LogisticRegression\n",
    "from sklearn.feature_extraction.text import TfidfVectorizer\n",
    "\n",
    "tfidf = TfidfVectorizer(strip_accents=None,\n",
    "                        lowercase=False,\n",
    "                        preprocessor=None)\n",
    "\n",
    "lr_tfidf = Pipeline([('vect',tfidf),\n",
    "                     ('clf',LogisticRegression(random_state=0,solver='liblinear'))])"
   ]
  },
  {
   "cell_type": "code",
   "execution_count": 18,
   "metadata": {},
   "outputs": [
    {
     "name": "stdout",
     "output_type": "stream",
     "text": [
      "Fitting 3 folds for each of 72 candidates, totalling 216 fits\n"
     ]
    },
    {
     "data": {
      "text/plain": [
       "GridSearchCV(cv=3,\n",
       "             estimator=Pipeline(steps=[('vect',\n",
       "                                        TfidfVectorizer(lowercase=False)),\n",
       "                                       ('clf',\n",
       "                                        LogisticRegression(random_state=0,\n",
       "                                                           solver='liblinear'))]),\n",
       "             n_jobs=-1,\n",
       "             param_grid=[{'clf__C': [1.0, 10.0, 100.0],\n",
       "                          'clf__penalty': ['l1', 'l2'],\n",
       "                          'vect__max_df': [0.25, 0.5, 0.75],\n",
       "                          'vect__ngram_range': [(1, 1)],\n",
       "                          'vect__tokenizer': [<function tokenizer at 0x7f8fedc668b0>,\n",
       "                                              <function tokenizer_porter at 0x7f8fedc669d0>]},\n",
       "                         {'clf__C': [1.0, 10.0, 100.0],\n",
       "                          'clf__penalty': ['l1', 'l2'],\n",
       "                          'vect__max_df': [0.25, 0.5, 0.75],\n",
       "                          'vect__ngram_range': [(1, 1)], 'vect__norm': [None],\n",
       "                          'vect__tokenizer': [<function tokenizer at 0x7f8fedc668b0>,\n",
       "                                              <function tokenizer_porter at 0x7f8fedc669d0>],\n",
       "                          'vect__use_idf': [False]}],\n",
       "             scoring='accuracy', verbose=2)"
      ]
     },
     "execution_count": 18,
     "metadata": {},
     "output_type": "execute_result"
    }
   ],
   "source": [
    "# NOTE!! This step takes a long time: ~1 hour on 8-core i7 @ 1.8 GHz\n",
    "\n",
    "# try with two different parameter grids, one using tfidf, the other only tf\n",
    "param_grid = [{'vect__ngram_range': [(1,1)],\n",
    "               'vect__max_df':[.25,.5,.75],\n",
    "               'vect__tokenizer': [tokenizer,tokenizer_porter], # try with and without stemming\n",
    "               'clf__penalty': ['l1','l2'],\n",
    "               'clf__C':[1.0,10.0,100.0],},\n",
    "              {'vect__ngram_range': [(1,1)],\n",
    "               'vect__max_df':[.25,.5,.75],\n",
    "               'vect__tokenizer': [tokenizer,tokenizer_porter],\n",
    "               'vect__use_idf': [False],                        # try using term frequencies without tf-idf\n",
    "               'vect__norm': [None],                            # turn off norming when using tf\n",
    "               'clf__penalty':['l1','l2'],\n",
    "               'clf__C': [1.0,10.0,100.0]\n",
    "              }\n",
    "             ]\n",
    "\n",
    "gs_lr_tfidf = GridSearchCV(lr_tfidf, param_grid, scoring='accuracy', cv=3, verbose=2, n_jobs=-1)\n",
    "gs_lr_tfidf.fit(X_train,y_train)"
   ]
  },
  {
   "cell_type": "code",
   "execution_count": 19,
   "metadata": {},
   "outputs": [
    {
     "name": "stdout",
     "output_type": "stream",
     "text": [
      "Best parameter set: {'clf__C': 10.0, 'clf__penalty': 'l2', 'vect__max_df': 0.75, 'vect__ngram_range': (1, 1), 'vect__tokenizer': <function tokenizer at 0x7f8fedc668b0>}\n",
      "CV Accuracy: 0.898\n"
     ]
    }
   ],
   "source": [
    "print(f'Best parameter set: {gs_lr_tfidf.best_params_}')\n",
    "print(f'CV Accuracy: {gs_lr_tfidf.best_score_:0.3f}')"
   ]
  },
  {
   "cell_type": "code",
   "execution_count": 20,
   "metadata": {},
   "outputs": [
    {
     "name": "stdout",
     "output_type": "stream",
     "text": [
      "Test Accuracy: 0.904\n"
     ]
    }
   ],
   "source": [
    "clf = gs_lr_tfidf.best_estimator_\n",
    "print(f'Test Accuracy: {clf.score(X_test, y_test):0.3f}')"
   ]
  },
  {
   "cell_type": "code",
   "execution_count": 21,
   "metadata": {},
   "outputs": [
    {
     "data": {
      "text/plain": [
       "0.49896"
      ]
     },
     "execution_count": 21,
     "metadata": {},
     "output_type": "execute_result"
    }
   ],
   "source": [
    "(y_test == 1).sum() / len(y_test)"
   ]
  },
  {
   "cell_type": "code",
   "execution_count": 22,
   "metadata": {},
   "outputs": [
    {
     "data": {
      "text/plain": [
       "(array([1]), array([[0., 1.]]))"
      ]
     },
     "execution_count": 22,
     "metadata": {},
     "output_type": "execute_result"
    }
   ],
   "source": [
    "gs_lr_tfidf.predict(['this was great']),np.round(gs_lr_tfidf.predict_proba(['this was great']))"
   ]
  },
  {
   "cell_type": "code",
   "execution_count": 23,
   "metadata": {},
   "outputs": [
    {
     "data": {
      "text/plain": [
       "(array([0]), array([[1., 0.]]))"
      ]
     },
     "execution_count": 23,
     "metadata": {},
     "output_type": "execute_result"
    }
   ],
   "source": [
    "gs_lr_tfidf.predict(['this was bad']),np.round(gs_lr_tfidf.predict_proba(['this was bad']),2)"
   ]
  },
  {
   "cell_type": "code",
   "execution_count": 24,
   "metadata": {},
   "outputs": [
    {
     "data": {
      "text/plain": [
       "(array([0]), array([[1., 0.]]))"
      ]
     },
     "execution_count": 24,
     "metadata": {},
     "output_type": "execute_result"
    },
    {
     "name": "stdout",
     "output_type": "stream",
     "text": [
      "[CV] END clf__C=1.0, clf__penalty=l1, vect__max_df=0.25, vect__ngram_range=(1, 1), vect__tokenizer=<function tokenizer_porter at 0x7f74a9152310>; total time= 5.9min\n",
      "[CV] END clf__C=1.0, clf__penalty=l2, vect__max_df=0.25, vect__ngram_range=(1, 1), vect__tokenizer=<function tokenizer at 0x7f74a9152280>; total time=  10.7s\n",
      "[CV] END clf__C=1.0, clf__penalty=l2, vect__max_df=0.25, vect__ngram_range=(1, 1), vect__tokenizer=<function tokenizer_porter at 0x7f74a9152430>; total time= 5.4min\n",
      "[CV] END clf__C=1.0, clf__penalty=l2, vect__max_df=0.75, vect__ngram_range=(1, 1), vect__tokenizer=<function tokenizer_porter at 0x7f74a9152160>; total time= 5.4min\n",
      "[CV] END clf__C=10.0, clf__penalty=l1, vect__max_df=0.75, vect__ngram_range=(1, 1), vect__tokenizer=<function tokenizer at 0x7f74a9152310>; total time=  13.6s\n",
      "[CV] END clf__C=10.0, clf__penalty=l1, vect__max_df=0.75, vect__ngram_range=(1, 1), vect__tokenizer=<function tokenizer_porter at 0x7f74a91520d0>; total time= 5.4min\n",
      "[CV] END clf__C=10.0, clf__penalty=l2, vect__max_df=0.5, vect__ngram_range=(1, 1), vect__tokenizer=<function tokenizer_porter at 0x7f74a91524c0>; total time= 5.2min\n",
      "[CV] END clf__C=100.0, clf__penalty=l1, vect__max_df=0.5, vect__ngram_range=(1, 1), vect__tokenizer=<function tokenizer_porter at 0x7f74a91523a0>; total time= 5.3min\n",
      "[CV] END clf__C=100.0, clf__penalty=l2, vect__max_df=0.5, vect__ngram_range=(1, 1), vect__tokenizer=<function tokenizer at 0x7f74a91521f0>; total time=  13.5s\n",
      "[CV] END clf__C=100.0, clf__penalty=l2, vect__max_df=0.5, vect__ngram_range=(1, 1), vect__tokenizer=<function tokenizer at 0x7f74a9152280>; total time=  12.5s\n",
      "[CV] END clf__C=100.0, clf__penalty=l2, vect__max_df=0.5, vect__ngram_range=(1, 1), vect__tokenizer=<function tokenizer at 0x7f74a9152430>; total time=  12.7s\n",
      "[CV] END clf__C=100.0, clf__penalty=l2, vect__max_df=0.5, vect__ngram_range=(1, 1), vect__tokenizer=<function tokenizer_porter at 0x7f74a9152160>; total time= 5.4min\n",
      "[CV] END clf__C=1.0, clf__penalty=l1, vect__max_df=0.5, vect__ngram_range=(1, 1), vect__norm=None, vect__tokenizer=<function tokenizer at 0x7f74a9152310>, vect__use_idf=False; total time=  10.5s\n",
      "[CV] END clf__C=1.0, clf__penalty=l1, vect__max_df=0.5, vect__ngram_range=(1, 1), vect__norm=None, vect__tokenizer=<function tokenizer at 0x7f74a91520d0>, vect__use_idf=False; total time=  10.6s\n",
      "[CV] END clf__C=1.0, clf__penalty=l1, vect__max_df=0.5, vect__ngram_range=(1, 1), vect__norm=None, vect__tokenizer=<function tokenizer_porter at 0x7f74a91524c0>, vect__use_idf=False; total time= 5.3min\n",
      "[CV] END clf__C=1.0, clf__penalty=l2, vect__max_df=0.5, vect__ngram_range=(1, 1), vect__norm=None, vect__tokenizer=<function tokenizer at 0x7f74a91523a0>, vect__use_idf=False; total time=  15.2s\n",
      "[CV] END clf__C=1.0, clf__penalty=l2, vect__max_df=0.5, vect__ngram_range=(1, 1), vect__norm=None, vect__tokenizer=<function tokenizer at 0x7f74a91521f0>, vect__use_idf=False; total time=  18.3s\n",
      "[CV] END clf__C=1.0, clf__penalty=l2, vect__max_df=0.5, vect__ngram_range=(1, 1), vect__norm=None, vect__tokenizer=<function tokenizer_porter at 0x7f74a9152280>, vect__use_idf=False; total time= 5.6min\n",
      "[CV] END clf__C=10.0, clf__penalty=l1, vect__max_df=0.5, vect__ngram_range=(1, 1), vect__norm=None, vect__tokenizer=<function tokenizer at 0x7f74a9152430>, vect__use_idf=False; total time=  11.7s\n",
      "[CV] END clf__C=10.0, clf__penalty=l1, vect__max_df=0.5, vect__ngram_range=(1, 1), vect__norm=None, vect__tokenizer=<function tokenizer_porter at 0x7f74a9152160>, vect__use_idf=False; total time=523.0min\n",
      "[CV] END clf__C=10.0, clf__penalty=l2, vect__max_df=0.25, vect__ngram_range=(1, 1), vect__norm=None, vect__tokenizer=<function tokenizer_porter at 0x7f74a9152310>, vect__use_idf=False; total time= 5.6min\n",
      "[CV] END clf__C=100.0, clf__penalty=l1, vect__max_df=0.25, vect__ngram_range=(1, 1), vect__norm=None, vect__tokenizer=<function tokenizer at 0x7f74a91520d0>, vect__use_idf=False; total time=  10.2s\n",
      "[CV] END clf__C=100.0, clf__penalty=l1, vect__max_df=0.25, vect__ngram_range=(1, 1), vect__norm=None, vect__tokenizer=<function tokenizer_porter at 0x7f74a91524c0>, vect__use_idf=False; total time= 5.2min\n",
      "[CV] END clf__C=100.0, clf__penalty=l2, vect__max_df=0.25, vect__ngram_range=(1, 1), vect__norm=None, vect__tokenizer=<function tokenizer at 0x7f74a91523a0>, vect__use_idf=False; total time=  17.9s\n",
      "[CV] END clf__C=100.0, clf__penalty=l2, vect__max_df=0.25, vect__ngram_range=(1, 1), vect__norm=None, vect__tokenizer=<function tokenizer at 0x7f74a91521f0>, vect__use_idf=False; total time=  16.5s\n",
      "[CV] END clf__C=100.0, clf__penalty=l2, vect__max_df=0.25, vect__ngram_range=(1, 1), vect__norm=None, vect__tokenizer=<function tokenizer at 0x7f74a9152280>, vect__use_idf=False; total time=  16.6s\n",
      "[CV] END clf__C=100.0, clf__penalty=l2, vect__max_df=0.25, vect__ngram_range=(1, 1), vect__norm=None, vect__tokenizer=<function tokenizer_porter at 0x7f74a9152430>, vect__use_idf=False; total time= 6.4min\n",
      "[CV] END clf__C=1.0, clf__penalty=l1, vect__max_df=0.25, vect__ngram_range=(1, 1), vect__tokenizer=<function tokenizer_porter at 0x7f1851fcd310>; total time= 5.9min\n",
      "[CV] END clf__C=1.0, clf__penalty=l1, vect__max_df=0.75, vect__ngram_range=(1, 1), vect__tokenizer=<function tokenizer_porter at 0x7f1851fcd280>; total time= 5.5min\n",
      "[CV] END clf__C=1.0, clf__penalty=l2, vect__max_df=0.75, vect__ngram_range=(1, 1), vect__tokenizer=<function tokenizer_porter at 0x7f1851fcd430>; total time= 5.5min\n",
      "[CV] END clf__C=10.0, clf__penalty=l1, vect__max_df=0.75, vect__ngram_range=(1, 1), vect__tokenizer=<function tokenizer at 0x7f1851fcd160>; total time=  12.2s\n",
      "[CV] END clf__C=10.0, clf__penalty=l1, vect__max_df=0.75, vect__ngram_range=(1, 1), vect__tokenizer=<function tokenizer_porter at 0x7f1851fcd310>; total time= 5.4min\n",
      "[CV] END clf__C=10.0, clf__penalty=l2, vect__max_df=0.75, vect__ngram_range=(1, 1), vect__tokenizer=<function tokenizer at 0x7f1851fcd0d0>; total time=  11.8s\n",
      "[CV] END clf__C=10.0, clf__penalty=l2, vect__max_df=0.75, vect__ngram_range=(1, 1), vect__tokenizer=<function tokenizer at 0x7f1851fcd4c0>; total time=  11.7s\n",
      "[CV] END clf__C=10.0, clf__penalty=l2, vect__max_df=0.75, vect__ngram_range=(1, 1), vect__tokenizer=<function tokenizer_porter at 0x7f1851fcd3a0>; total time= 5.4min\n",
      "[CV] END clf__C=100.0, clf__penalty=l1, vect__max_df=0.75, vect__ngram_range=(1, 1), vect__tokenizer=<function tokenizer at 0x7f1851fcd1f0>; total time=  11.5s\n",
      "[CV] END clf__C=100.0, clf__penalty=l1, vect__max_df=0.75, vect__ngram_range=(1, 1), vect__tokenizer=<function tokenizer_porter at 0x7f1851fcd280>; total time= 5.3min\n",
      "[CV] END clf__C=100.0, clf__penalty=l2, vect__max_df=0.75, vect__ngram_range=(1, 1), vect__tokenizer=<function tokenizer at 0x7f1851fcd430>; total time=  14.4s\n",
      "[CV] END clf__C=100.0, clf__penalty=l2, vect__max_df=0.75, vect__ngram_range=(1, 1), vect__tokenizer=<function tokenizer at 0x7f1851fcd160>; total time=  14.3s\n",
      "[CV] END clf__C=100.0, clf__penalty=l2, vect__max_df=0.75, vect__ngram_range=(1, 1), vect__tokenizer=<function tokenizer_porter at 0x7f1851fcd310>; total time= 5.3min\n",
      "[CV] END clf__C=1.0, clf__penalty=l1, vect__max_df=0.75, vect__ngram_range=(1, 1), vect__norm=None, vect__tokenizer=<function tokenizer at 0x7f1851fcd0d0>, vect__use_idf=False; total time=  10.6s\n",
      "[CV] END clf__C=1.0, clf__penalty=l1, vect__max_df=0.75, vect__ngram_range=(1, 1), vect__norm=None, vect__tokenizer=<function tokenizer_porter at 0x7f1851fcd4c0>, vect__use_idf=False; total time= 5.3min\n",
      "[CV] END clf__C=1.0, clf__penalty=l2, vect__max_df=0.5, vect__ngram_range=(1, 1), vect__norm=None, vect__tokenizer=<function tokenizer_porter at 0x7f1851fcd3a0>, vect__use_idf=False; total time= 5.6min\n",
      "[CV] END clf__C=10.0, clf__penalty=l1, vect__max_df=0.5, vect__ngram_range=(1, 1), vect__norm=None, vect__tokenizer=<function tokenizer at 0x7f1851fcd1f0>, vect__use_idf=False; total time=  16.4s\n",
      "[CV] END clf__C=10.0, clf__penalty=l1, vect__max_df=0.5, vect__ngram_range=(1, 1), vect__norm=None, vect__tokenizer=<function tokenizer at 0x7f1851fcd280>, vect__use_idf=False; total time=  11.3s\n",
      "[CV] END clf__C=10.0, clf__penalty=l1, vect__max_df=0.5, vect__ngram_range=(1, 1), vect__norm=None, vect__tokenizer=<function tokenizer_porter at 0x7f1851fcd430>, vect__use_idf=False; total time=523.0min\n",
      "[CV] END clf__C=10.0, clf__penalty=l2, vect__max_df=0.5, vect__ngram_range=(1, 1), vect__norm=None, vect__tokenizer=<function tokenizer at 0x7f1851fcd160>, vect__use_idf=False; total time=  21.1s\n",
      "[CV] END clf__C=10.0, clf__penalty=l2, vect__max_df=0.5, vect__ngram_range=(1, 1), vect__norm=None, vect__tokenizer=<function tokenizer at 0x7f1851fcd310>, vect__use_idf=False; total time=  21.9s\n",
      "[CV] END clf__C=10.0, clf__penalty=l2, vect__max_df=0.5, vect__ngram_range=(1, 1), vect__norm=None, vect__tokenizer=<function tokenizer_porter at 0x7f1851fcd0d0>, vect__use_idf=False; total time= 5.6min\n",
      "[CV] END clf__C=100.0, clf__penalty=l1, vect__max_df=0.5, vect__ngram_range=(1, 1), vect__norm=None, vect__tokenizer=<function tokenizer at 0x7f1851fcd4c0>, vect__use_idf=False; total time=  11.9s\n",
      "[CV] END clf__C=100.0, clf__penalty=l1, vect__max_df=0.5, vect__ngram_range=(1, 1), vect__norm=None, vect__tokenizer=<function tokenizer_porter at 0x7f1851fcd3a0>, vect__use_idf=False; total time= 5.3min\n",
      "[CV] END clf__C=100.0, clf__penalty=l2, vect__max_df=0.25, vect__ngram_range=(1, 1), vect__norm=None, vect__tokenizer=<function tokenizer_porter at 0x7f1851fcd1f0>, vect__use_idf=False; total time= 6.6min\n"
     ]
    },
    {
     "name": "stdout",
     "output_type": "stream",
     "text": [
      "[CV] END clf__C=1.0, clf__penalty=l1, vect__max_df=0.25, vect__ngram_range=(1, 1), vect__tokenizer=<function tokenizer at 0x7fceebc23310>; total time=   8.2s\n",
      "[CV] END clf__C=1.0, clf__penalty=l1, vect__max_df=0.5, vect__ngram_range=(1, 1), vect__tokenizer=<function tokenizer_porter at 0x7fceebc23280>; total time= 6.0min\n",
      "[CV] END clf__C=1.0, clf__penalty=l2, vect__max_df=0.25, vect__ngram_range=(1, 1), vect__tokenizer=<function tokenizer_porter at 0x7fcef56a9d30>; total time= 5.4min\n",
      "[CV] END clf__C=10.0, clf__penalty=l1, vect__max_df=0.25, vect__ngram_range=(1, 1), vect__tokenizer=<function tokenizer at 0x7fcef6eab1f0>; total time=  12.4s\n",
      "[CV] END clf__C=10.0, clf__penalty=l1, vect__max_df=0.25, vect__ngram_range=(1, 1), vect__tokenizer=<function tokenizer at 0x7fcef56a9d30>; total time=  10.9s\n",
      "[CV] END clf__C=10.0, clf__penalty=l1, vect__max_df=0.5, vect__ngram_range=(1, 1), vect__tokenizer=<function tokenizer at 0x7fcef6eab1f0>; total time=  13.2s\n",
      "[CV] END clf__C=10.0, clf__penalty=l1, vect__max_df=0.5, vect__ngram_range=(1, 1), vect__tokenizer=<function tokenizer at 0x7fcef56a9d30>; total time=  12.7s\n",
      "[CV] END clf__C=10.0, clf__penalty=l1, vect__max_df=0.5, vect__ngram_range=(1, 1), vect__tokenizer=<function tokenizer_porter at 0x7fcef6eab1f0>; total time= 5.3min\n",
      "[CV] END clf__C=10.0, clf__penalty=l2, vect__max_df=0.5, vect__ngram_range=(1, 1), vect__tokenizer=<function tokenizer at 0x7fcef56a9d30>; total time=  11.8s\n",
      "[CV] END clf__C=10.0, clf__penalty=l2, vect__max_df=0.5, vect__ngram_range=(1, 1), vect__tokenizer=<function tokenizer at 0x7fcef6eab1f0>; total time=  12.1s\n",
      "[CV] END clf__C=10.0, clf__penalty=l2, vect__max_df=0.5, vect__ngram_range=(1, 1), vect__tokenizer=<function tokenizer_porter at 0x7fcef56a9d30>; total time= 5.3min\n",
      "[CV] END clf__C=100.0, clf__penalty=l1, vect__max_df=0.25, vect__ngram_range=(1, 1), vect__tokenizer=<function tokenizer_porter at 0x7fcef6eab1f0>; total time= 5.3min\n",
      "[CV] END clf__C=100.0, clf__penalty=l2, vect__max_df=0.25, vect__ngram_range=(1, 1), vect__tokenizer=<function tokenizer at 0x7fcef56a9d30>; total time=  12.0s\n",
      "[CV] END clf__C=100.0, clf__penalty=l2, vect__max_df=0.25, vect__ngram_range=(1, 1), vect__tokenizer=<function tokenizer at 0x7fcef6eab1f0>; total time=  11.9s\n",
      "[CV] END clf__C=100.0, clf__penalty=l2, vect__max_df=0.25, vect__ngram_range=(1, 1), vect__tokenizer=<function tokenizer_porter at 0x7fcef56a9d30>; total time= 5.3min\n",
      "[CV] END clf__C=1.0, clf__penalty=l1, vect__max_df=0.25, vect__ngram_range=(1, 1), vect__norm=None, vect__tokenizer=<function tokenizer at 0x7fcef6eab1f0>, vect__use_idf=False; total time=  10.1s\n",
      "[CV] END clf__C=1.0, clf__penalty=l1, vect__max_df=0.25, vect__ngram_range=(1, 1), vect__norm=None, vect__tokenizer=<function tokenizer at 0x7fcef56a9d30>, vect__use_idf=False; total time=  10.4s\n",
      "[CV] END clf__C=1.0, clf__penalty=l1, vect__max_df=0.25, vect__ngram_range=(1, 1), vect__norm=None, vect__tokenizer=<function tokenizer at 0x7fcef6eab1f0>, vect__use_idf=False; total time=  10.5s\n",
      "[CV] END clf__C=1.0, clf__penalty=l1, vect__max_df=0.25, vect__ngram_range=(1, 1), vect__norm=None, vect__tokenizer=<function tokenizer_porter at 0x7fcef56a9d30>, vect__use_idf=False; total time= 5.3min\n",
      "[CV] END clf__C=1.0, clf__penalty=l2, vect__max_df=0.25, vect__ngram_range=(1, 1), vect__norm=None, vect__tokenizer=<function tokenizer at 0x7fcef6eab1f0>, vect__use_idf=False; total time=  13.9s\n",
      "[CV] END clf__C=1.0, clf__penalty=l2, vect__max_df=0.25, vect__ngram_range=(1, 1), vect__norm=None, vect__tokenizer=<function tokenizer at 0x7fcef56a9d30>, vect__use_idf=False; total time=  14.0s\n",
      "[CV] END clf__C=1.0, clf__penalty=l2, vect__max_df=0.25, vect__ngram_range=(1, 1), vect__norm=None, vect__tokenizer=<function tokenizer at 0x7fcef6eab1f0>, vect__use_idf=False; total time=  13.5s\n",
      "[CV] END clf__C=1.0, clf__penalty=l2, vect__max_df=0.25, vect__ngram_range=(1, 1), vect__norm=None, vect__tokenizer=<function tokenizer_porter at 0x7fcef56a9d30>, vect__use_idf=False; total time= 5.3min\n",
      "[CV] END clf__C=1.0, clf__penalty=l2, vect__max_df=0.75, vect__ngram_range=(1, 1), vect__norm=None, vect__tokenizer=<function tokenizer_porter at 0x7fcef6eab1f0>, vect__use_idf=False; total time= 5.6min\n",
      "[CV] END clf__C=10.0, clf__penalty=l1, vect__max_df=0.75, vect__ngram_range=(1, 1), vect__norm=None, vect__tokenizer=<function tokenizer at 0x7fcef56a9d30>, vect__use_idf=False; total time=  12.0s\n",
      "[CV] END clf__C=10.0, clf__penalty=l1, vect__max_df=0.75, vect__ngram_range=(1, 1), vect__norm=None, vect__tokenizer=<function tokenizer_porter at 0x7fcef6eab1f0>, vect__use_idf=False; total time=523.0min\n",
      "[CV] END clf__C=10.0, clf__penalty=l2, vect__max_df=0.5, vect__ngram_range=(1, 1), vect__norm=None, vect__tokenizer=<function tokenizer_porter at 0x7fcef56a9d30>, vect__use_idf=False; total time= 5.5min\n",
      "[CV] END clf__C=100.0, clf__penalty=l1, vect__max_df=0.5, vect__ngram_range=(1, 1), vect__norm=None, vect__tokenizer=<function tokenizer at 0x7fcef6eab1f0>, vect__use_idf=False; total time=  10.9s\n",
      "[CV] END clf__C=100.0, clf__penalty=l1, vect__max_df=0.5, vect__ngram_range=(1, 1), vect__norm=None, vect__tokenizer=<function tokenizer at 0x7fcef56a9d30>, vect__use_idf=False; total time=  11.9s\n",
      "[CV] END clf__C=100.0, clf__penalty=l1, vect__max_df=0.5, vect__ngram_range=(1, 1), vect__norm=None, vect__tokenizer=<function tokenizer_porter at 0x7fcef6eab1f0>, vect__use_idf=False; total time= 5.4min\n",
      "[CV] END clf__C=100.0, clf__penalty=l2, vect__max_df=0.5, vect__ngram_range=(1, 1), vect__norm=None, vect__tokenizer=<function tokenizer at 0x7fcef56a9d30>, vect__use_idf=False; total time=  25.0s\n",
      "[CV] END clf__C=100.0, clf__penalty=l2, vect__max_df=0.5, vect__ngram_range=(1, 1), vect__norm=None, vect__tokenizer=<function tokenizer at 0x7fcef6eab1f0>, vect__use_idf=False; total time=  20.7s\n",
      "[CV] END clf__C=100.0, clf__penalty=l2, vect__max_df=0.5, vect__ngram_range=(1, 1), vect__norm=None, vect__tokenizer=<function tokenizer at 0x7fcef56a9d30>, vect__use_idf=False; total time=  22.5s\n",
      "[CV] END clf__C=100.0, clf__penalty=l2, vect__max_df=0.5, vect__ngram_range=(1, 1), vect__norm=None, vect__tokenizer=<function tokenizer_porter at 0x7fcef6eab1f0>, vect__use_idf=False; total time= 6.1min\n",
      "[CV] END clf__C=1.0, clf__penalty=l1, vect__max_df=0.5, vect__ngram_range=(1, 1), vect__tokenizer=<function tokenizer at 0x7f72216f9310>; total time=   7.7s\n",
      "[CV] END clf__C=1.0, clf__penalty=l1, vect__max_df=0.5, vect__ngram_range=(1, 1), vect__tokenizer=<function tokenizer_porter at 0x7f72216f9280>; total time= 6.0min\n",
      "[CV] END clf__C=1.0, clf__penalty=l2, vect__max_df=0.25, vect__ngram_range=(1, 1), vect__tokenizer=<function tokenizer_porter at 0x7f7227180d30>; total time= 5.4min\n",
      "[CV] END clf__C=10.0, clf__penalty=l1, vect__max_df=0.25, vect__ngram_range=(1, 1), vect__tokenizer=<function tokenizer at 0x7f72289811f0>; total time=  12.4s\n",
      "[CV] END clf__C=10.0, clf__penalty=l1, vect__max_df=0.25, vect__ngram_range=(1, 1), vect__tokenizer=<function tokenizer_porter at 0x7f7227180d30>; total time= 5.5min\n",
      "[CV] END clf__C=10.0, clf__penalty=l2, vect__max_df=0.25, vect__ngram_range=(1, 1), vect__tokenizer=<function tokenizer at 0x7f72289811f0>; total time=  11.6s\n",
      "[CV] END clf__C=10.0, clf__penalty=l2, vect__max_df=0.25, vect__ngram_range=(1, 1), vect__tokenizer=<function tokenizer_porter at 0x7f7227180d30>; total time= 5.4min\n",
      "[CV] END clf__C=10.0, clf__penalty=l2, vect__max_df=0.75, vect__ngram_range=(1, 1), vect__tokenizer=<function tokenizer_porter at 0x7f72289811f0>; total time= 5.4min\n",
      "[CV] END clf__C=100.0, clf__penalty=l1, vect__max_df=0.75, vect__ngram_range=(1, 1), vect__tokenizer=<function tokenizer at 0x7f7227180d30>; total time=  11.8s\n",
      "[CV] END clf__C=100.0, clf__penalty=l1, vect__max_df=0.75, vect__ngram_range=(1, 1), vect__tokenizer=<function tokenizer at 0x7f72289811f0>; total time=  11.9s\n",
      "[CV] END clf__C=100.0, clf__penalty=l2, vect__max_df=0.25, vect__ngram_range=(1, 1), vect__tokenizer=<function tokenizer at 0x7f7227180d30>; total time=  12.8s\n",
      "[CV] END clf__C=100.0, clf__penalty=l2, vect__max_df=0.25, vect__ngram_range=(1, 1), vect__tokenizer=<function tokenizer_porter at 0x7f72289811f0>; total time= 5.3min\n",
      "[CV] END clf__C=100.0, clf__penalty=l2, vect__max_df=0.75, vect__ngram_range=(1, 1), vect__tokenizer=<function tokenizer_porter at 0x7f7227180d30>; total time= 5.4min\n",
      "[CV] END clf__C=1.0, clf__penalty=l1, vect__max_df=0.75, vect__ngram_range=(1, 1), vect__norm=None, vect__tokenizer=<function tokenizer at 0x7f72289811f0>, vect__use_idf=False; total time=  10.8s\n",
      "[CV] END clf__C=1.0, clf__penalty=l1, vect__max_df=0.75, vect__ngram_range=(1, 1), vect__norm=None, vect__tokenizer=<function tokenizer at 0x7f7227180d30>, vect__use_idf=False; total time=  11.2s\n",
      "[CV] END clf__C=1.0, clf__penalty=l1, vect__max_df=0.75, vect__ngram_range=(1, 1), vect__norm=None, vect__tokenizer=<function tokenizer_porter at 0x7f72289811f0>, vect__use_idf=False; total time= 5.3min\n",
      "[CV] END clf__C=1.0, clf__penalty=l2, vect__max_df=0.75, vect__ngram_range=(1, 1), vect__norm=None, vect__tokenizer=<function tokenizer at 0x7f7227180d30>, vect__use_idf=False; total time=  18.9s\n",
      "[CV] END clf__C=1.0, clf__penalty=l2, vect__max_df=0.75, vect__ngram_range=(1, 1), vect__norm=None, vect__tokenizer=<function tokenizer at 0x7f72289811f0>, vect__use_idf=False; total time=  21.1s\n",
      "[CV] END clf__C=1.0, clf__penalty=l2, vect__max_df=0.75, vect__ngram_range=(1, 1), vect__norm=None, vect__tokenizer=<function tokenizer_porter at 0x7f7227180d30>, vect__use_idf=False; total time= 5.6min\n",
      "[CV] END clf__C=10.0, clf__penalty=l1, vect__max_df=0.75, vect__ngram_range=(1, 1), vect__norm=None, vect__tokenizer=<function tokenizer at 0x7f72289811f0>, vect__use_idf=False; total time=  11.4s\n",
      "[CV] END clf__C=10.0, clf__penalty=l1, vect__max_df=0.75, vect__ngram_range=(1, 1), vect__norm=None, vect__tokenizer=<function tokenizer at 0x7f7227180d30>, vect__use_idf=False; total time=  12.3s\n",
      "[CV] END clf__C=10.0, clf__penalty=l1, vect__max_df=0.75, vect__ngram_range=(1, 1), vect__norm=None, vect__tokenizer=<function tokenizer_porter at 0x7f72289811f0>, vect__use_idf=False; total time=523.1min\n",
      "[CV] END clf__C=10.0, clf__penalty=l2, vect__max_df=0.75, vect__ngram_range=(1, 1), vect__norm=None, vect__tokenizer=<function tokenizer at 0x7f7227180d30>, vect__use_idf=False; total time=  27.1s\n",
      "[CV] END clf__C=10.0, clf__penalty=l2, vect__max_df=0.75, vect__ngram_range=(1, 1), vect__norm=None, vect__tokenizer=<function tokenizer at 0x7f72289811f0>, vect__use_idf=False; total time=  27.1s\n",
      "[CV] END clf__C=10.0, clf__penalty=l2, vect__max_df=0.75, vect__ngram_range=(1, 1), vect__norm=None, vect__tokenizer=<function tokenizer at 0x7f7227180d30>, vect__use_idf=False; total time=  23.3s\n",
      "[CV] END clf__C=10.0, clf__penalty=l2, vect__max_df=0.75, vect__ngram_range=(1, 1), vect__norm=None, vect__tokenizer=<function tokenizer_porter at 0x7f72289811f0>, vect__use_idf=False; total time= 5.7min\n",
      "[CV] END clf__C=100.0, clf__penalty=l1, vect__max_df=0.5, vect__ngram_range=(1, 1), vect__norm=None, vect__tokenizer=<function tokenizer_porter at 0x7f7227180d30>, vect__use_idf=False; total time= 5.4min\n",
      "[CV] END clf__C=100.0, clf__penalty=l2, vect__max_df=0.5, vect__ngram_range=(1, 1), vect__norm=None, vect__tokenizer=<function tokenizer_porter at 0x7f72289811f0>, vect__use_idf=False; total time= 6.2min\n"
     ]
    },
    {
     "name": "stdout",
     "output_type": "stream",
     "text": [
      "[CV] END clf__C=1.0, clf__penalty=l1, vect__max_df=0.5, vect__ngram_range=(1, 1), vect__tokenizer=<function tokenizer at 0x7f5baffac310>; total time=   8.4s\n",
      "[CV] END clf__C=1.0, clf__penalty=l1, vect__max_df=0.75, vect__ngram_range=(1, 1), vect__tokenizer=<function tokenizer at 0x7f5baffac280>; total time=  10.1s\n",
      "[CV] END clf__C=1.0, clf__penalty=l1, vect__max_df=0.75, vect__ngram_range=(1, 1), vect__tokenizer=<function tokenizer at 0x7f5baffac0d0>; total time=  10.2s\n",
      "[CV] END clf__C=1.0, clf__penalty=l1, vect__max_df=0.75, vect__ngram_range=(1, 1), vect__tokenizer=<function tokenizer_porter at 0x7f5baffac310>; total time= 5.9min\n",
      "[CV] END clf__C=1.0, clf__penalty=l2, vect__max_df=0.5, vect__ngram_range=(1, 1), vect__tokenizer=<function tokenizer_porter at 0x7f5bb9a52d30>; total time= 5.3min\n",
      "[CV] END clf__C=10.0, clf__penalty=l1, vect__max_df=0.25, vect__ngram_range=(1, 1), vect__tokenizer=<function tokenizer_porter at 0x7f5bbb2211f0>; total time= 5.3min\n",
      "[CV] END clf__C=10.0, clf__penalty=l1, vect__max_df=0.75, vect__ngram_range=(1, 1), vect__tokenizer=<function tokenizer at 0x7f5bb9a52d30>; total time=  13.9s\n",
      "[CV] END clf__C=10.0, clf__penalty=l2, vect__max_df=0.25, vect__ngram_range=(1, 1), vect__tokenizer=<function tokenizer at 0x7f5bbb2211f0>; total time=  11.7s\n",
      "[CV] END clf__C=10.0, clf__penalty=l2, vect__max_df=0.25, vect__ngram_range=(1, 1), vect__tokenizer=<function tokenizer at 0x7f5bb9a52d30>; total time=  11.8s\n",
      "[CV] END clf__C=10.0, clf__penalty=l2, vect__max_df=0.25, vect__ngram_range=(1, 1), vect__tokenizer=<function tokenizer_porter at 0x7f5bbb2211f0>; total time= 5.3min\n",
      "[CV] END clf__C=100.0, clf__penalty=l1, vect__max_df=0.25, vect__ngram_range=(1, 1), vect__tokenizer=<function tokenizer at 0x7f5bb9a52d30>; total time=  11.3s\n",
      "[CV] END clf__C=100.0, clf__penalty=l1, vect__max_df=0.25, vect__ngram_range=(1, 1), vect__tokenizer=<function tokenizer at 0x7f5bbb2211f0>; total time=  11.3s\n",
      "[CV] END clf__C=100.0, clf__penalty=l1, vect__max_df=0.25, vect__ngram_range=(1, 1), vect__tokenizer=<function tokenizer_porter at 0x7f5bb9a52d30>; total time= 5.2min\n",
      "[CV] END clf__C=100.0, clf__penalty=l1, vect__max_df=0.75, vect__ngram_range=(1, 1), vect__tokenizer=<function tokenizer_porter at 0x7f5bbb2211f0>; total time= 5.2min\n",
      "[CV] END clf__C=100.0, clf__penalty=l2, vect__max_df=0.5, vect__ngram_range=(1, 1), vect__tokenizer=<function tokenizer_porter at 0x7f5bb9a52d30>; total time= 5.3min\n",
      "[CV] END clf__C=1.0, clf__penalty=l1, vect__max_df=0.5, vect__ngram_range=(1, 1), vect__norm=None, vect__tokenizer=<function tokenizer at 0x7f5bbb2211f0>, vect__use_idf=False; total time=  10.8s\n",
      "[CV] END clf__C=1.0, clf__penalty=l1, vect__max_df=0.5, vect__ngram_range=(1, 1), vect__norm=None, vect__tokenizer=<function tokenizer_porter at 0x7f5bb9a52d30>, vect__use_idf=False; total time= 5.2min\n",
      "[CV] END clf__C=1.0, clf__penalty=l2, vect__max_df=0.25, vect__ngram_range=(1, 1), vect__norm=None, vect__tokenizer=<function tokenizer_porter at 0x7f5bbb2211f0>, vect__use_idf=False; total time= 5.4min\n",
      "[CV] END clf__C=10.0, clf__penalty=l1, vect__max_df=0.25, vect__ngram_range=(1, 1), vect__norm=None, vect__tokenizer=<function tokenizer_porter at 0x7f5bb9a52d30>, vect__use_idf=False; total time=522.9min\n",
      "[CV] END clf__C=10.0, clf__penalty=l1, vect__max_df=0.75, vect__ngram_range=(1, 1), vect__norm=None, vect__tokenizer=<function tokenizer_porter at 0x7f5bbb2211f0>, vect__use_idf=False; total time= 5.4min\n",
      "[CV] END clf__C=10.0, clf__penalty=l2, vect__max_df=0.75, vect__ngram_range=(1, 1), vect__norm=None, vect__tokenizer=<function tokenizer_porter at 0x7f5bb9a52d30>, vect__use_idf=False; total time= 5.5min\n",
      "[CV] END clf__C=100.0, clf__penalty=l1, vect__max_df=0.75, vect__ngram_range=(1, 1), vect__norm=None, vect__tokenizer=<function tokenizer at 0x7f5bbb2211f0>, vect__use_idf=False; total time=  11.2s\n",
      "[CV] END clf__C=100.0, clf__penalty=l1, vect__max_df=0.75, vect__ngram_range=(1, 1), vect__norm=None, vect__tokenizer=<function tokenizer at 0x7f5bb9a52d30>, vect__use_idf=False; total time=  12.2s\n",
      "[CV] END clf__C=100.0, clf__penalty=l1, vect__max_df=0.75, vect__ngram_range=(1, 1), vect__norm=None, vect__tokenizer=<function tokenizer at 0x7f5bbb2211f0>, vect__use_idf=False; total time=  11.1s\n",
      "[CV] END clf__C=100.0, clf__penalty=l1, vect__max_df=0.75, vect__ngram_range=(1, 1), vect__norm=None, vect__tokenizer=<function tokenizer_porter at 0x7f5bb9a52d30>, vect__use_idf=False; total time= 5.9min\n",
      "[CV] END clf__C=100.0, clf__penalty=l2, vect__max_df=0.5, vect__ngram_range=(1, 1), vect__norm=None, vect__tokenizer=<function tokenizer_porter at 0x7f5bbb2211f0>, vect__use_idf=False; total time= 4.8min\n",
      "[CV] END clf__C=1.0, clf__penalty=l1, vect__max_df=0.25, vect__ngram_range=(1, 1), vect__tokenizer=<function tokenizer_porter at 0x7f66044b9310>; total time= 5.9min\n",
      "[CV] END clf__C=1.0, clf__penalty=l2, vect__max_df=0.25, vect__ngram_range=(1, 1), vect__tokenizer=<function tokenizer at 0x7f66044b9280>; total time=  10.9s\n",
      "[CV] END clf__C=1.0, clf__penalty=l2, vect__max_df=0.25, vect__ngram_range=(1, 1), vect__tokenizer=<function tokenizer at 0x7f66044b9430>; total time=  11.0s\n",
      "[CV] END clf__C=1.0, clf__penalty=l2, vect__max_df=0.5, vect__ngram_range=(1, 1), vect__tokenizer=<function tokenizer at 0x7f66044b9160>; total time=  10.8s\n",
      "[CV] END clf__C=1.0, clf__penalty=l2, vect__max_df=0.5, vect__ngram_range=(1, 1), vect__tokenizer=<function tokenizer_porter at 0x7f66044b9310>; total time= 5.4min\n",
      "[CV] END clf__C=10.0, clf__penalty=l1, vect__max_df=0.25, vect__ngram_range=(1, 1), vect__tokenizer=<function tokenizer_porter at 0x7f66044b90d0>; total time= 5.4min\n",
      "[CV] END clf__C=10.0, clf__penalty=l1, vect__max_df=0.75, vect__ngram_range=(1, 1), vect__tokenizer=<function tokenizer_porter at 0x7f66044b94c0>; total time= 5.4min\n",
      "[CV] END clf__C=10.0, clf__penalty=l2, vect__max_df=0.75, vect__ngram_range=(1, 1), vect__tokenizer=<function tokenizer at 0x7f66044b93a0>; total time=  12.1s\n",
      "[CV] END clf__C=10.0, clf__penalty=l2, vect__max_df=0.75, vect__ngram_range=(1, 1), vect__tokenizer=<function tokenizer_porter at 0x7f66044b91f0>; total time= 5.3min\n",
      "[CV] END clf__C=100.0, clf__penalty=l1, vect__max_df=0.5, vect__ngram_range=(1, 1), vect__tokenizer=<function tokenizer_porter at 0x7f66044b9280>; total time= 5.3min\n",
      "[CV] END clf__C=100.0, clf__penalty=l2, vect__max_df=0.5, vect__ngram_range=(1, 1), vect__tokenizer=<function tokenizer_porter at 0x7f66044b9430>; total time= 5.3min\n",
      "[CV] END clf__C=1.0, clf__penalty=l1, vect__max_df=0.25, vect__ngram_range=(1, 1), vect__norm=None, vect__tokenizer=<function tokenizer_porter at 0x7f66044b9160>, vect__use_idf=False; total time= 5.2min\n",
      "[CV] END clf__C=1.0, clf__penalty=l2, vect__max_df=0.25, vect__ngram_range=(1, 1), vect__norm=None, vect__tokenizer=<function tokenizer_porter at 0x7f66044b9310>, vect__use_idf=False; total time= 5.4min\n",
      "[CV] END clf__C=10.0, clf__penalty=l1, vect__max_df=0.25, vect__ngram_range=(1, 1), vect__norm=None, vect__tokenizer=<function tokenizer at 0x7f66044b90d0>, vect__use_idf=False; total time=  11.2s\n",
      "[CV] END clf__C=10.0, clf__penalty=l1, vect__max_df=0.25, vect__ngram_range=(1, 1), vect__norm=None, vect__tokenizer=<function tokenizer at 0x7f66044b94c0>, vect__use_idf=False; total time=  11.5s\n",
      "[CV] END clf__C=10.0, clf__penalty=l1, vect__max_df=0.25, vect__ngram_range=(1, 1), vect__norm=None, vect__tokenizer=<function tokenizer at 0x7f66044b93a0>, vect__use_idf=False; total time=  11.6s\n",
      "[CV] END clf__C=10.0, clf__penalty=l1, vect__max_df=0.25, vect__ngram_range=(1, 1), vect__norm=None, vect__tokenizer=<function tokenizer_porter at 0x7f66044b91f0>, vect__use_idf=False; total time=523.0min\n",
      "[CV] END clf__C=10.0, clf__penalty=l2, vect__max_df=0.25, vect__ngram_range=(1, 1), vect__norm=None, vect__tokenizer=<function tokenizer at 0x7f66044b9280>, vect__use_idf=False; total time=  17.0s\n",
      "[CV] END clf__C=10.0, clf__penalty=l2, vect__max_df=0.25, vect__ngram_range=(1, 1), vect__norm=None, vect__tokenizer=<function tokenizer at 0x7f66044b9430>, vect__use_idf=False; total time=  16.9s\n",
      "[CV] END clf__C=10.0, clf__penalty=l2, vect__max_df=0.25, vect__ngram_range=(1, 1), vect__norm=None, vect__tokenizer=<function tokenizer at 0x7f66044b9160>, vect__use_idf=False; total time=  15.8s\n",
      "[CV] END clf__C=10.0, clf__penalty=l2, vect__max_df=0.25, vect__ngram_range=(1, 1), vect__norm=None, vect__tokenizer=<function tokenizer_porter at 0x7f66044b9310>, vect__use_idf=False; total time= 5.5min\n",
      "[CV] END clf__C=100.0, clf__penalty=l1, vect__max_df=0.25, vect__ngram_range=(1, 1), vect__norm=None, vect__tokenizer=<function tokenizer at 0x7f66044b90d0>, vect__use_idf=False; total time=  11.9s\n",
      "[CV] END clf__C=100.0, clf__penalty=l1, vect__max_df=0.25, vect__ngram_range=(1, 1), vect__norm=None, vect__tokenizer=<function tokenizer at 0x7f66044b94c0>, vect__use_idf=False; total time=  11.0s\n",
      "[CV] END clf__C=100.0, clf__penalty=l1, vect__max_df=0.25, vect__ngram_range=(1, 1), vect__norm=None, vect__tokenizer=<function tokenizer_porter at 0x7f66044b93a0>, vect__use_idf=False; total time= 5.3min\n",
      "[CV] END clf__C=100.0, clf__penalty=l1, vect__max_df=0.75, vect__ngram_range=(1, 1), vect__norm=None, vect__tokenizer=<function tokenizer_porter at 0x7f66044b91f0>, vect__use_idf=False; total time= 6.2min\n",
      "[CV] END clf__C=100.0, clf__penalty=l2, vect__max_df=0.75, vect__ngram_range=(1, 1), vect__norm=None, vect__tokenizer=<function tokenizer at 0x7f66044b9280>, vect__use_idf=False; total time=  36.0s\n",
      "[CV] END clf__C=100.0, clf__penalty=l2, vect__max_df=0.75, vect__ngram_range=(1, 1), vect__norm=None, vect__tokenizer=<function tokenizer_porter at 0x7f66044b9430>, vect__use_idf=False; total time= 3.8min\n"
     ]
    },
    {
     "name": "stdout",
     "output_type": "stream",
     "text": [
      "[CV] END clf__C=1.0, clf__penalty=l1, vect__max_df=0.25, vect__ngram_range=(1, 1), vect__tokenizer=<function tokenizer at 0x7fd065239310>; total time=   8.3s\n",
      "[CV] END clf__C=1.0, clf__penalty=l1, vect__max_df=0.5, vect__ngram_range=(1, 1), vect__tokenizer=<function tokenizer_porter at 0x7fd065239280>; total time= 6.0min\n",
      "[CV] END clf__C=1.0, clf__penalty=l2, vect__max_df=0.5, vect__ngram_range=(1, 1), vect__tokenizer=<function tokenizer at 0x7fd06acbcd30>; total time=  10.7s\n",
      "[CV] END clf__C=1.0, clf__penalty=l2, vect__max_df=0.5, vect__ngram_range=(1, 1), vect__tokenizer=<function tokenizer at 0x7fd06c4aa1f0>; total time=  10.6s\n",
      "[CV] END clf__C=1.0, clf__penalty=l2, vect__max_df=0.5, vect__ngram_range=(1, 1), vect__tokenizer=<function tokenizer_porter at 0x7fd06acbcd30>; total time= 5.4min\n",
      "[CV] END clf__C=10.0, clf__penalty=l1, vect__max_df=0.5, vect__ngram_range=(1, 1), vect__tokenizer=<function tokenizer at 0x7fd06c4aa1f0>; total time=  13.1s\n",
      "[CV] END clf__C=10.0, clf__penalty=l1, vect__max_df=0.5, vect__ngram_range=(1, 1), vect__tokenizer=<function tokenizer_porter at 0x7fd06acbcd30>; total time= 5.4min\n",
      "[CV] END clf__C=10.0, clf__penalty=l2, vect__max_df=0.25, vect__ngram_range=(1, 1), vect__tokenizer=<function tokenizer_porter at 0x7fd06c4aa1f0>; total time= 5.3min\n",
      "[CV] END clf__C=100.0, clf__penalty=l1, vect__max_df=0.25, vect__ngram_range=(1, 1), vect__tokenizer=<function tokenizer at 0x7fd06acbcd30>; total time=  11.2s\n",
      "[CV] END clf__C=100.0, clf__penalty=l1, vect__max_df=0.25, vect__ngram_range=(1, 1), vect__tokenizer=<function tokenizer_porter at 0x7fd06c4aa1f0>; total time= 5.3min\n",
      "[CV] END clf__C=100.0, clf__penalty=l1, vect__max_df=0.75, vect__ngram_range=(1, 1), vect__tokenizer=<function tokenizer_porter at 0x7fd06acbcd30>; total time= 5.4min\n",
      "[CV] END clf__C=100.0, clf__penalty=l2, vect__max_df=0.75, vect__ngram_range=(1, 1), vect__tokenizer=<function tokenizer at 0x7fd06c4aa1f0>; total time=  14.4s\n",
      "[CV] END clf__C=100.0, clf__penalty=l2, vect__max_df=0.75, vect__ngram_range=(1, 1), vect__tokenizer=<function tokenizer_porter at 0x7fd06acbcd30>; total time= 5.3min\n",
      "[CV] END clf__C=1.0, clf__penalty=l1, vect__max_df=0.5, vect__ngram_range=(1, 1), vect__norm=None, vect__tokenizer=<function tokenizer_porter at 0x7fd06c4aa1f0>, vect__use_idf=False; total time= 5.4min\n",
      "[CV] END clf__C=1.0, clf__penalty=l2, vect__max_df=0.5, vect__ngram_range=(1, 1), vect__norm=None, vect__tokenizer=<function tokenizer at 0x7fd06acbcd30>, vect__use_idf=False; total time=  18.9s\n",
      "[CV] END clf__C=1.0, clf__penalty=l2, vect__max_df=0.5, vect__ngram_range=(1, 1), vect__norm=None, vect__tokenizer=<function tokenizer_porter at 0x7fd06c4aa1f0>, vect__use_idf=False; total time= 5.6min\n",
      "[CV] END clf__C=10.0, clf__penalty=l1, vect__max_df=0.25, vect__ngram_range=(1, 1), vect__norm=None, vect__tokenizer=<function tokenizer_porter at 0x7fd06acbcd30>, vect__use_idf=False; total time=523.0min\n",
      "[CV] END clf__C=10.0, clf__penalty=l2, vect__max_df=0.25, vect__ngram_range=(1, 1), vect__norm=None, vect__tokenizer=<function tokenizer_porter at 0x7fd06c4aa1f0>, vect__use_idf=False; total time= 5.5min\n",
      "[CV] END clf__C=10.0, clf__penalty=l2, vect__max_df=0.75, vect__ngram_range=(1, 1), vect__norm=None, vect__tokenizer=<function tokenizer_porter at 0x7fd06acbcd30>, vect__use_idf=False; total time= 5.5min\n",
      "[CV] END clf__C=100.0, clf__penalty=l1, vect__max_df=0.75, vect__ngram_range=(1, 1), vect__norm=None, vect__tokenizer=<function tokenizer_porter at 0x7fd06c4aa1f0>, vect__use_idf=False; total time= 6.1min\n",
      "[CV] END clf__C=100.0, clf__penalty=l2, vect__max_df=0.75, vect__ngram_range=(1, 1), vect__norm=None, vect__tokenizer=<function tokenizer at 0x7fd06acbcd30>, vect__use_idf=False; total time=  32.1s\n",
      "[CV] END clf__C=100.0, clf__penalty=l2, vect__max_df=0.75, vect__ngram_range=(1, 1), vect__norm=None, vect__tokenizer=<function tokenizer at 0x7fd06c4aa1f0>, vect__use_idf=False; total time=  32.7s\n",
      "[CV] END clf__C=100.0, clf__penalty=l2, vect__max_df=0.75, vect__ngram_range=(1, 1), vect__norm=None, vect__tokenizer=<function tokenizer_porter at 0x7fd06acbcd30>, vect__use_idf=False; total time= 3.7min\n",
      "[CV] END clf__C=1.0, clf__penalty=l1, vect__max_df=0.25, vect__ngram_range=(1, 1), vect__tokenizer=<function tokenizer at 0x7f9b358f9310>; total time=   8.1s\n",
      "[CV] END clf__C=1.0, clf__penalty=l1, vect__max_df=0.5, vect__ngram_range=(1, 1), vect__tokenizer=<function tokenizer at 0x7f9b358f9280>; total time=  10.4s\n",
      "[CV] END clf__C=1.0, clf__penalty=l1, vect__max_df=0.75, vect__ngram_range=(1, 1), vect__tokenizer=<function tokenizer at 0x7f9b358f90d0>; total time=  10.4s\n",
      "[CV] END clf__C=1.0, clf__penalty=l1, vect__max_df=0.75, vect__ngram_range=(1, 1), vect__tokenizer=<function tokenizer_porter at 0x7f9b358f9310>; total time= 6.1min\n",
      "[CV] END clf__C=1.0, clf__penalty=l2, vect__max_df=0.75, vect__ngram_range=(1, 1), vect__tokenizer=<function tokenizer at 0x7f9b3b36ed30>; total time=  11.4s\n",
      "[CV] END clf__C=1.0, clf__penalty=l2, vect__max_df=0.75, vect__ngram_range=(1, 1), vect__tokenizer=<function tokenizer at 0x7f9b3cb571f0>; total time=  11.2s\n",
      "[CV] END clf__C=1.0, clf__penalty=l2, vect__max_df=0.75, vect__ngram_range=(1, 1), vect__tokenizer=<function tokenizer at 0x7f9b3b36ed30>; total time=  11.2s\n",
      "[CV] END clf__C=1.0, clf__penalty=l2, vect__max_df=0.75, vect__ngram_range=(1, 1), vect__tokenizer=<function tokenizer_porter at 0x7f9b3cb571f0>; total time= 5.4min\n",
      "[CV] END clf__C=10.0, clf__penalty=l1, vect__max_df=0.5, vect__ngram_range=(1, 1), vect__tokenizer=<function tokenizer_porter at 0x7f9b3b36ed30>; total time= 5.5min\n",
      "[CV] END clf__C=10.0, clf__penalty=l2, vect__max_df=0.5, vect__ngram_range=(1, 1), vect__tokenizer=<function tokenizer at 0x7f9b3cb571f0>; total time=  12.0s\n",
      "[CV] END clf__C=10.0, clf__penalty=l2, vect__max_df=0.5, vect__ngram_range=(1, 1), vect__tokenizer=<function tokenizer_porter at 0x7f9b3b36ed30>; total time= 5.4min\n",
      "[CV] END clf__C=100.0, clf__penalty=l1, vect__max_df=0.5, vect__ngram_range=(1, 1), vect__tokenizer=<function tokenizer at 0x7f9b3cb571f0>; total time=  11.2s\n",
      "[CV] END clf__C=100.0, clf__penalty=l1, vect__max_df=0.5, vect__ngram_range=(1, 1), vect__tokenizer=<function tokenizer at 0x7f9b3b36ed30>; total time=  11.7s\n",
      "[CV] END clf__C=100.0, clf__penalty=l1, vect__max_df=0.5, vect__ngram_range=(1, 1), vect__tokenizer=<function tokenizer at 0x7f9b3cb571f0>; total time=  11.5s\n",
      "[CV] END clf__C=100.0, clf__penalty=l1, vect__max_df=0.5, vect__ngram_range=(1, 1), vect__tokenizer=<function tokenizer_porter at 0x7f9b3b36ed30>; total time= 5.3min\n",
      "[CV] END clf__C=100.0, clf__penalty=l2, vect__max_df=0.25, vect__ngram_range=(1, 1), vect__tokenizer=<function tokenizer_porter at 0x7f9b3cb571f0>; total time= 5.3min\n",
      "[CV] END clf__C=1.0, clf__penalty=l1, vect__max_df=0.25, vect__ngram_range=(1, 1), vect__norm=None, vect__tokenizer=<function tokenizer_porter at 0x7f9b3b36ed30>, vect__use_idf=False; total time= 5.3min\n",
      "[CV] END clf__C=1.0, clf__penalty=l1, vect__max_df=0.75, vect__ngram_range=(1, 1), vect__norm=None, vect__tokenizer=<function tokenizer_porter at 0x7f9b3cb571f0>, vect__use_idf=False; total time= 5.4min\n",
      "[CV] END clf__C=1.0, clf__penalty=l2, vect__max_df=0.75, vect__ngram_range=(1, 1), vect__norm=None, vect__tokenizer=<function tokenizer at 0x7f9b3b36ed30>, vect__use_idf=False; total time=  21.1s\n",
      "[CV] END clf__C=1.0, clf__penalty=l2, vect__max_df=0.75, vect__ngram_range=(1, 1), vect__norm=None, vect__tokenizer=<function tokenizer_porter at 0x7f9b3cb571f0>, vect__use_idf=False; total time= 5.6min\n",
      "[CV] END clf__C=10.0, clf__penalty=l1, vect__max_df=0.5, vect__ngram_range=(1, 1), vect__norm=None, vect__tokenizer=<function tokenizer_porter at 0x7f9b3b36ed30>, vect__use_idf=False; total time=523.0min\n",
      "[CV] END clf__C=10.0, clf__penalty=l2, vect__max_df=0.5, vect__ngram_range=(1, 1), vect__norm=None, vect__tokenizer=<function tokenizer at 0x7f9b3cb571f0>, vect__use_idf=False; total time=  23.9s\n",
      "[CV] END clf__C=10.0, clf__penalty=l2, vect__max_df=0.5, vect__ngram_range=(1, 1), vect__norm=None, vect__tokenizer=<function tokenizer_porter at 0x7f9b3b36ed30>, vect__use_idf=False; total time= 5.5min\n",
      "[CV] END clf__C=100.0, clf__penalty=l1, vect__max_df=0.25, vect__ngram_range=(1, 1), vect__norm=None, vect__tokenizer=<function tokenizer_porter at 0x7f9b3cb571f0>, vect__use_idf=False; total time= 5.3min\n",
      "[CV] END clf__C=100.0, clf__penalty=l2, vect__max_df=0.25, vect__ngram_range=(1, 1), vect__norm=None, vect__tokenizer=<function tokenizer_porter at 0x7f9b3b36ed30>, vect__use_idf=False; total time= 6.4min\n",
      "[CV] END clf__C=100.0, clf__penalty=l2, vect__max_df=0.75, vect__ngram_range=(1, 1), vect__norm=None, vect__tokenizer=<function tokenizer_porter at 0x7f9b3cb571f0>, vect__use_idf=False; total time= 3.6min\n"
     ]
    }
   ],
   "source": [
    "gs_lr_tfidf.predict(['this was ok in parts']),np.round(gs_lr_tfidf.predict_proba(['this was ok in parts']))"
   ]
  }
 ],
 "metadata": {
  "kernelspec": {
   "display_name": "eods-f21",
   "language": "python",
   "name": "eods-f21"
  },
  "language_info": {
   "codemirror_mode": {
    "name": "ipython",
    "version": 3
   },
   "file_extension": ".py",
   "mimetype": "text/x-python",
   "name": "python",
   "nbconvert_exporter": "python",
   "pygments_lexer": "ipython3",
   "version": "3.8.10"
  }
 },
 "nbformat": 4,
 "nbformat_minor": 2
}
