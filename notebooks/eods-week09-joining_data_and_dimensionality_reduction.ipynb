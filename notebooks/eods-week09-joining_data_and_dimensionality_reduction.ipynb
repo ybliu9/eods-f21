{
 "cells": [
  {
   "cell_type": "markdown",
   "metadata": {
    "slideshow": {
     "slide_type": "slide"
    }
   },
   "source": [
    "## <center>Elements Of Data Science - F2021</center>\n",
    "# <center>Week 9: Dimensionality Reduction, Feature Selection and Feature Extraction<center>\n",
    "### <center>11/15/2021</center>"
   ]
  },
  {
   "cell_type": "markdown",
   "metadata": {
    "slideshow": {
     "slide_type": "slide"
    }
   },
   "source": [
    "# TODOs\n",
    "\n",
    "- Readings:\n",
    "  - PML Chapter 6, first 3 sections on Pipelines\n",
    "  - PML Chapter 8: Applying Machine Learning to Sentiment Analysis\n",
    "<br>\n",
    "<br>\n",
    "- Quiz 9, Due **Sunday Nov 21st, 11:59pm ET**\n",
    "- HW3, Due **Tues Nov 23 at 11:59pm ET**\n",
    "<br>"
   ]
  },
  {
   "cell_type": "markdown",
   "metadata": {
    "slideshow": {
     "slide_type": "slide"
    }
   },
   "source": [
    "# Today\n",
    "\n",
    "- **Joining Datasets**\n",
    "- **Dimensionality Reduction**\n",
    "  - **Feature Selection**\n",
    "     - Linear Model with LASSO\n",
    "     - Tree Based Models Feature Importance\n",
    "     - Univariate Tests\n",
    "     - Recursive Feature Selection\n",
    "  - **Aside: Adjusted $R^2$**\n",
    "\n",
    "  - **Feature Extraction**\n",
    "     - PCA\n",
    "- **Example: Image Recognition Using PCA**\n",
    "- **Pipelines?**\n",
    " "
   ]
  },
  {
   "cell_type": "markdown",
   "metadata": {
    "slideshow": {
     "slide_type": "slide"
    }
   },
   "source": [
    "<br>\n",
    "<br>\n",
    "\n",
    "# <center>Questions?</center>\n",
    "<br>\n",
    "<br>"
   ]
  },
  {
   "cell_type": "markdown",
   "metadata": {
    "slideshow": {
     "slide_type": "slide"
    }
   },
   "source": [
    "# Environment Setup"
   ]
  },
  {
   "cell_type": "code",
   "execution_count": 1,
   "metadata": {
    "slideshow": {
     "slide_type": "fragment"
    }
   },
   "outputs": [],
   "source": [
    "import numpy\n",
    "import numpy as np\n",
    "import pandas as pd\n",
    "import matplotlib.pyplot as plt\n",
    "import seaborn as sns\n",
    "\n",
    "from mlxtend.plotting import plot_decision_regions\n",
    "\n",
    "sns.set_style('darkgrid')\n",
    "%matplotlib inline"
   ]
  },
  {
   "cell_type": "code",
   "execution_count": 2,
   "metadata": {
    "slideshow": {
     "slide_type": "skip"
    }
   },
   "outputs": [],
   "source": [
    "df_clients = pd.DataFrame([[102,'Mikel','Rouse',1002],\n",
    "                   [103,'Laura','Gibson',1003],\n",
    "                   [104,None,'Reeves',1003],\n",
    "                   [105,'Scott','Payseur',1004]],columns=['client_id', 'firstname', 'lastname', 'home_address_id'])\n",
    "\n",
    "\n",
    "df_addresses = pd.DataFrame([[1002,'1 First Ave.'],[1003,'2 Second Ave.'],[1005,'3 Third Ave.']],\n",
    "                         columns=['address_id','address'])"
   ]
  },
  {
   "cell_type": "markdown",
   "metadata": {
    "slideshow": {
     "slide_type": "slide"
    }
   },
   "source": [
    "# Joing Datasets\n",
    "\n",
    "- often have two sets of data we need to join together"
   ]
  },
  {
   "cell_type": "code",
   "execution_count": 3,
   "metadata": {
    "slideshow": {
     "slide_type": "fragment"
    }
   },
   "outputs": [],
   "source": [
    "df_flower_name_orig = pd.DataFrame([[1001,'iris'],[1002,'rose']],\n",
    "                         columns=['flower_id','name'])\n",
    "\n",
    "df_flower_price_orig = pd.DataFrame([[1002,3.99],[1003,2.25]],\n",
    "                               columns=['flower_id','price'])"
   ]
  },
  {
   "cell_type": "code",
   "execution_count": 4,
   "metadata": {
    "slideshow": {
     "slide_type": "fragment"
    }
   },
   "outputs": [
    {
     "data": {
      "text/html": [
       "<div>\n",
       "<style scoped>\n",
       "    .dataframe tbody tr th:only-of-type {\n",
       "        vertical-align: middle;\n",
       "    }\n",
       "\n",
       "    .dataframe tbody tr th {\n",
       "        vertical-align: top;\n",
       "    }\n",
       "\n",
       "    .dataframe thead th {\n",
       "        text-align: right;\n",
       "    }\n",
       "</style>\n",
       "<table border=\"1\" class=\"dataframe\">\n",
       "  <thead>\n",
       "    <tr style=\"text-align: right;\">\n",
       "      <th></th>\n",
       "      <th>flower_id</th>\n",
       "      <th>name</th>\n",
       "    </tr>\n",
       "  </thead>\n",
       "  <tbody>\n",
       "    <tr>\n",
       "      <th>0</th>\n",
       "      <td>1001</td>\n",
       "      <td>iris</td>\n",
       "    </tr>\n",
       "    <tr>\n",
       "      <th>1</th>\n",
       "      <td>1002</td>\n",
       "      <td>rose</td>\n",
       "    </tr>\n",
       "  </tbody>\n",
       "</table>\n",
       "</div>"
      ],
      "text/plain": [
       "   flower_id  name\n",
       "0       1001  iris\n",
       "1       1002  rose"
      ]
     },
     "metadata": {},
     "output_type": "display_data"
    },
    {
     "data": {
      "text/html": [
       "<div>\n",
       "<style scoped>\n",
       "    .dataframe tbody tr th:only-of-type {\n",
       "        vertical-align: middle;\n",
       "    }\n",
       "\n",
       "    .dataframe tbody tr th {\n",
       "        vertical-align: top;\n",
       "    }\n",
       "\n",
       "    .dataframe thead th {\n",
       "        text-align: right;\n",
       "    }\n",
       "</style>\n",
       "<table border=\"1\" class=\"dataframe\">\n",
       "  <thead>\n",
       "    <tr style=\"text-align: right;\">\n",
       "      <th></th>\n",
       "      <th>flower_id</th>\n",
       "      <th>price</th>\n",
       "    </tr>\n",
       "  </thead>\n",
       "  <tbody>\n",
       "    <tr>\n",
       "      <th>0</th>\n",
       "      <td>1002</td>\n",
       "      <td>3.99</td>\n",
       "    </tr>\n",
       "    <tr>\n",
       "      <th>1</th>\n",
       "      <td>1003</td>\n",
       "      <td>2.25</td>\n",
       "    </tr>\n",
       "  </tbody>\n",
       "</table>\n",
       "</div>"
      ],
      "text/plain": [
       "   flower_id  price\n",
       "0       1002   3.99\n",
       "1       1003   2.25"
      ]
     },
     "metadata": {},
     "output_type": "display_data"
    }
   ],
   "source": [
    "display(df_flower_name_orig)\n",
    "display(df_flower_price_orig)"
   ]
  },
  {
   "cell_type": "markdown",
   "metadata": {
    "slideshow": {
     "slide_type": "slide"
    }
   },
   "source": [
    "# Joing Datasets On Index\n",
    "\n",
    "- easiest way to join in Pandas is on row index label\n",
    "- may need to set the index from a column using `.set_index()`"
   ]
  },
  {
   "cell_type": "code",
   "execution_count": 5,
   "metadata": {},
   "outputs": [
    {
     "data": {
      "text/html": [
       "<div>\n",
       "<style scoped>\n",
       "    .dataframe tbody tr th:only-of-type {\n",
       "        vertical-align: middle;\n",
       "    }\n",
       "\n",
       "    .dataframe tbody tr th {\n",
       "        vertical-align: top;\n",
       "    }\n",
       "\n",
       "    .dataframe thead th {\n",
       "        text-align: right;\n",
       "    }\n",
       "</style>\n",
       "<table border=\"1\" class=\"dataframe\">\n",
       "  <thead>\n",
       "    <tr style=\"text-align: right;\">\n",
       "      <th></th>\n",
       "      <th>flower_id</th>\n",
       "      <th>name</th>\n",
       "    </tr>\n",
       "  </thead>\n",
       "  <tbody>\n",
       "    <tr>\n",
       "      <th>0</th>\n",
       "      <td>1001</td>\n",
       "      <td>iris</td>\n",
       "    </tr>\n",
       "    <tr>\n",
       "      <th>1</th>\n",
       "      <td>1002</td>\n",
       "      <td>rose</td>\n",
       "    </tr>\n",
       "  </tbody>\n",
       "</table>\n",
       "</div>"
      ],
      "text/plain": [
       "   flower_id  name\n",
       "0       1001  iris\n",
       "1       1002  rose"
      ]
     },
     "execution_count": 5,
     "metadata": {},
     "output_type": "execute_result"
    }
   ],
   "source": [
    "df_flower_name_orig"
   ]
  },
  {
   "cell_type": "code",
   "execution_count": 6,
   "metadata": {
    "slideshow": {
     "slide_type": "fragment"
    }
   },
   "outputs": [
    {
     "data": {
      "text/html": [
       "<div>\n",
       "<style scoped>\n",
       "    .dataframe tbody tr th:only-of-type {\n",
       "        vertical-align: middle;\n",
       "    }\n",
       "\n",
       "    .dataframe tbody tr th {\n",
       "        vertical-align: top;\n",
       "    }\n",
       "\n",
       "    .dataframe thead th {\n",
       "        text-align: right;\n",
       "    }\n",
       "</style>\n",
       "<table border=\"1\" class=\"dataframe\">\n",
       "  <thead>\n",
       "    <tr style=\"text-align: right;\">\n",
       "      <th></th>\n",
       "      <th>name</th>\n",
       "    </tr>\n",
       "    <tr>\n",
       "      <th>flower_id</th>\n",
       "      <th></th>\n",
       "    </tr>\n",
       "  </thead>\n",
       "  <tbody>\n",
       "    <tr>\n",
       "      <th>1001</th>\n",
       "      <td>iris</td>\n",
       "    </tr>\n",
       "    <tr>\n",
       "      <th>1002</th>\n",
       "      <td>rose</td>\n",
       "    </tr>\n",
       "  </tbody>\n",
       "</table>\n",
       "</div>"
      ],
      "text/plain": [
       "           name\n",
       "flower_id      \n",
       "1001       iris\n",
       "1002       rose"
      ]
     },
     "execution_count": 6,
     "metadata": {},
     "output_type": "execute_result"
    }
   ],
   "source": [
    "df_flower_name = df_flower_name_orig.set_index('flower_id') # note: inplace=False, drop=True by default, \n",
    "df_flower_name"
   ]
  },
  {
   "cell_type": "code",
   "execution_count": 7,
   "metadata": {
    "slideshow": {
     "slide_type": "fragment"
    }
   },
   "outputs": [
    {
     "data": {
      "text/html": [
       "<div>\n",
       "<style scoped>\n",
       "    .dataframe tbody tr th:only-of-type {\n",
       "        vertical-align: middle;\n",
       "    }\n",
       "\n",
       "    .dataframe tbody tr th {\n",
       "        vertical-align: top;\n",
       "    }\n",
       "\n",
       "    .dataframe thead th {\n",
       "        text-align: right;\n",
       "    }\n",
       "</style>\n",
       "<table border=\"1\" class=\"dataframe\">\n",
       "  <thead>\n",
       "    <tr style=\"text-align: right;\">\n",
       "      <th></th>\n",
       "      <th>price</th>\n",
       "    </tr>\n",
       "    <tr>\n",
       "      <th>flower_id</th>\n",
       "      <th></th>\n",
       "    </tr>\n",
       "  </thead>\n",
       "  <tbody>\n",
       "    <tr>\n",
       "      <th>1002</th>\n",
       "      <td>3.99</td>\n",
       "    </tr>\n",
       "    <tr>\n",
       "      <th>1003</th>\n",
       "      <td>2.25</td>\n",
       "    </tr>\n",
       "  </tbody>\n",
       "</table>\n",
       "</div>"
      ],
      "text/plain": [
       "           price\n",
       "flower_id       \n",
       "1002        3.99\n",
       "1003        2.25"
      ]
     },
     "execution_count": 7,
     "metadata": {},
     "output_type": "execute_result"
    }
   ],
   "source": [
    "df_flower_price = df_flower_price_orig.copy()\n",
    "df_flower_price.set_index('flower_id',inplace=True)\n",
    "df_flower_price"
   ]
  },
  {
   "cell_type": "markdown",
   "metadata": {
    "slideshow": {
     "slide_type": "slide"
    }
   },
   "source": [
    "# Joining Datasets in Pandas On Index Using `df.join()`"
   ]
  },
  {
   "cell_type": "code",
   "execution_count": 8,
   "metadata": {
    "slideshow": {
     "slide_type": "fragment"
    }
   },
   "outputs": [
    {
     "data": {
      "text/html": [
       "<div>\n",
       "<style scoped>\n",
       "    .dataframe tbody tr th:only-of-type {\n",
       "        vertical-align: middle;\n",
       "    }\n",
       "\n",
       "    .dataframe tbody tr th {\n",
       "        vertical-align: top;\n",
       "    }\n",
       "\n",
       "    .dataframe thead th {\n",
       "        text-align: right;\n",
       "    }\n",
       "</style>\n",
       "<table border=\"1\" class=\"dataframe\">\n",
       "  <thead>\n",
       "    <tr style=\"text-align: right;\">\n",
       "      <th></th>\n",
       "      <th>name</th>\n",
       "    </tr>\n",
       "    <tr>\n",
       "      <th>flower_id</th>\n",
       "      <th></th>\n",
       "    </tr>\n",
       "  </thead>\n",
       "  <tbody>\n",
       "    <tr>\n",
       "      <th>1001</th>\n",
       "      <td>iris</td>\n",
       "    </tr>\n",
       "    <tr>\n",
       "      <th>1002</th>\n",
       "      <td>rose</td>\n",
       "    </tr>\n",
       "  </tbody>\n",
       "</table>\n",
       "</div>"
      ],
      "text/plain": [
       "           name\n",
       "flower_id      \n",
       "1001       iris\n",
       "1002       rose"
      ]
     },
     "metadata": {},
     "output_type": "display_data"
    },
    {
     "data": {
      "text/html": [
       "<div>\n",
       "<style scoped>\n",
       "    .dataframe tbody tr th:only-of-type {\n",
       "        vertical-align: middle;\n",
       "    }\n",
       "\n",
       "    .dataframe tbody tr th {\n",
       "        vertical-align: top;\n",
       "    }\n",
       "\n",
       "    .dataframe thead th {\n",
       "        text-align: right;\n",
       "    }\n",
       "</style>\n",
       "<table border=\"1\" class=\"dataframe\">\n",
       "  <thead>\n",
       "    <tr style=\"text-align: right;\">\n",
       "      <th></th>\n",
       "      <th>price</th>\n",
       "    </tr>\n",
       "    <tr>\n",
       "      <th>flower_id</th>\n",
       "      <th></th>\n",
       "    </tr>\n",
       "  </thead>\n",
       "  <tbody>\n",
       "    <tr>\n",
       "      <th>1002</th>\n",
       "      <td>3.99</td>\n",
       "    </tr>\n",
       "    <tr>\n",
       "      <th>1003</th>\n",
       "      <td>2.25</td>\n",
       "    </tr>\n",
       "  </tbody>\n",
       "</table>\n",
       "</div>"
      ],
      "text/plain": [
       "           price\n",
       "flower_id       \n",
       "1002        3.99\n",
       "1003        2.25"
      ]
     },
     "metadata": {},
     "output_type": "display_data"
    }
   ],
   "source": [
    "display(df_flower_name)\n",
    "display(df_flower_price)"
   ]
  },
  {
   "cell_type": "code",
   "execution_count": 9,
   "metadata": {
    "slideshow": {
     "slide_type": "fragment"
    }
   },
   "outputs": [
    {
     "data": {
      "text/html": [
       "<div>\n",
       "<style scoped>\n",
       "    .dataframe tbody tr th:only-of-type {\n",
       "        vertical-align: middle;\n",
       "    }\n",
       "\n",
       "    .dataframe tbody tr th {\n",
       "        vertical-align: top;\n",
       "    }\n",
       "\n",
       "    .dataframe thead th {\n",
       "        text-align: right;\n",
       "    }\n",
       "</style>\n",
       "<table border=\"1\" class=\"dataframe\">\n",
       "  <thead>\n",
       "    <tr style=\"text-align: right;\">\n",
       "      <th></th>\n",
       "      <th>name</th>\n",
       "      <th>price</th>\n",
       "    </tr>\n",
       "    <tr>\n",
       "      <th>flower_id</th>\n",
       "      <th></th>\n",
       "      <th></th>\n",
       "    </tr>\n",
       "  </thead>\n",
       "  <tbody>\n",
       "    <tr>\n",
       "      <th>1001</th>\n",
       "      <td>iris</td>\n",
       "      <td>NaN</td>\n",
       "    </tr>\n",
       "    <tr>\n",
       "      <th>1002</th>\n",
       "      <td>rose</td>\n",
       "      <td>3.99</td>\n",
       "    </tr>\n",
       "  </tbody>\n",
       "</table>\n",
       "</div>"
      ],
      "text/plain": [
       "           name  price\n",
       "flower_id             \n",
       "1001       iris    NaN\n",
       "1002       rose   3.99"
      ]
     },
     "execution_count": 9,
     "metadata": {},
     "output_type": "execute_result"
    }
   ],
   "source": [
    "df_flower_name.join(df_flower_price)"
   ]
  },
  {
   "cell_type": "markdown",
   "metadata": {
    "slideshow": {
     "slide_type": "fragment"
    }
   },
   "source": [
    "- by default, this is a 'Left Join'"
   ]
  },
  {
   "cell_type": "markdown",
   "metadata": {
    "slideshow": {
     "slide_type": "slide"
    }
   },
   "source": [
    "### Join Types: Left Join\n",
    "<div align=\"center\"><img src=\"images/join_left.png\" width=\"300px\"></div>"
   ]
  },
  {
   "cell_type": "code",
   "execution_count": 10,
   "metadata": {
    "slideshow": {
     "slide_type": "fragment"
    }
   },
   "outputs": [
    {
     "data": {
      "text/html": [
       "<div>\n",
       "<style scoped>\n",
       "    .dataframe tbody tr th:only-of-type {\n",
       "        vertical-align: middle;\n",
       "    }\n",
       "\n",
       "    .dataframe tbody tr th {\n",
       "        vertical-align: top;\n",
       "    }\n",
       "\n",
       "    .dataframe thead th {\n",
       "        text-align: right;\n",
       "    }\n",
       "</style>\n",
       "<table border=\"1\" class=\"dataframe\">\n",
       "  <thead>\n",
       "    <tr style=\"text-align: right;\">\n",
       "      <th></th>\n",
       "      <th>name</th>\n",
       "    </tr>\n",
       "    <tr>\n",
       "      <th>flower_id</th>\n",
       "      <th></th>\n",
       "    </tr>\n",
       "  </thead>\n",
       "  <tbody>\n",
       "    <tr>\n",
       "      <th>1001</th>\n",
       "      <td>iris</td>\n",
       "    </tr>\n",
       "    <tr>\n",
       "      <th>1002</th>\n",
       "      <td>rose</td>\n",
       "    </tr>\n",
       "  </tbody>\n",
       "</table>\n",
       "</div>"
      ],
      "text/plain": [
       "           name\n",
       "flower_id      \n",
       "1001       iris\n",
       "1002       rose"
      ]
     },
     "metadata": {},
     "output_type": "display_data"
    },
    {
     "data": {
      "text/html": [
       "<div>\n",
       "<style scoped>\n",
       "    .dataframe tbody tr th:only-of-type {\n",
       "        vertical-align: middle;\n",
       "    }\n",
       "\n",
       "    .dataframe tbody tr th {\n",
       "        vertical-align: top;\n",
       "    }\n",
       "\n",
       "    .dataframe thead th {\n",
       "        text-align: right;\n",
       "    }\n",
       "</style>\n",
       "<table border=\"1\" class=\"dataframe\">\n",
       "  <thead>\n",
       "    <tr style=\"text-align: right;\">\n",
       "      <th></th>\n",
       "      <th>price</th>\n",
       "    </tr>\n",
       "    <tr>\n",
       "      <th>flower_id</th>\n",
       "      <th></th>\n",
       "    </tr>\n",
       "  </thead>\n",
       "  <tbody>\n",
       "    <tr>\n",
       "      <th>1002</th>\n",
       "      <td>3.99</td>\n",
       "    </tr>\n",
       "    <tr>\n",
       "      <th>1003</th>\n",
       "      <td>2.25</td>\n",
       "    </tr>\n",
       "  </tbody>\n",
       "</table>\n",
       "</div>"
      ],
      "text/plain": [
       "           price\n",
       "flower_id       \n",
       "1002        3.99\n",
       "1003        2.25"
      ]
     },
     "metadata": {},
     "output_type": "display_data"
    }
   ],
   "source": [
    "display(df_flower_name,df_flower_price)"
   ]
  },
  {
   "cell_type": "code",
   "execution_count": 11,
   "metadata": {
    "slideshow": {
     "slide_type": "fragment"
    }
   },
   "outputs": [
    {
     "data": {
      "text/html": [
       "<div>\n",
       "<style scoped>\n",
       "    .dataframe tbody tr th:only-of-type {\n",
       "        vertical-align: middle;\n",
       "    }\n",
       "\n",
       "    .dataframe tbody tr th {\n",
       "        vertical-align: top;\n",
       "    }\n",
       "\n",
       "    .dataframe thead th {\n",
       "        text-align: right;\n",
       "    }\n",
       "</style>\n",
       "<table border=\"1\" class=\"dataframe\">\n",
       "  <thead>\n",
       "    <tr style=\"text-align: right;\">\n",
       "      <th></th>\n",
       "      <th>name</th>\n",
       "      <th>price</th>\n",
       "    </tr>\n",
       "    <tr>\n",
       "      <th>flower_id</th>\n",
       "      <th></th>\n",
       "      <th></th>\n",
       "    </tr>\n",
       "  </thead>\n",
       "  <tbody>\n",
       "    <tr>\n",
       "      <th>1001</th>\n",
       "      <td>iris</td>\n",
       "      <td>NaN</td>\n",
       "    </tr>\n",
       "    <tr>\n",
       "      <th>1002</th>\n",
       "      <td>rose</td>\n",
       "      <td>3.99</td>\n",
       "    </tr>\n",
       "  </tbody>\n",
       "</table>\n",
       "</div>"
      ],
      "text/plain": [
       "           name  price\n",
       "flower_id             \n",
       "1001       iris    NaN\n",
       "1002       rose   3.99"
      ]
     },
     "execution_count": 11,
     "metadata": {},
     "output_type": "execute_result"
    }
   ],
   "source": [
    "df_flower_name.join(df_flower_price,how=\"left\") # default for df.join() is left join"
   ]
  },
  {
   "cell_type": "markdown",
   "metadata": {
    "slideshow": {
     "slide_type": "slide"
    }
   },
   "source": [
    "### Join Types: Right Join\n",
    "<div align=\"center\"><img src=\"images/join_right.png\" width=\"300px\"></div>"
   ]
  },
  {
   "cell_type": "code",
   "execution_count": 12,
   "metadata": {
    "slideshow": {
     "slide_type": "fragment"
    }
   },
   "outputs": [
    {
     "data": {
      "text/html": [
       "<div>\n",
       "<style scoped>\n",
       "    .dataframe tbody tr th:only-of-type {\n",
       "        vertical-align: middle;\n",
       "    }\n",
       "\n",
       "    .dataframe tbody tr th {\n",
       "        vertical-align: top;\n",
       "    }\n",
       "\n",
       "    .dataframe thead th {\n",
       "        text-align: right;\n",
       "    }\n",
       "</style>\n",
       "<table border=\"1\" class=\"dataframe\">\n",
       "  <thead>\n",
       "    <tr style=\"text-align: right;\">\n",
       "      <th></th>\n",
       "      <th>name</th>\n",
       "    </tr>\n",
       "    <tr>\n",
       "      <th>flower_id</th>\n",
       "      <th></th>\n",
       "    </tr>\n",
       "  </thead>\n",
       "  <tbody>\n",
       "    <tr>\n",
       "      <th>1001</th>\n",
       "      <td>iris</td>\n",
       "    </tr>\n",
       "    <tr>\n",
       "      <th>1002</th>\n",
       "      <td>rose</td>\n",
       "    </tr>\n",
       "  </tbody>\n",
       "</table>\n",
       "</div>"
      ],
      "text/plain": [
       "           name\n",
       "flower_id      \n",
       "1001       iris\n",
       "1002       rose"
      ]
     },
     "metadata": {},
     "output_type": "display_data"
    },
    {
     "data": {
      "text/html": [
       "<div>\n",
       "<style scoped>\n",
       "    .dataframe tbody tr th:only-of-type {\n",
       "        vertical-align: middle;\n",
       "    }\n",
       "\n",
       "    .dataframe tbody tr th {\n",
       "        vertical-align: top;\n",
       "    }\n",
       "\n",
       "    .dataframe thead th {\n",
       "        text-align: right;\n",
       "    }\n",
       "</style>\n",
       "<table border=\"1\" class=\"dataframe\">\n",
       "  <thead>\n",
       "    <tr style=\"text-align: right;\">\n",
       "      <th></th>\n",
       "      <th>price</th>\n",
       "    </tr>\n",
       "    <tr>\n",
       "      <th>flower_id</th>\n",
       "      <th></th>\n",
       "    </tr>\n",
       "  </thead>\n",
       "  <tbody>\n",
       "    <tr>\n",
       "      <th>1002</th>\n",
       "      <td>3.99</td>\n",
       "    </tr>\n",
       "    <tr>\n",
       "      <th>1003</th>\n",
       "      <td>2.25</td>\n",
       "    </tr>\n",
       "  </tbody>\n",
       "</table>\n",
       "</div>"
      ],
      "text/plain": [
       "           price\n",
       "flower_id       \n",
       "1002        3.99\n",
       "1003        2.25"
      ]
     },
     "metadata": {},
     "output_type": "display_data"
    }
   ],
   "source": [
    "display(df_flower_name,df_flower_price)"
   ]
  },
  {
   "cell_type": "code",
   "execution_count": 13,
   "metadata": {
    "slideshow": {
     "slide_type": "fragment"
    }
   },
   "outputs": [
    {
     "data": {
      "text/html": [
       "<div>\n",
       "<style scoped>\n",
       "    .dataframe tbody tr th:only-of-type {\n",
       "        vertical-align: middle;\n",
       "    }\n",
       "\n",
       "    .dataframe tbody tr th {\n",
       "        vertical-align: top;\n",
       "    }\n",
       "\n",
       "    .dataframe thead th {\n",
       "        text-align: right;\n",
       "    }\n",
       "</style>\n",
       "<table border=\"1\" class=\"dataframe\">\n",
       "  <thead>\n",
       "    <tr style=\"text-align: right;\">\n",
       "      <th></th>\n",
       "      <th>name</th>\n",
       "      <th>price</th>\n",
       "    </tr>\n",
       "    <tr>\n",
       "      <th>flower_id</th>\n",
       "      <th></th>\n",
       "      <th></th>\n",
       "    </tr>\n",
       "  </thead>\n",
       "  <tbody>\n",
       "    <tr>\n",
       "      <th>1002</th>\n",
       "      <td>rose</td>\n",
       "      <td>3.99</td>\n",
       "    </tr>\n",
       "    <tr>\n",
       "      <th>1003</th>\n",
       "      <td>NaN</td>\n",
       "      <td>2.25</td>\n",
       "    </tr>\n",
       "  </tbody>\n",
       "</table>\n",
       "</div>"
      ],
      "text/plain": [
       "           name  price\n",
       "flower_id             \n",
       "1002       rose   3.99\n",
       "1003        NaN   2.25"
      ]
     },
     "execution_count": 13,
     "metadata": {},
     "output_type": "execute_result"
    }
   ],
   "source": [
    "df_flower_name.join(df_flower_price,how='right')"
   ]
  },
  {
   "cell_type": "markdown",
   "metadata": {
    "slideshow": {
     "slide_type": "slide"
    }
   },
   "source": [
    "### Join Types: Inner Join\n",
    "<div align=\"center\"><img src=\"images/join_inner.png\" width=\"300px\"></div>"
   ]
  },
  {
   "cell_type": "code",
   "execution_count": 14,
   "metadata": {
    "slideshow": {
     "slide_type": "fragment"
    }
   },
   "outputs": [
    {
     "data": {
      "text/html": [
       "<div>\n",
       "<style scoped>\n",
       "    .dataframe tbody tr th:only-of-type {\n",
       "        vertical-align: middle;\n",
       "    }\n",
       "\n",
       "    .dataframe tbody tr th {\n",
       "        vertical-align: top;\n",
       "    }\n",
       "\n",
       "    .dataframe thead th {\n",
       "        text-align: right;\n",
       "    }\n",
       "</style>\n",
       "<table border=\"1\" class=\"dataframe\">\n",
       "  <thead>\n",
       "    <tr style=\"text-align: right;\">\n",
       "      <th></th>\n",
       "      <th>name</th>\n",
       "    </tr>\n",
       "    <tr>\n",
       "      <th>flower_id</th>\n",
       "      <th></th>\n",
       "    </tr>\n",
       "  </thead>\n",
       "  <tbody>\n",
       "    <tr>\n",
       "      <th>1001</th>\n",
       "      <td>iris</td>\n",
       "    </tr>\n",
       "    <tr>\n",
       "      <th>1002</th>\n",
       "      <td>rose</td>\n",
       "    </tr>\n",
       "  </tbody>\n",
       "</table>\n",
       "</div>"
      ],
      "text/plain": [
       "           name\n",
       "flower_id      \n",
       "1001       iris\n",
       "1002       rose"
      ]
     },
     "metadata": {},
     "output_type": "display_data"
    },
    {
     "data": {
      "text/html": [
       "<div>\n",
       "<style scoped>\n",
       "    .dataframe tbody tr th:only-of-type {\n",
       "        vertical-align: middle;\n",
       "    }\n",
       "\n",
       "    .dataframe tbody tr th {\n",
       "        vertical-align: top;\n",
       "    }\n",
       "\n",
       "    .dataframe thead th {\n",
       "        text-align: right;\n",
       "    }\n",
       "</style>\n",
       "<table border=\"1\" class=\"dataframe\">\n",
       "  <thead>\n",
       "    <tr style=\"text-align: right;\">\n",
       "      <th></th>\n",
       "      <th>price</th>\n",
       "    </tr>\n",
       "    <tr>\n",
       "      <th>flower_id</th>\n",
       "      <th></th>\n",
       "    </tr>\n",
       "  </thead>\n",
       "  <tbody>\n",
       "    <tr>\n",
       "      <th>1002</th>\n",
       "      <td>3.99</td>\n",
       "    </tr>\n",
       "    <tr>\n",
       "      <th>1003</th>\n",
       "      <td>2.25</td>\n",
       "    </tr>\n",
       "  </tbody>\n",
       "</table>\n",
       "</div>"
      ],
      "text/plain": [
       "           price\n",
       "flower_id       \n",
       "1002        3.99\n",
       "1003        2.25"
      ]
     },
     "metadata": {},
     "output_type": "display_data"
    }
   ],
   "source": [
    "display(df_flower_name,df_flower_price)"
   ]
  },
  {
   "cell_type": "code",
   "execution_count": 15,
   "metadata": {
    "slideshow": {
     "slide_type": "fragment"
    }
   },
   "outputs": [
    {
     "data": {
      "text/html": [
       "<div>\n",
       "<style scoped>\n",
       "    .dataframe tbody tr th:only-of-type {\n",
       "        vertical-align: middle;\n",
       "    }\n",
       "\n",
       "    .dataframe tbody tr th {\n",
       "        vertical-align: top;\n",
       "    }\n",
       "\n",
       "    .dataframe thead th {\n",
       "        text-align: right;\n",
       "    }\n",
       "</style>\n",
       "<table border=\"1\" class=\"dataframe\">\n",
       "  <thead>\n",
       "    <tr style=\"text-align: right;\">\n",
       "      <th></th>\n",
       "      <th>name</th>\n",
       "      <th>price</th>\n",
       "    </tr>\n",
       "    <tr>\n",
       "      <th>flower_id</th>\n",
       "      <th></th>\n",
       "      <th></th>\n",
       "    </tr>\n",
       "  </thead>\n",
       "  <tbody>\n",
       "    <tr>\n",
       "      <th>1002</th>\n",
       "      <td>rose</td>\n",
       "      <td>3.99</td>\n",
       "    </tr>\n",
       "  </tbody>\n",
       "</table>\n",
       "</div>"
      ],
      "text/plain": [
       "           name  price\n",
       "flower_id             \n",
       "1002       rose   3.99"
      ]
     },
     "execution_count": 15,
     "metadata": {},
     "output_type": "execute_result"
    }
   ],
   "source": [
    "df_flower_name.join(df_flower_price,how='inner')"
   ]
  },
  {
   "cell_type": "markdown",
   "metadata": {
    "slideshow": {
     "slide_type": "slide"
    }
   },
   "source": [
    "### Join Types: Outer Join\n",
    "<div align=\"center\"><img src=\"images/join_outer.png\" width=\"300px\"></div>"
   ]
  },
  {
   "cell_type": "code",
   "execution_count": 16,
   "metadata": {
    "slideshow": {
     "slide_type": "fragment"
    }
   },
   "outputs": [
    {
     "data": {
      "text/html": [
       "<div>\n",
       "<style scoped>\n",
       "    .dataframe tbody tr th:only-of-type {\n",
       "        vertical-align: middle;\n",
       "    }\n",
       "\n",
       "    .dataframe tbody tr th {\n",
       "        vertical-align: top;\n",
       "    }\n",
       "\n",
       "    .dataframe thead th {\n",
       "        text-align: right;\n",
       "    }\n",
       "</style>\n",
       "<table border=\"1\" class=\"dataframe\">\n",
       "  <thead>\n",
       "    <tr style=\"text-align: right;\">\n",
       "      <th></th>\n",
       "      <th>name</th>\n",
       "    </tr>\n",
       "    <tr>\n",
       "      <th>flower_id</th>\n",
       "      <th></th>\n",
       "    </tr>\n",
       "  </thead>\n",
       "  <tbody>\n",
       "    <tr>\n",
       "      <th>1001</th>\n",
       "      <td>iris</td>\n",
       "    </tr>\n",
       "    <tr>\n",
       "      <th>1002</th>\n",
       "      <td>rose</td>\n",
       "    </tr>\n",
       "  </tbody>\n",
       "</table>\n",
       "</div>"
      ],
      "text/plain": [
       "           name\n",
       "flower_id      \n",
       "1001       iris\n",
       "1002       rose"
      ]
     },
     "metadata": {},
     "output_type": "display_data"
    },
    {
     "data": {
      "text/html": [
       "<div>\n",
       "<style scoped>\n",
       "    .dataframe tbody tr th:only-of-type {\n",
       "        vertical-align: middle;\n",
       "    }\n",
       "\n",
       "    .dataframe tbody tr th {\n",
       "        vertical-align: top;\n",
       "    }\n",
       "\n",
       "    .dataframe thead th {\n",
       "        text-align: right;\n",
       "    }\n",
       "</style>\n",
       "<table border=\"1\" class=\"dataframe\">\n",
       "  <thead>\n",
       "    <tr style=\"text-align: right;\">\n",
       "      <th></th>\n",
       "      <th>price</th>\n",
       "    </tr>\n",
       "    <tr>\n",
       "      <th>flower_id</th>\n",
       "      <th></th>\n",
       "    </tr>\n",
       "  </thead>\n",
       "  <tbody>\n",
       "    <tr>\n",
       "      <th>1002</th>\n",
       "      <td>3.99</td>\n",
       "    </tr>\n",
       "    <tr>\n",
       "      <th>1003</th>\n",
       "      <td>2.25</td>\n",
       "    </tr>\n",
       "  </tbody>\n",
       "</table>\n",
       "</div>"
      ],
      "text/plain": [
       "           price\n",
       "flower_id       \n",
       "1002        3.99\n",
       "1003        2.25"
      ]
     },
     "metadata": {},
     "output_type": "display_data"
    }
   ],
   "source": [
    "display(df_flower_name,df_flower_price)"
   ]
  },
  {
   "cell_type": "code",
   "execution_count": 17,
   "metadata": {
    "slideshow": {
     "slide_type": "fragment"
    }
   },
   "outputs": [
    {
     "data": {
      "text/html": [
       "<div>\n",
       "<style scoped>\n",
       "    .dataframe tbody tr th:only-of-type {\n",
       "        vertical-align: middle;\n",
       "    }\n",
       "\n",
       "    .dataframe tbody tr th {\n",
       "        vertical-align: top;\n",
       "    }\n",
       "\n",
       "    .dataframe thead th {\n",
       "        text-align: right;\n",
       "    }\n",
       "</style>\n",
       "<table border=\"1\" class=\"dataframe\">\n",
       "  <thead>\n",
       "    <tr style=\"text-align: right;\">\n",
       "      <th></th>\n",
       "      <th>name</th>\n",
       "      <th>price</th>\n",
       "    </tr>\n",
       "    <tr>\n",
       "      <th>flower_id</th>\n",
       "      <th></th>\n",
       "      <th></th>\n",
       "    </tr>\n",
       "  </thead>\n",
       "  <tbody>\n",
       "    <tr>\n",
       "      <th>1001</th>\n",
       "      <td>iris</td>\n",
       "      <td>NaN</td>\n",
       "    </tr>\n",
       "    <tr>\n",
       "      <th>1002</th>\n",
       "      <td>rose</td>\n",
       "      <td>3.99</td>\n",
       "    </tr>\n",
       "    <tr>\n",
       "      <th>1003</th>\n",
       "      <td>NaN</td>\n",
       "      <td>2.25</td>\n",
       "    </tr>\n",
       "  </tbody>\n",
       "</table>\n",
       "</div>"
      ],
      "text/plain": [
       "           name  price\n",
       "flower_id             \n",
       "1001       iris    NaN\n",
       "1002       rose   3.99\n",
       "1003        NaN   2.25"
      ]
     },
     "execution_count": 17,
     "metadata": {},
     "output_type": "execute_result"
    }
   ],
   "source": [
    "df_flower_name.join(df_flower_price,how='outer')"
   ]
  },
  {
   "cell_type": "markdown",
   "metadata": {
    "slideshow": {
     "slide_type": "slide"
    }
   },
   "source": [
    "# Setting the Index When Reading in Data\n",
    "\n",
    "- instead of using `.set_index()`, can specify `index_col=`\n"
   ]
  },
  {
   "cell_type": "code",
   "execution_count": 18,
   "metadata": {
    "slideshow": {
     "slide_type": "fragment"
    }
   },
   "outputs": [
    {
     "data": {
      "text/html": [
       "<div>\n",
       "<style scoped>\n",
       "    .dataframe tbody tr th:only-of-type {\n",
       "        vertical-align: middle;\n",
       "    }\n",
       "\n",
       "    .dataframe tbody tr th {\n",
       "        vertical-align: top;\n",
       "    }\n",
       "\n",
       "    .dataframe thead th {\n",
       "        text-align: right;\n",
       "    }\n",
       "</style>\n",
       "<table border=\"1\" class=\"dataframe\">\n",
       "  <thead>\n",
       "    <tr style=\"text-align: right;\">\n",
       "      <th></th>\n",
       "      <th>purchase_id</th>\n",
       "      <th>lastname</th>\n",
       "      <th>purchase_date</th>\n",
       "      <th>stars</th>\n",
       "      <th>price</th>\n",
       "      <th>favorite_flower</th>\n",
       "    </tr>\n",
       "  </thead>\n",
       "  <tbody>\n",
       "    <tr>\n",
       "      <th>0</th>\n",
       "      <td>1000</td>\n",
       "      <td>PERKINS</td>\n",
       "      <td>2017-04-08</td>\n",
       "      <td>5</td>\n",
       "      <td>19.599886</td>\n",
       "      <td>iris</td>\n",
       "    </tr>\n",
       "    <tr>\n",
       "      <th>1</th>\n",
       "      <td>1001</td>\n",
       "      <td>ROBINSON</td>\n",
       "      <td>2017-01-01</td>\n",
       "      <td>5</td>\n",
       "      <td>37.983904</td>\n",
       "      <td>NaN</td>\n",
       "    </tr>\n",
       "  </tbody>\n",
       "</table>\n",
       "</div>"
      ],
      "text/plain": [
       "   purchase_id  lastname purchase_date  stars      price favorite_flower\n",
       "0         1000   PERKINS    2017-04-08      5  19.599886            iris\n",
       "1         1001  ROBINSON    2017-01-01      5  37.983904             NaN"
      ]
     },
     "execution_count": 18,
     "metadata": {},
     "output_type": "execute_result"
    }
   ],
   "source": [
    "# this csv has column for purchase_id\n",
    "pd.read_csv('../data/flowershop_data_with_dups.csv'\n",
    "           ).head(2)\n"
   ]
  },
  {
   "cell_type": "code",
   "execution_count": 19,
   "metadata": {
    "slideshow": {
     "slide_type": "fragment"
    }
   },
   "outputs": [
    {
     "data": {
      "text/html": [
       "<div>\n",
       "<style scoped>\n",
       "    .dataframe tbody tr th:only-of-type {\n",
       "        vertical-align: middle;\n",
       "    }\n",
       "\n",
       "    .dataframe tbody tr th {\n",
       "        vertical-align: top;\n",
       "    }\n",
       "\n",
       "    .dataframe thead th {\n",
       "        text-align: right;\n",
       "    }\n",
       "</style>\n",
       "<table border=\"1\" class=\"dataframe\">\n",
       "  <thead>\n",
       "    <tr style=\"text-align: right;\">\n",
       "      <th></th>\n",
       "      <th>lastname</th>\n",
       "      <th>purchase_date</th>\n",
       "      <th>stars</th>\n",
       "      <th>price</th>\n",
       "      <th>favorite_flower</th>\n",
       "    </tr>\n",
       "    <tr>\n",
       "      <th>purchase_id</th>\n",
       "      <th></th>\n",
       "      <th></th>\n",
       "      <th></th>\n",
       "      <th></th>\n",
       "      <th></th>\n",
       "    </tr>\n",
       "  </thead>\n",
       "  <tbody>\n",
       "    <tr>\n",
       "      <th>1000</th>\n",
       "      <td>PERKINS</td>\n",
       "      <td>2017-04-08</td>\n",
       "      <td>5</td>\n",
       "      <td>19.599886</td>\n",
       "      <td>iris</td>\n",
       "    </tr>\n",
       "    <tr>\n",
       "      <th>1001</th>\n",
       "      <td>ROBINSON</td>\n",
       "      <td>2017-01-01</td>\n",
       "      <td>5</td>\n",
       "      <td>37.983904</td>\n",
       "      <td>NaN</td>\n",
       "    </tr>\n",
       "  </tbody>\n",
       "</table>\n",
       "</div>"
      ],
      "text/plain": [
       "             lastname purchase_date  stars      price favorite_flower\n",
       "purchase_id                                                          \n",
       "1000          PERKINS    2017-04-08      5  19.599886            iris\n",
       "1001         ROBINSON    2017-01-01      5  37.983904             NaN"
      ]
     },
     "execution_count": 19,
     "metadata": {},
     "output_type": "execute_result"
    }
   ],
   "source": [
    "# can set the index when reading in the csv\n",
    "pd.read_csv('../data/flowershop_data_with_dups.csv',\n",
    "            index_col='purchase_id'\n",
    "           ).head(2)\n"
   ]
  },
  {
   "cell_type": "markdown",
   "metadata": {
    "slideshow": {
     "slide_type": "slide"
    }
   },
   "source": [
    "# Joining on the Index using `.join()`"
   ]
  },
  {
   "cell_type": "code",
   "execution_count": 20,
   "metadata": {
    "slideshow": {
     "slide_type": "fragment"
    }
   },
   "outputs": [
    {
     "data": {
      "text/html": [
       "<div>\n",
       "<style scoped>\n",
       "    .dataframe tbody tr th:only-of-type {\n",
       "        vertical-align: middle;\n",
       "    }\n",
       "\n",
       "    .dataframe tbody tr th {\n",
       "        vertical-align: top;\n",
       "    }\n",
       "\n",
       "    .dataframe thead th {\n",
       "        text-align: right;\n",
       "    }\n",
       "</style>\n",
       "<table border=\"1\" class=\"dataframe\">\n",
       "  <thead>\n",
       "    <tr style=\"text-align: right;\">\n",
       "      <th></th>\n",
       "      <th>name</th>\n",
       "    </tr>\n",
       "    <tr>\n",
       "      <th>flower_id</th>\n",
       "      <th></th>\n",
       "    </tr>\n",
       "  </thead>\n",
       "  <tbody>\n",
       "    <tr>\n",
       "      <th>1001</th>\n",
       "      <td>iris</td>\n",
       "    </tr>\n",
       "    <tr>\n",
       "      <th>1002</th>\n",
       "      <td>rose</td>\n",
       "    </tr>\n",
       "  </tbody>\n",
       "</table>\n",
       "</div>"
      ],
      "text/plain": [
       "           name\n",
       "flower_id      \n",
       "1001       iris\n",
       "1002       rose"
      ]
     },
     "execution_count": 20,
     "metadata": {},
     "output_type": "execute_result"
    }
   ],
   "source": [
    "# imagine that 'name' is a categorical variable\n",
    "df_flower_name[['name']]"
   ]
  },
  {
   "cell_type": "code",
   "execution_count": 21,
   "metadata": {
    "slideshow": {
     "slide_type": "fragment"
    }
   },
   "outputs": [
    {
     "data": {
      "text/html": [
       "<div>\n",
       "<style scoped>\n",
       "    .dataframe tbody tr th:only-of-type {\n",
       "        vertical-align: middle;\n",
       "    }\n",
       "\n",
       "    .dataframe tbody tr th {\n",
       "        vertical-align: top;\n",
       "    }\n",
       "\n",
       "    .dataframe thead th {\n",
       "        text-align: right;\n",
       "    }\n",
       "</style>\n",
       "<table border=\"1\" class=\"dataframe\">\n",
       "  <thead>\n",
       "    <tr style=\"text-align: right;\">\n",
       "      <th></th>\n",
       "      <th>flower_name_iris</th>\n",
       "      <th>flower_name_rose</th>\n",
       "    </tr>\n",
       "    <tr>\n",
       "      <th>flower_id</th>\n",
       "      <th></th>\n",
       "      <th></th>\n",
       "    </tr>\n",
       "  </thead>\n",
       "  <tbody>\n",
       "    <tr>\n",
       "      <th>1001</th>\n",
       "      <td>1</td>\n",
       "      <td>0</td>\n",
       "    </tr>\n",
       "    <tr>\n",
       "      <th>1002</th>\n",
       "      <td>0</td>\n",
       "      <td>1</td>\n",
       "    </tr>\n",
       "  </tbody>\n",
       "</table>\n",
       "</div>"
      ],
      "text/plain": [
       "           flower_name_iris  flower_name_rose\n",
       "flower_id                                    \n",
       "1001                      1                 0\n",
       "1002                      0                 1"
      ]
     },
     "execution_count": 21,
     "metadata": {},
     "output_type": "execute_result"
    }
   ],
   "source": [
    "# converting categorical to one-hot using get_dummies\n",
    "pd.get_dummies(df_flower_name['name'],prefix='flower_name')"
   ]
  },
  {
   "cell_type": "code",
   "execution_count": 22,
   "metadata": {
    "slideshow": {
     "slide_type": "fragment"
    }
   },
   "outputs": [
    {
     "data": {
      "text/html": [
       "<div>\n",
       "<style scoped>\n",
       "    .dataframe tbody tr th:only-of-type {\n",
       "        vertical-align: middle;\n",
       "    }\n",
       "\n",
       "    .dataframe tbody tr th {\n",
       "        vertical-align: top;\n",
       "    }\n",
       "\n",
       "    .dataframe thead th {\n",
       "        text-align: right;\n",
       "    }\n",
       "</style>\n",
       "<table border=\"1\" class=\"dataframe\">\n",
       "  <thead>\n",
       "    <tr style=\"text-align: right;\">\n",
       "      <th></th>\n",
       "      <th>name</th>\n",
       "      <th>flower_name_iris</th>\n",
       "      <th>flower_name_rose</th>\n",
       "    </tr>\n",
       "    <tr>\n",
       "      <th>flower_id</th>\n",
       "      <th></th>\n",
       "      <th></th>\n",
       "      <th></th>\n",
       "    </tr>\n",
       "  </thead>\n",
       "  <tbody>\n",
       "    <tr>\n",
       "      <th>1001</th>\n",
       "      <td>iris</td>\n",
       "      <td>1</td>\n",
       "      <td>0</td>\n",
       "    </tr>\n",
       "    <tr>\n",
       "      <th>1002</th>\n",
       "      <td>rose</td>\n",
       "      <td>0</td>\n",
       "      <td>1</td>\n",
       "    </tr>\n",
       "  </tbody>\n",
       "</table>\n",
       "</div>"
      ],
      "text/plain": [
       "           name  flower_name_iris  flower_name_rose\n",
       "flower_id                                          \n",
       "1001       iris                 1                 0\n",
       "1002       rose                 0                 1"
      ]
     },
     "execution_count": 22,
     "metadata": {},
     "output_type": "execute_result"
    }
   ],
   "source": [
    "# can join back using the default index\n",
    "df_flower_name[['name']].join(pd.get_dummies(df_flower_name['name'],prefix='flower_name'))"
   ]
  },
  {
   "cell_type": "markdown",
   "metadata": {
    "slideshow": {
     "slide_type": "slide"
    }
   },
   "source": [
    "# Join on Columns Instead of Index using `pd.merge()`\n",
    "\n",
    "- to do more complicated joins, use `pd.merge()`"
   ]
  },
  {
   "cell_type": "code",
   "execution_count": 23,
   "metadata": {
    "slideshow": {
     "slide_type": "fragment"
    }
   },
   "outputs": [
    {
     "data": {
      "text/html": [
       "<div>\n",
       "<style scoped>\n",
       "    .dataframe tbody tr th:only-of-type {\n",
       "        vertical-align: middle;\n",
       "    }\n",
       "\n",
       "    .dataframe tbody tr th {\n",
       "        vertical-align: top;\n",
       "    }\n",
       "\n",
       "    .dataframe thead th {\n",
       "        text-align: right;\n",
       "    }\n",
       "</style>\n",
       "<table border=\"1\" class=\"dataframe\">\n",
       "  <thead>\n",
       "    <tr style=\"text-align: right;\">\n",
       "      <th></th>\n",
       "      <th>name</th>\n",
       "      <th>price</th>\n",
       "    </tr>\n",
       "    <tr>\n",
       "      <th>flower_id</th>\n",
       "      <th></th>\n",
       "      <th></th>\n",
       "    </tr>\n",
       "  </thead>\n",
       "  <tbody>\n",
       "    <tr>\n",
       "      <th>1002</th>\n",
       "      <td>rose</td>\n",
       "      <td>3.99</td>\n",
       "    </tr>\n",
       "  </tbody>\n",
       "</table>\n",
       "</div>"
      ],
      "text/plain": [
       "           name  price\n",
       "flower_id             \n",
       "1002       rose   3.99"
      ]
     },
     "execution_count": 23,
     "metadata": {},
     "output_type": "execute_result"
    }
   ],
   "source": [
    "# using the dataframes before setting index using .set_index()\n",
    "pd.merge(df_flower_name,\n",
    "         df_flower_price, \n",
    "         left_on='flower_id',\n",
    "         right_on='flower_id') # what is the default join for merge?"
   ]
  },
  {
   "cell_type": "code",
   "execution_count": 24,
   "metadata": {
    "slideshow": {
     "slide_type": "fragment"
    }
   },
   "outputs": [
    {
     "data": {
      "text/html": [
       "<div>\n",
       "<style scoped>\n",
       "    .dataframe tbody tr th:only-of-type {\n",
       "        vertical-align: middle;\n",
       "    }\n",
       "\n",
       "    .dataframe tbody tr th {\n",
       "        vertical-align: top;\n",
       "    }\n",
       "\n",
       "    .dataframe thead th {\n",
       "        text-align: right;\n",
       "    }\n",
       "</style>\n",
       "<table border=\"1\" class=\"dataframe\">\n",
       "  <thead>\n",
       "    <tr style=\"text-align: right;\">\n",
       "      <th></th>\n",
       "      <th>name</th>\n",
       "      <th>price</th>\n",
       "    </tr>\n",
       "    <tr>\n",
       "      <th>flower_id</th>\n",
       "      <th></th>\n",
       "      <th></th>\n",
       "    </tr>\n",
       "  </thead>\n",
       "  <tbody>\n",
       "    <tr>\n",
       "      <th>1001</th>\n",
       "      <td>iris</td>\n",
       "      <td>NaN</td>\n",
       "    </tr>\n",
       "    <tr>\n",
       "      <th>1002</th>\n",
       "      <td>rose</td>\n",
       "      <td>3.99</td>\n",
       "    </tr>\n",
       "    <tr>\n",
       "      <th>1003</th>\n",
       "      <td>NaN</td>\n",
       "      <td>2.25</td>\n",
       "    </tr>\n",
       "  </tbody>\n",
       "</table>\n",
       "</div>"
      ],
      "text/plain": [
       "           name  price\n",
       "flower_id             \n",
       "1001       iris    NaN\n",
       "1002       rose   3.99\n",
       "1003        NaN   2.25"
      ]
     },
     "execution_count": 24,
     "metadata": {},
     "output_type": "execute_result"
    }
   ],
   "source": [
    "# if both id columns have the same name, use on\n",
    "pd.merge(df_flower_name,\n",
    "         df_flower_price,\n",
    "         on='flower_id',\n",
    "         how='outer') "
   ]
  },
  {
   "cell_type": "markdown",
   "metadata": {
    "slideshow": {
     "slide_type": "slide"
    }
   },
   "source": [
    "# Joining Datasets Review\n",
    "\n",
    "- Use `.join()` when you can, using dataframe indices\n",
    "- May need to set the dataframe indices (`.set_index()` or `index_col=`)\n",
    "- Know the different general join types: Left, Right, Inner, Outer\n",
    "- Use `pd.merge()` when you need something more complicated"
   ]
  },
  {
   "cell_type": "markdown",
   "metadata": {
    "slideshow": {
     "slide_type": "slide"
    }
   },
   "source": [
    "<br>\n",
    "<br>\n",
    "\n",
    "# <center>Questions?</center>\n",
    "<br>\n",
    "<br>"
   ]
  },
  {
   "cell_type": "markdown",
   "metadata": {
    "slideshow": {
     "slide_type": "slide"
    }
   },
   "source": [
    "\n",
    "<br>\n",
    "<br>\n",
    "\n",
    "# <center>Dimensionality Reduction</center>\n",
    "<br>\n",
    "<br>"
   ]
  },
  {
   "cell_type": "markdown",
   "metadata": {
    "slideshow": {
     "slide_type": "slide"
    }
   },
   "source": [
    "# Recall: Methods for Avoiding Overfitting\n",
    "<br>\n",
    "\n",
    "- Collect additional examples\n",
    "- Use a simpler model\n",
    "- Regularization\n",
    "- **Reduce the dimensions of our data: Dimensionality Reduction**"
   ]
  },
  {
   "cell_type": "markdown",
   "metadata": {
    "slideshow": {
     "slide_type": "slide"
    }
   },
   "source": [
    "# Dimensionality Reduction\n",
    "<br>\n",
    "\n",
    "- Reasons to reduce the number of features:\n",
    " - improve *model performance* (reducing complexity reducing chance of overfitting)\n",
    " - improve *speed performance* (reducing number of calculations)\n",
    " - *interpretation* (which features are most important?)\n",
    "<br>\n",
    "<br>\n",
    "\n",
    "- **Feature Selection**\n",
    " - choose a subset of original features\n",
    "<br>\n",
    "<br>\n",
    "- **Feature Extraction**\n",
    " - combine/transform features to generate a new feature space"
   ]
  },
  {
   "cell_type": "markdown",
   "metadata": {
    "slideshow": {
     "slide_type": "slide"
    }
   },
   "source": [
    "# Load Binary Wine Classification"
   ]
  },
  {
   "cell_type": "code",
   "execution_count": 25,
   "metadata": {
    "slideshow": {
     "slide_type": "fragment"
    }
   },
   "outputs": [
    {
     "data": {
      "text/plain": [
       "array(['alcohol', 'malic_acid', 'ash', 'alcalinity_of_ash', 'magnesium',\n",
       "       'total_phenols', 'flavanoids', 'nonflavanoid_phenols',\n",
       "       'proanthocyanins', 'color_intensity', 'hue',\n",
       "       'od280/od315_of_diluted_wines', 'proline'], dtype=object)"
      ]
     },
     "execution_count": 25,
     "metadata": {},
     "output_type": "execute_result"
    }
   ],
   "source": [
    "from sklearn import datasets\n",
    "from sklearn.model_selection import train_test_split\n",
    "\n",
    "wine = datasets.load_wine()\n",
    "\n",
    "X_wine = pd.DataFrame(wine.data,columns=wine.feature_names)\n",
    "y_wine = wine.target\n",
    "\n",
    "# reduce to binary classification\n",
    "X_wine = X_wine.iloc[y_wine < 2]\n",
    "y_wine = y_wine[y_wine < 2]\n",
    "\n",
    "X_train,X_test,y_train,y_test = train_test_split(X_wine,y_wine,random_state=0)\n",
    "X_train.columns.values"
   ]
  },
  {
   "cell_type": "code",
   "execution_count": 26,
   "metadata": {
    "slideshow": {
     "slide_type": "fragment"
    }
   },
   "outputs": [
    {
     "data": {
      "text/html": [
       "<div>\n",
       "<style scoped>\n",
       "    .dataframe tbody tr th:only-of-type {\n",
       "        vertical-align: middle;\n",
       "    }\n",
       "\n",
       "    .dataframe tbody tr th {\n",
       "        vertical-align: top;\n",
       "    }\n",
       "\n",
       "    .dataframe thead th {\n",
       "        text-align: right;\n",
       "    }\n",
       "</style>\n",
       "<table border=\"1\" class=\"dataframe\">\n",
       "  <thead>\n",
       "    <tr style=\"text-align: right;\">\n",
       "      <th></th>\n",
       "      <th>alcohol</th>\n",
       "      <th>malic_acid</th>\n",
       "      <th>ash</th>\n",
       "      <th>alcalinity_of_ash</th>\n",
       "      <th>magnesium</th>\n",
       "      <th>total_phenols</th>\n",
       "      <th>flavanoids</th>\n",
       "      <th>nonflavanoid_phenols</th>\n",
       "      <th>proanthocyanins</th>\n",
       "      <th>color_intensity</th>\n",
       "      <th>hue</th>\n",
       "      <th>od280/od315_of_diluted_wines</th>\n",
       "      <th>proline</th>\n",
       "    </tr>\n",
       "  </thead>\n",
       "  <tbody>\n",
       "    <tr>\n",
       "      <th>76</th>\n",
       "      <td>13.03</td>\n",
       "      <td>0.90</td>\n",
       "      <td>1.71</td>\n",
       "      <td>16.0</td>\n",
       "      <td>86.0</td>\n",
       "      <td>1.95</td>\n",
       "      <td>2.03</td>\n",
       "      <td>0.24</td>\n",
       "      <td>1.46</td>\n",
       "      <td>4.60</td>\n",
       "      <td>1.19</td>\n",
       "      <td>2.48</td>\n",
       "      <td>392.0</td>\n",
       "    </tr>\n",
       "    <tr>\n",
       "      <th>78</th>\n",
       "      <td>12.33</td>\n",
       "      <td>0.99</td>\n",
       "      <td>1.95</td>\n",
       "      <td>14.8</td>\n",
       "      <td>136.0</td>\n",
       "      <td>1.90</td>\n",
       "      <td>1.85</td>\n",
       "      <td>0.35</td>\n",
       "      <td>2.76</td>\n",
       "      <td>3.40</td>\n",
       "      <td>1.06</td>\n",
       "      <td>2.31</td>\n",
       "      <td>750.0</td>\n",
       "    </tr>\n",
       "    <tr>\n",
       "      <th>45</th>\n",
       "      <td>14.21</td>\n",
       "      <td>4.04</td>\n",
       "      <td>2.44</td>\n",
       "      <td>18.9</td>\n",
       "      <td>111.0</td>\n",
       "      <td>2.85</td>\n",
       "      <td>2.65</td>\n",
       "      <td>0.30</td>\n",
       "      <td>1.25</td>\n",
       "      <td>5.24</td>\n",
       "      <td>0.87</td>\n",
       "      <td>3.33</td>\n",
       "      <td>1080.0</td>\n",
       "    </tr>\n",
       "  </tbody>\n",
       "</table>\n",
       "</div>"
      ],
      "text/plain": [
       "    alcohol  malic_acid   ash  alcalinity_of_ash  magnesium  total_phenols  \\\n",
       "76    13.03        0.90  1.71               16.0       86.0           1.95   \n",
       "78    12.33        0.99  1.95               14.8      136.0           1.90   \n",
       "45    14.21        4.04  2.44               18.9      111.0           2.85   \n",
       "\n",
       "    flavanoids  nonflavanoid_phenols  proanthocyanins  color_intensity   hue  \\\n",
       "76        2.03                  0.24             1.46             4.60  1.19   \n",
       "78        1.85                  0.35             2.76             3.40  1.06   \n",
       "45        2.65                  0.30             1.25             5.24  0.87   \n",
       "\n",
       "    od280/od315_of_diluted_wines  proline  \n",
       "76                          2.48    392.0  \n",
       "78                          2.31    750.0  \n",
       "45                          3.33   1080.0  "
      ]
     },
     "execution_count": 26,
     "metadata": {},
     "output_type": "execute_result"
    }
   ],
   "source": [
    "X_train.head(3)"
   ]
  },
  {
   "cell_type": "markdown",
   "metadata": {
    "slideshow": {
     "slide_type": "slide"
    }
   },
   "source": [
    "# Need to Standardize Features"
   ]
  },
  {
   "cell_type": "code",
   "execution_count": 27,
   "metadata": {},
   "outputs": [
    {
     "data": {
      "text/html": [
       "<div>\n",
       "<style scoped>\n",
       "    .dataframe tbody tr th:only-of-type {\n",
       "        vertical-align: middle;\n",
       "    }\n",
       "\n",
       "    .dataframe tbody tr th {\n",
       "        vertical-align: top;\n",
       "    }\n",
       "\n",
       "    .dataframe thead th {\n",
       "        text-align: right;\n",
       "    }\n",
       "</style>\n",
       "<table border=\"1\" class=\"dataframe\">\n",
       "  <thead>\n",
       "    <tr style=\"text-align: right;\">\n",
       "      <th></th>\n",
       "      <th>mean</th>\n",
       "      <th>std</th>\n",
       "    </tr>\n",
       "  </thead>\n",
       "  <tbody>\n",
       "    <tr>\n",
       "      <th>proline</th>\n",
       "      <td>770.381443</td>\n",
       "      <td>351.632012</td>\n",
       "    </tr>\n",
       "    <tr>\n",
       "      <th>magnesium</th>\n",
       "      <td>99.649485</td>\n",
       "      <td>15.215837</td>\n",
       "    </tr>\n",
       "    <tr>\n",
       "      <th>alcalinity_of_ash</th>\n",
       "      <td>18.926804</td>\n",
       "      <td>3.162986</td>\n",
       "    </tr>\n",
       "    <tr>\n",
       "      <th>alcohol</th>\n",
       "      <td>12.876392</td>\n",
       "      <td>0.882710</td>\n",
       "    </tr>\n",
       "    <tr>\n",
       "      <th>color_intensity</th>\n",
       "      <td>4.112680</td>\n",
       "      <td>1.660242</td>\n",
       "    </tr>\n",
       "    <tr>\n",
       "      <th>od280/od315_of_diluted_wines</th>\n",
       "      <td>2.933299</td>\n",
       "      <td>0.452246</td>\n",
       "    </tr>\n",
       "    <tr>\n",
       "      <th>total_phenols</th>\n",
       "      <td>2.479175</td>\n",
       "      <td>0.537158</td>\n",
       "    </tr>\n",
       "    <tr>\n",
       "      <th>flavanoids</th>\n",
       "      <td>2.426598</td>\n",
       "      <td>0.672639</td>\n",
       "    </tr>\n",
       "    <tr>\n",
       "      <th>ash</th>\n",
       "      <td>2.338660</td>\n",
       "      <td>0.279052</td>\n",
       "    </tr>\n",
       "    <tr>\n",
       "      <th>malic_acid</th>\n",
       "      <td>2.033402</td>\n",
       "      <td>0.979120</td>\n",
       "    </tr>\n",
       "    <tr>\n",
       "      <th>proanthocyanins</th>\n",
       "      <td>1.732474</td>\n",
       "      <td>0.520371</td>\n",
       "    </tr>\n",
       "    <tr>\n",
       "      <th>hue</th>\n",
       "      <td>1.054082</td>\n",
       "      <td>0.179279</td>\n",
       "    </tr>\n",
       "    <tr>\n",
       "      <th>nonflavanoid_phenols</th>\n",
       "      <td>0.329794</td>\n",
       "      <td>0.105574</td>\n",
       "    </tr>\n",
       "  </tbody>\n",
       "</table>\n",
       "</div>"
      ],
      "text/plain": [
       "                                    mean         std\n",
       "proline                       770.381443  351.632012\n",
       "magnesium                      99.649485   15.215837\n",
       "alcalinity_of_ash              18.926804    3.162986\n",
       "alcohol                        12.876392    0.882710\n",
       "color_intensity                 4.112680    1.660242\n",
       "od280/od315_of_diluted_wines    2.933299    0.452246\n",
       "total_phenols                   2.479175    0.537158\n",
       "flavanoids                      2.426598    0.672639\n",
       "ash                             2.338660    0.279052\n",
       "malic_acid                      2.033402    0.979120\n",
       "proanthocyanins                 1.732474    0.520371\n",
       "hue                             1.054082    0.179279\n",
       "nonflavanoid_phenols            0.329794    0.105574"
      ]
     },
     "execution_count": 27,
     "metadata": {},
     "output_type": "execute_result"
    }
   ],
   "source": [
    "X_train.agg(['mean','std']).T.sort_values('mean',ascending=False)"
   ]
  },
  {
   "cell_type": "markdown",
   "metadata": {
    "slideshow": {
     "slide_type": "slide"
    }
   },
   "source": [
    "# Standardize Features"
   ]
  },
  {
   "cell_type": "code",
   "execution_count": 28,
   "metadata": {
    "slideshow": {
     "slide_type": "fragment"
    }
   },
   "outputs": [],
   "source": [
    "from sklearn.preprocessing import StandardScaler\n",
    "\n",
    "ss = StandardScaler()\n",
    "X_train = pd.DataFrame(ss.fit_transform(X_train),columns=X_train.columns)\n",
    "\n",
    "X_test = ss.transform(X_test)"
   ]
  },
  {
   "cell_type": "code",
   "execution_count": 29,
   "metadata": {
    "slideshow": {
     "slide_type": "fragment"
    }
   },
   "outputs": [
    {
     "data": {
      "text/html": [
       "<div>\n",
       "<style scoped>\n",
       "    .dataframe tbody tr th:only-of-type {\n",
       "        vertical-align: middle;\n",
       "    }\n",
       "\n",
       "    .dataframe tbody tr th {\n",
       "        vertical-align: top;\n",
       "    }\n",
       "\n",
       "    .dataframe thead th {\n",
       "        text-align: right;\n",
       "    }\n",
       "</style>\n",
       "<table border=\"1\" class=\"dataframe\">\n",
       "  <thead>\n",
       "    <tr style=\"text-align: right;\">\n",
       "      <th></th>\n",
       "      <th>mean</th>\n",
       "      <th>std</th>\n",
       "    </tr>\n",
       "  </thead>\n",
       "  <tbody>\n",
       "    <tr>\n",
       "      <th>total_phenols</th>\n",
       "      <td>2.028160e-15</td>\n",
       "      <td>1.005195</td>\n",
       "    </tr>\n",
       "    <tr>\n",
       "      <th>flavanoids</th>\n",
       "      <td>6.638447e-16</td>\n",
       "      <td>1.005195</td>\n",
       "    </tr>\n",
       "    <tr>\n",
       "      <th>alcalinity_of_ash</th>\n",
       "      <td>4.727032e-16</td>\n",
       "      <td>1.005195</td>\n",
       "    </tr>\n",
       "    <tr>\n",
       "      <th>magnesium</th>\n",
       "      <td>3.694067e-16</td>\n",
       "      <td>1.005195</td>\n",
       "    </tr>\n",
       "    <tr>\n",
       "      <th>alcohol</th>\n",
       "      <td>1.281907e-16</td>\n",
       "      <td>1.005195</td>\n",
       "    </tr>\n",
       "    <tr>\n",
       "      <th>proline</th>\n",
       "      <td>-3.204767e-17</td>\n",
       "      <td>1.005195</td>\n",
       "    </tr>\n",
       "    <tr>\n",
       "      <th>proanthocyanins</th>\n",
       "      <td>-1.110223e-16</td>\n",
       "      <td>1.005195</td>\n",
       "    </tr>\n",
       "    <tr>\n",
       "      <th>nonflavanoid_phenols</th>\n",
       "      <td>-2.495140e-16</td>\n",
       "      <td>1.005195</td>\n",
       "    </tr>\n",
       "    <tr>\n",
       "      <th>color_intensity</th>\n",
       "      <td>-4.051742e-16</td>\n",
       "      <td>1.005195</td>\n",
       "    </tr>\n",
       "    <tr>\n",
       "      <th>malic_acid</th>\n",
       "      <td>-4.229149e-16</td>\n",
       "      <td>1.005195</td>\n",
       "    </tr>\n",
       "    <tr>\n",
       "      <th>od280/od315_of_diluted_wines</th>\n",
       "      <td>-9.694422e-16</td>\n",
       "      <td>1.005195</td>\n",
       "    </tr>\n",
       "    <tr>\n",
       "      <th>hue</th>\n",
       "      <td>-1.818706e-15</td>\n",
       "      <td>1.005195</td>\n",
       "    </tr>\n",
       "    <tr>\n",
       "      <th>ash</th>\n",
       "      <td>-2.128881e-15</td>\n",
       "      <td>1.005195</td>\n",
       "    </tr>\n",
       "  </tbody>\n",
       "</table>\n",
       "</div>"
      ],
      "text/plain": [
       "                                      mean       std\n",
       "total_phenols                 2.028160e-15  1.005195\n",
       "flavanoids                    6.638447e-16  1.005195\n",
       "alcalinity_of_ash             4.727032e-16  1.005195\n",
       "magnesium                     3.694067e-16  1.005195\n",
       "alcohol                       1.281907e-16  1.005195\n",
       "proline                      -3.204767e-17  1.005195\n",
       "proanthocyanins              -1.110223e-16  1.005195\n",
       "nonflavanoid_phenols         -2.495140e-16  1.005195\n",
       "color_intensity              -4.051742e-16  1.005195\n",
       "malic_acid                   -4.229149e-16  1.005195\n",
       "od280/od315_of_diluted_wines -9.694422e-16  1.005195\n",
       "hue                          -1.818706e-15  1.005195\n",
       "ash                          -2.128881e-15  1.005195"
      ]
     },
     "execution_count": 29,
     "metadata": {},
     "output_type": "execute_result"
    }
   ],
   "source": [
    "X_train.agg(['mean','std']).T.sort_values('mean',ascending=False)"
   ]
  },
  {
   "cell_type": "markdown",
   "metadata": {
    "slideshow": {
     "slide_type": "slide"
    }
   },
   "source": [
    "# Recall: Predicting vs Transforming with Train/Test Split\n",
    "<br>\n",
    "- When transforming data, fit on the training set, transform both train and test\n",
    "<br>\n",
    "<br>\n",
    "\n",
    "<div align=\"center\"><img src=\"images/transformation_pipeline.png\" width=\"900px\"></div>\n",
    "\n",
    "From PML"
   ]
  },
  {
   "cell_type": "markdown",
   "metadata": {
    "slideshow": {
     "slide_type": "slide"
    }
   },
   "source": [
    "# Recall: Predicting vs Transforming with Train/Test Split\n",
    "<br>\n",
    "- When performing prediction, train on the training set, evaluate on the test set\n",
    "<br>\n",
    "\n",
    "<div align=\"center\"><img src=\"images/modelpredict_pipeline.png\" width=\"500px\"></div>\n",
    "\n",
    "From PML"
   ]
  },
  {
   "cell_type": "markdown",
   "metadata": {
    "slideshow": {
     "slide_type": "slide"
    }
   },
   "source": [
    "# Feature Selection\n",
    "<br>\n",
    "\n",
    "- Select a subset of features\n",
    "- Based on how much they contribute to predicting the target 'y'"
   ]
  },
  {
   "cell_type": "markdown",
   "metadata": {
    "slideshow": {
     "slide_type": "fragment"
    }
   },
   "source": [
    "- From the Model\n",
    "    - Linear Model with LASSO Regularization\n",
    "    - Tree Based Models Feature Importance\n",
    "- Univariate Tests\n",
    "- Recursive Feature Selection"
   ]
  },
  {
   "cell_type": "markdown",
   "metadata": {
    "slideshow": {
     "slide_type": "slide"
    }
   },
   "source": [
    "# Feature Selection: LASSO (L1)\n",
    "\n",
    "- LASSO or $\\ell_1$ or `l1` regularization drives the coefficient of uninformative features to 0"
   ]
  },
  {
   "cell_type": "code",
   "execution_count": 30,
   "metadata": {
    "slideshow": {
     "slide_type": "fragment"
    }
   },
   "outputs": [
    {
     "data": {
      "text/plain": [
       "array([-5.74709641, -1.20824931, -2.70057811,  2.47398434, -0.28304842])"
      ]
     },
     "execution_count": 30,
     "metadata": {},
     "output_type": "execute_result"
    }
   ],
   "source": [
    "from sklearn.linear_model import LogisticRegression\n",
    "\n",
    "# First, without regularization\n",
    "#   C is the inverse regularization strength: higher means less regularization\n",
    "logr = LogisticRegression(C=100, penalty=\"l1\", solver=\"liblinear\", random_state=123)\n",
    "logr.fit(X_train, y_train)\n",
    "logr.coef_[0,:5]"
   ]
  },
  {
   "cell_type": "code",
   "execution_count": 31,
   "metadata": {
    "slideshow": {
     "slide_type": "fragment"
    }
   },
   "outputs": [
    {
     "name": "stdout",
     "output_type": "stream",
     "text": [
      "alcalinity_of_ash              :  2.474\n",
      "proanthocyanins                :  1.144\n",
      "hue                            :  1.069\n",
      "nonflavanoid_phenols           :  0.000\n",
      "total_phenols                  : -0.146\n",
      "magnesium                      : -0.283\n",
      "flavanoids                     : -0.376\n",
      "color_intensity                : -0.638\n",
      "od280/od315_of_diluted_wines   : -0.860\n",
      "malic_acid                     : -1.208\n",
      "ash                            : -2.701\n",
      "alcohol                        : -5.747\n",
      "proline                        : -7.568\n"
     ]
    }
   ],
   "source": [
    "sorted_tuples = sorted(list(zip(X_train.columns.values,logr.coef_[0])),key=lambda x:x[1],reverse=True)\n",
    "for feature,coef in sorted_tuples:\n",
    "    print(f'{feature:30s} : {coef: 0.3f}')"
   ]
  },
  {
   "cell_type": "markdown",
   "metadata": {
    "slideshow": {
     "slide_type": "slide"
    }
   },
   "source": [
    "# Feature Selection: LASSO (L1) Cont."
   ]
  },
  {
   "cell_type": "code",
   "execution_count": 32,
   "metadata": {
    "slideshow": {
     "slide_type": "fragment"
    }
   },
   "outputs": [
    {
     "name": "stdout",
     "output_type": "stream",
     "text": [
      "malic_acid                     :  0.000\n",
      "ash                            :  0.000\n",
      "alcalinity_of_ash              :  0.000\n",
      "magnesium                      :  0.000\n",
      "total_phenols                  :  0.000\n",
      "nonflavanoid_phenols           :  0.000\n",
      "proanthocyanins                :  0.000\n",
      "color_intensity                :  0.000\n",
      "hue                            :  0.000\n",
      "od280/od315_of_diluted_wines   :  0.000\n",
      "flavanoids                     : -0.007\n",
      "alcohol                        : -0.982\n",
      "proline                        : -1.102\n"
     ]
    }
   ],
   "source": [
    "# Now with LASSO\n",
    "logr = LogisticRegression(C=0.1, penalty=\"l1\", solver=\"liblinear\", random_state=123)\n",
    "logr.fit(X_train, y_train)\n",
    "\n",
    "sorted_tuples = sorted(list(zip(X_train.columns.values,logr.coef_[0])),key=lambda x:x[1],reverse=True)\n",
    "for feature,coef in sorted_tuples:\n",
    "    print(f'{feature:30s} : {coef: 0.3f}')"
   ]
  },
  {
   "cell_type": "code",
   "execution_count": 33,
   "metadata": {
    "slideshow": {
     "slide_type": "fragment"
    }
   },
   "outputs": [
    {
     "data": {
      "text/plain": [
       "Index(['alcohol', 'flavanoids', 'proline'], dtype='object')"
      ]
     },
     "execution_count": 33,
     "metadata": {},
     "output_type": "execute_result"
    }
   ],
   "source": [
    "# which columns were kept?\n",
    "X_train.columns[logr.coef_[0] != 0]"
   ]
  },
  {
   "cell_type": "markdown",
   "metadata": {
    "slideshow": {
     "slide_type": "slide"
    }
   },
   "source": [
    "# Feature Selection: Tree Based Model Feature Importance\n",
    "\n",
    "- Trees choose questions based on removing impurity\n",
    "- We can rank the feature based on how much impurity they remove"
   ]
  },
  {
   "cell_type": "code",
   "execution_count": 34,
   "metadata": {
    "slideshow": {
     "slide_type": "fragment"
    }
   },
   "outputs": [
    {
     "data": {
      "text/plain": [
       "array([0.27332426, 0.01783127, 0.01145411, 0.05480187, 0.05158374,\n",
       "       0.05521824, 0.10260545, 0.01117794, 0.01033494, 0.13339066,\n",
       "       0.00759636, 0.0216486 , 0.24903258])"
      ]
     },
     "execution_count": 34,
     "metadata": {},
     "output_type": "execute_result"
    }
   ],
   "source": [
    "from sklearn.ensemble import RandomForestClassifier\n",
    "\n",
    "rf = RandomForestClassifier(random_state=123).fit(X_train,y_train)\n",
    "rf.feature_importances_ # (normalized) total reduction of function measuring impurity"
   ]
  },
  {
   "cell_type": "code",
   "execution_count": 35,
   "metadata": {
    "slideshow": {
     "slide_type": "fragment"
    }
   },
   "outputs": [
    {
     "data": {
      "text/plain": [
       "alcohol                         0.273\n",
       "proline                         0.249\n",
       "color_intensity                 0.133\n",
       "flavanoids                      0.103\n",
       "total_phenols                   0.055\n",
       "alcalinity_of_ash               0.055\n",
       "magnesium                       0.052\n",
       "od280/od315_of_diluted_wines    0.022\n",
       "malic_acid                      0.018\n",
       "ash                             0.011\n",
       "nonflavanoid_phenols            0.011\n",
       "proanthocyanins                 0.010\n",
       "hue                             0.008\n",
       "dtype: float64"
      ]
     },
     "execution_count": 35,
     "metadata": {},
     "output_type": "execute_result"
    }
   ],
   "source": [
    "feature_importances = pd.Series(rf.feature_importances_,index=X_train.columns)\n",
    "feature_importances.sort_values(ascending=False).round(3)"
   ]
  },
  {
   "cell_type": "markdown",
   "metadata": {
    "slideshow": {
     "slide_type": "slide"
    }
   },
   "source": [
    "# Feature Selection: Tree Based Model Feature Importance"
   ]
  },
  {
   "cell_type": "code",
   "execution_count": 36,
   "metadata": {
    "slideshow": {
     "slide_type": "fragment"
    }
   },
   "outputs": [
    {
     "data": {
      "image/png": "[encoded data removed]",
      "text/plain": [
       "<Figure size 864x720 with 1 Axes>"
      ]
     },
     "metadata": {
      "needs_background": "light"
     },
     "output_type": "display_data"
    }
   ],
   "source": [
    "fig,ax = plt.subplots(1,1,figsize=(12,10))\n",
    "feature_importances.sort_values().plot.barh(ax=ax);\n",
    "ax.set_yticklabels(ax.get_yticklabels(),fontsize=20);"
   ]
  },
  {
   "cell_type": "markdown",
   "metadata": {
    "slideshow": {
     "slide_type": "fragment"
    }
   },
   "source": [
    "Which of these should we keep? Elbow method? Threshold at mean?"
   ]
  },
  {
   "cell_type": "markdown",
   "metadata": {
    "slideshow": {
     "slide_type": "slide"
    }
   },
   "source": [
    "# Feature Selection: SelectFromModel"
   ]
  },
  {
   "cell_type": "code",
   "execution_count": 37,
   "metadata": {
    "slideshow": {
     "slide_type": "fragment"
    }
   },
   "outputs": [
    {
     "data": {
      "text/plain": [
       "array([ True, False, False, False, False, False,  True, False, False,\n",
       "       False, False, False,  True])"
      ]
     },
     "execution_count": 37,
     "metadata": {},
     "output_type": "execute_result"
    }
   ],
   "source": [
    "from sklearn.feature_selection import SelectFromModel\n",
    "\n",
    "sfm = SelectFromModel(logr,\n",
    "                      threshold=None, # if model uses l1 regularization, anything greater than 1e-5, otherwise mean\n",
    "                      prefit=True     # do not need to re-fit\n",
    "                     )\n",
    "\n",
    "sfm.get_support() # boolean mask of features selected"
   ]
  },
  {
   "cell_type": "code",
   "execution_count": 38,
   "metadata": {
    "slideshow": {
     "slide_type": "fragment"
    }
   },
   "outputs": [
    {
     "data": {
      "text/plain": [
       "Index(['alcohol', 'flavanoids', 'proline'], dtype='object')"
      ]
     },
     "execution_count": 38,
     "metadata": {},
     "output_type": "execute_result"
    }
   ],
   "source": [
    "X_train.columns[sfm.get_support()]"
   ]
  },
  {
   "cell_type": "code",
   "execution_count": 39,
   "metadata": {
    "slideshow": {
     "slide_type": "fragment"
    }
   },
   "outputs": [
    {
     "data": {
      "text/plain": [
       "(97, 3)"
      ]
     },
     "execution_count": 39,
     "metadata": {},
     "output_type": "execute_result"
    }
   ],
   "source": [
    "X_train_subset = sfm.transform(X_train)\n",
    "X_train_subset.shape"
   ]
  },
  {
   "cell_type": "code",
   "execution_count": 40,
   "metadata": {
    "slideshow": {
     "slide_type": "fragment"
    }
   },
   "outputs": [
    {
     "data": {
      "text/plain": [
       "array([[ 0.17492287, -0.59267761, -1.08166225],\n",
       "       [-0.62220886, -0.86167036, -0.05826353],\n",
       "       [ 1.51865922,  0.33385297,  0.88509284]])"
      ]
     },
     "execution_count": 40,
     "metadata": {},
     "output_type": "execute_result"
    }
   ],
   "source": [
    "X_train_subset[:3] # note that this is no-longer a dataframe"
   ]
  },
  {
   "cell_type": "markdown",
   "metadata": {
    "slideshow": {
     "slide_type": "slide"
    }
   },
   "source": [
    "# Feature Selection: SelectFromModel Cont."
   ]
  },
  {
   "cell_type": "code",
   "execution_count": 41,
   "metadata": {
    "slideshow": {
     "slide_type": "fragment"
    }
   },
   "outputs": [],
   "source": [
    "sfm_rf = SelectFromModel(RandomForestClassifier(),\n",
    "                         threshold='mean',   # return all features with value greater than the mean\n",
    "                         prefit=False        # will refit\n",
    "                        ).fit(X_train,y_train)\n",
    "\n",
    "X_train.columns[sfm_rf.get_support()]\n",
    "\n",
    "sfm_rf = SelectFromModel(RandomForestClassifier(),threshold='mean')\n",
    "X_train_subset = sfm_rf.fit_transform(X_train,y_train)\n",
    "X_test_subset = sfm_rf.transform(X_test)"
   ]
  },
  {
   "cell_type": "code",
   "execution_count": 42,
   "metadata": {
    "slideshow": {
     "slide_type": "fragment"
    }
   },
   "outputs": [
    {
     "data": {
      "text/plain": [
       "0.07692307692307693"
      ]
     },
     "execution_count": 42,
     "metadata": {},
     "output_type": "execute_result"
    }
   ],
   "source": [
    "sfm_rf.estimator_.feature_importances_.mean()"
   ]
  },
  {
   "cell_type": "code",
   "execution_count": 43,
   "metadata": {
    "slideshow": {
     "slide_type": "fragment"
    }
   },
   "outputs": [
    {
     "data": {
      "text/plain": [
       "proline                         0.284\n",
       "alcohol                         0.229\n",
       "color_intensity                 0.157\n",
       "flavanoids                      0.101\n",
       "total_phenols                   0.058\n",
       "magnesium                       0.057\n",
       "alcalinity_of_ash               0.048\n",
       "od280/od315_of_diluted_wines    0.015\n",
       "nonflavanoid_phenols            0.014\n",
       "ash                             0.010\n",
       "hue                             0.010\n",
       "proanthocyanins                 0.009\n",
       "malic_acid                      0.008\n",
       "dtype: float64"
      ]
     },
     "execution_count": 43,
     "metadata": {},
     "output_type": "execute_result"
    }
   ],
   "source": [
    "feature_importances = pd.Series(sfm_rf.estimator_.feature_importances_,index=X_train.columns)\n",
    "feature_importances.sort_values(ascending=False).round(3)"
   ]
  },
  {
   "cell_type": "markdown",
   "metadata": {
    "slideshow": {
     "slide_type": "slide"
    }
   },
   "source": [
    "# Feature Selection: Univariate Tests\n",
    "\n",
    "- Perform statistical test on each feature **independent of all others**\n",
    "  - Rank and select top k features\n",
    "  - sklearn: `SelectKBest`\n",
    "  - requires a scoring function\n",
    "<br>\n",
    "\n",
    "- Example: `f_classif`\n",
    "  - F-test\n",
    "  - estimates the degree of linear dependency between feature x and target y"
   ]
  },
  {
   "cell_type": "code",
   "execution_count": 44,
   "metadata": {
    "slideshow": {
     "slide_type": "fragment"
    }
   },
   "outputs": [
    {
     "data": {
      "text/plain": [
       "['alcohol', 'color_intensity', 'proline']"
      ]
     },
     "execution_count": 44,
     "metadata": {},
     "output_type": "execute_result"
    }
   ],
   "source": [
    "from sklearn.feature_selection import SelectKBest, f_classif\n",
    "\n",
    "# select 2 best features\n",
    "kbest = SelectKBest(score_func=f_classif, # default,\n",
    "                    k=3                   # how many features to keep\n",
    "                   ).fit(X_train, y_train)\n",
    "list(X_wine.columns[kbest.get_support()])"
   ]
  },
  {
   "cell_type": "markdown",
   "metadata": {
    "slideshow": {
     "slide_type": "slide"
    }
   },
   "source": [
    "# Feature Selection: Recursive Feature Elimination\n",
    "\n",
    "- Would like to test all possible combinations of features\n",
    "- Likely prohibitively expensive/time-consuming\n",
    "- Instead recursively select smaller subsets of features\n",
    "- Requires a model that assigns weights or importance to features"
   ]
  },
  {
   "cell_type": "code",
   "execution_count": 45,
   "metadata": {
    "slideshow": {
     "slide_type": "fragment"
    }
   },
   "outputs": [
    {
     "data": {
      "text/plain": [
       "Index(['alcohol', 'alcalinity_of_ash', 'proline'], dtype='object')"
      ]
     },
     "execution_count": 45,
     "metadata": {},
     "output_type": "execute_result"
    }
   ],
   "source": [
    "from sklearn.feature_selection import RFE\n",
    "\n",
    "rfe = RFE(LogisticRegression(penalty='none'), # turn of regularization\n",
    "          n_features_to_select=3,             # number of feature to retain\n",
    "          step=1                              # number of features to eliminate each round\n",
    "         ).fit(X_train,y_train)\n",
    "\n",
    "X_train.columns[rfe.get_support()]"
   ]
  },
  {
   "cell_type": "markdown",
   "metadata": {
    "slideshow": {
     "slide_type": "slide"
    }
   },
   "source": [
    "# Feature Selection: Other Methods\n",
    "\n",
    "- by **Variance**\n",
    " - eliminate columns where all rows have the same (or almost all the same) value\n",
    "- **Sequential Feature Selection**\n",
    " - greedy algorithm similar to Recursive Feature Elimination\n",
    " - uses performance metric (eg accuracy) instead of weights, importances\n",
    " - via `mlxtend`\n",
    "- **Exaustive Feature Selection**\n",
    " - evaluate all possible feature combinations\n",
    " - uses performance metric (eg accuracy) instead of weights, importances\n",
    " - via `mlxtend`\n",
    "- Other **Univariate tests**\n",
    " - `f_regression`, F-test for regression task\n",
    " - `mutual_info_classif` and `_regression`\n",
    " - `chi2`, for classification, requires non-negative values\n",
    "\n"
   ]
  },
  {
   "cell_type": "markdown",
   "metadata": {
    "slideshow": {
     "slide_type": "slide"
    }
   },
   "source": [
    "<br>\n",
    "<br>\n",
    "\n",
    "# <center>Questions on Feature Selection?</center>\n",
    "<br>\n",
    "<br>"
   ]
  },
  {
   "cell_type": "markdown",
   "metadata": {
    "slideshow": {
     "slide_type": "slide"
    }
   },
   "source": [
    "# Changing number of features: Use Adjusted $R^2$"
   ]
  },
  {
   "cell_type": "markdown",
   "metadata": {
    "slideshow": {
     "slide_type": "fragment"
    }
   },
   "source": [
    "- Adding features guarantees an increase in $R^2$\n",
    "- $R^2$ describes the proportion of explained variance\n",
    "- Additional features explain more variance"
   ]
  },
  {
   "cell_type": "markdown",
   "metadata": {
    "slideshow": {
     "slide_type": "fragment"
    }
   },
   "source": [
    "$$R_{adj}^2 = 1-(1-R^2)\\frac{n-1}{n-m-1}$$\n",
    "\n",
    "- where $n$ is the number of observations, $m$ is the number of features"
   ]
  },
  {
   "cell_type": "code",
   "execution_count": 46,
   "metadata": {
    "slideshow": {
     "slide_type": "fragment"
    }
   },
   "outputs": [],
   "source": [
    "def adj_r2(model,X,y):\n",
    "    n,m = X.shape\n",
    "    return 1-(1-model.score(X,y))*(n-1)/(n-m-1)"
   ]
  },
  {
   "cell_type": "markdown",
   "metadata": {
    "slideshow": {
     "slide_type": "slide"
    }
   },
   "source": [
    "# Changing number of features: Use Adjusted $R^2$ Cont."
   ]
  },
  {
   "cell_type": "code",
   "execution_count": 47,
   "metadata": {
    "slideshow": {
     "slide_type": "fragment"
    }
   },
   "outputs": [
    {
     "name": "stdout",
     "output_type": "stream",
     "text": [
      "0.3940307310415285\n",
      "0.7455685143343734\n"
     ]
    }
   ],
   "source": [
    "from sklearn.linear_model import LinearRegression\n",
    "\n",
    "X_r = X_train.iloc[:,1:]\n",
    "y_r = X_train.iloc[:,0]  # predict alcohol from other features\n",
    "\n",
    "lr = LinearRegression()\n",
    "print(lr.fit(X_r.iloc[:,:3],y_r).score(X_r.iloc[:,:3],y_r))\n",
    "print(lr.fit(X_r.iloc[:,:],y_r).score(X_r.iloc[:,:],y_r))"
   ]
  },
  {
   "cell_type": "markdown",
   "metadata": {
    "slideshow": {
     "slide_type": "fragment"
    }
   },
   "source": [
    "Is this due to a better model or just adding features?"
   ]
  },
  {
   "cell_type": "code",
   "execution_count": 48,
   "metadata": {
    "slideshow": {
     "slide_type": "fragment"
    }
   },
   "outputs": [
    {
     "name": "stdout",
     "output_type": "stream",
     "text": [
      "0.3744833352686746\n",
      "0.7092211592392839\n"
     ]
    }
   ],
   "source": [
    "print(adj_r2(lr.fit(X_r.iloc[:,:3],y_r),X_r.iloc[:,:3],y_r))\n",
    "print(adj_r2(lr.fit(X_r.iloc[:,:],y_r),X_r.iloc[:,:],y_r))"
   ]
  },
  {
   "cell_type": "markdown",
   "metadata": {
    "slideshow": {
     "slide_type": "fragment"
    }
   },
   "source": [
    "- Now we know the increase is due to a better model and not just adding features"
   ]
  },
  {
   "cell_type": "markdown",
   "metadata": {
    "slideshow": {
     "slide_type": "slide"
    }
   },
   "source": [
    "# Changing number of features: Use Adjusted $R^2$ Cont."
   ]
  },
  {
   "cell_type": "code",
   "execution_count": 49,
   "metadata": {
    "slideshow": {
     "slide_type": "fragment"
    }
   },
   "outputs": [
    {
     "name": "stdout",
     "output_type": "stream",
     "text": [
      "0.709648775181579\n"
     ]
    },
    {
     "data": {
      "text/html": [
       "<table class=\"simpletable\">\n",
       "<caption>OLS Regression Results</caption>\n",
       "<tr>\n",
       "  <th>Dep. Variable:</th>         <td>alcohol</td>     <th>  R-squared (uncentered):</th>      <td>   0.746</td>\n",
       "</tr>\n",
       "<tr>\n",
       "  <th>Model:</th>                   <td>OLS</td>       <th>  Adj. R-squared (uncentered):</th> <td>   0.710</td>\n",
       "</tr>\n",
       "<tr>\n",
       "  <th>Method:</th>             <td>Least Squares</td>  <th>  F-statistic:       </th>          <td>   20.76</td>\n",
       "</tr>\n",
       "<tr>\n",
       "  <th>Date:</th>             <td>Mon, 15 Nov 2021</td> <th>  Prob (F-statistic):</th>          <td>2.12e-20</td>\n",
       "</tr>\n",
       "<tr>\n",
       "  <th>Time:</th>                 <td>14:22:21</td>     <th>  Log-Likelihood:    </th>          <td> -71.254</td>\n",
       "</tr>\n",
       "<tr>\n",
       "  <th>No. Observations:</th>      <td>    97</td>      <th>  AIC:               </th>          <td>   166.5</td>\n",
       "</tr>\n",
       "<tr>\n",
       "  <th>Df Residuals:</th>          <td>    85</td>      <th>  BIC:               </th>          <td>   197.4</td>\n",
       "</tr>\n",
       "<tr>\n",
       "  <th>Df Model:</th>              <td>    12</td>      <th>                     </th>              <td> </td>   \n",
       "</tr>\n",
       "<tr>\n",
       "  <th>Covariance Type:</th>      <td>nonrobust</td>    <th>                     </th>              <td> </td>   \n",
       "</tr>\n",
       "</table>\n",
       "<table class=\"simpletable\">\n",
       "<tr>\n",
       "                <td></td>                  <th>coef</th>     <th>std err</th>      <th>t</th>      <th>P>|t|</th>  <th>[0.025</th>    <th>0.975]</th>  \n",
       "</tr>\n",
       "<tr>\n",
       "  <th>malic_acid</th>                   <td>    0.1412</td> <td>    0.064</td> <td>    2.201</td> <td> 0.030</td> <td>    0.014</td> <td>    0.269</td>\n",
       "</tr>\n",
       "<tr>\n",
       "  <th>ash</th>                          <td>   -0.0380</td> <td>    0.080</td> <td>   -0.473</td> <td> 0.637</td> <td>   -0.197</td> <td>    0.122</td>\n",
       "</tr>\n",
       "<tr>\n",
       "  <th>alcalinity_of_ash</th>            <td>   -0.0283</td> <td>    0.082</td> <td>   -0.347</td> <td> 0.730</td> <td>   -0.191</td> <td>    0.134</td>\n",
       "</tr>\n",
       "<tr>\n",
       "  <th>magnesium</th>                    <td>    0.1268</td> <td>    0.072</td> <td>    1.763</td> <td> 0.081</td> <td>   -0.016</td> <td>    0.270</td>\n",
       "</tr>\n",
       "<tr>\n",
       "  <th>total_phenols</th>                <td>   -0.1925</td> <td>    0.116</td> <td>   -1.665</td> <td> 0.100</td> <td>   -0.422</td> <td>    0.037</td>\n",
       "</tr>\n",
       "<tr>\n",
       "  <th>flavanoids</th>                   <td>    0.2984</td> <td>    0.149</td> <td>    1.996</td> <td> 0.049</td> <td>    0.001</td> <td>    0.596</td>\n",
       "</tr>\n",
       "<tr>\n",
       "  <th>nonflavanoid_phenols</th>         <td>   -0.0106</td> <td>    0.087</td> <td>   -0.122</td> <td> 0.903</td> <td>   -0.183</td> <td>    0.162</td>\n",
       "</tr>\n",
       "<tr>\n",
       "  <th>proanthocyanins</th>              <td>   -0.1724</td> <td>    0.076</td> <td>   -2.257</td> <td> 0.027</td> <td>   -0.324</td> <td>   -0.021</td>\n",
       "</tr>\n",
       "<tr>\n",
       "  <th>color_intensity</th>              <td>    0.3969</td> <td>    0.116</td> <td>    3.423</td> <td> 0.001</td> <td>    0.166</td> <td>    0.627</td>\n",
       "</tr>\n",
       "<tr>\n",
       "  <th>hue</th>                          <td>   -0.0260</td> <td>    0.064</td> <td>   -0.410</td> <td> 0.683</td> <td>   -0.152</td> <td>    0.100</td>\n",
       "</tr>\n",
       "<tr>\n",
       "  <th>od280/od315_of_diluted_wines</th> <td>    0.1999</td> <td>    0.078</td> <td>    2.568</td> <td> 0.012</td> <td>    0.045</td> <td>    0.355</td>\n",
       "</tr>\n",
       "<tr>\n",
       "  <th>proline</th>                      <td>    0.2967</td> <td>    0.101</td> <td>    2.936</td> <td> 0.004</td> <td>    0.096</td> <td>    0.498</td>\n",
       "</tr>\n",
       "</table>\n",
       "<table class=\"simpletable\">\n",
       "<tr>\n",
       "  <th>Omnibus:</th>       <td> 4.328</td> <th>  Durbin-Watson:     </th> <td>   2.072</td>\n",
       "</tr>\n",
       "<tr>\n",
       "  <th>Prob(Omnibus):</th> <td> 0.115</td> <th>  Jarque-Bera (JB):  </th> <td>   3.747</td>\n",
       "</tr>\n",
       "<tr>\n",
       "  <th>Skew:</th>          <td> 0.359</td> <th>  Prob(JB):          </th> <td>   0.154</td>\n",
       "</tr>\n",
       "<tr>\n",
       "  <th>Kurtosis:</th>      <td> 3.641</td> <th>  Cond. No.          </th> <td>    7.32</td>\n",
       "</tr>\n",
       "</table><br/><br/>Notes:<br/>[1] R² is computed without centering (uncentered) since the model does not contain a constant.<br/>[2] Standard Errors assume that the covariance matrix of the errors is correctly specified."
      ],
      "text/plain": [
       "<class 'statsmodels.iolib.summary.Summary'>\n",
       "\"\"\"\n",
       "                                 OLS Regression Results                                \n",
       "=======================================================================================\n",
       "Dep. Variable:                alcohol   R-squared (uncentered):                   0.746\n",
       "Model:                            OLS   Adj. R-squared (uncentered):              0.710\n",
       "Method:                 Least Squares   F-statistic:                              20.76\n",
       "Date:                Mon, 15 Nov 2021   Prob (F-statistic):                    2.12e-20\n",
       "Time:                        14:22:21   Log-Likelihood:                         -71.254\n",
       "No. Observations:                  97   AIC:                                      166.5\n",
       "Df Residuals:                      85   BIC:                                      197.4\n",
       "Df Model:                          12                                                  \n",
       "Covariance Type:            nonrobust                                                  \n",
       "================================================================================================\n",
       "                                   coef    std err          t      P>|t|      [0.025      0.975]\n",
       "------------------------------------------------------------------------------------------------\n",
       "malic_acid                       0.1412      0.064      2.201      0.030       0.014       0.269\n",
       "ash                             -0.0380      0.080     -0.473      0.637      -0.197       0.122\n",
       "alcalinity_of_ash               -0.0283      0.082     -0.347      0.730      -0.191       0.134\n",
       "magnesium                        0.1268      0.072      1.763      0.081      -0.016       0.270\n",
       "total_phenols                   -0.1925      0.116     -1.665      0.100      -0.422       0.037\n",
       "flavanoids                       0.2984      0.149      1.996      0.049       0.001       0.596\n",
       "nonflavanoid_phenols            -0.0106      0.087     -0.122      0.903      -0.183       0.162\n",
       "proanthocyanins                 -0.1724      0.076     -2.257      0.027      -0.324      -0.021\n",
       "color_intensity                  0.3969      0.116      3.423      0.001       0.166       0.627\n",
       "hue                             -0.0260      0.064     -0.410      0.683      -0.152       0.100\n",
       "od280/od315_of_diluted_wines     0.1999      0.078      2.568      0.012       0.045       0.355\n",
       "proline                          0.2967      0.101      2.936      0.004       0.096       0.498\n",
       "==============================================================================\n",
       "Omnibus:                        4.328   Durbin-Watson:                   2.072\n",
       "Prob(Omnibus):                  0.115   Jarque-Bera (JB):                3.747\n",
       "Skew:                           0.359   Prob(JB):                        0.154\n",
       "Kurtosis:                       3.641   Cond. No.                         7.32\n",
       "==============================================================================\n",
       "\n",
       "Notes:\n",
       "[1] R² is computed without centering (uncentered) since the model does not contain a constant.\n",
       "[2] Standard Errors assume that the covariance matrix of the errors is correctly specified.\n",
       "\"\"\""
      ]
     },
     "execution_count": 49,
     "metadata": {},
     "output_type": "execute_result"
    }
   ],
   "source": [
    "from statsmodels.api import OLS\n",
    "\n",
    "model = OLS(y_r,X_r).fit()\n",
    "print(model.rsquared_adj)\n",
    "model.summary()"
   ]
  },
  {
   "cell_type": "markdown",
   "metadata": {
    "slideshow": {
     "slide_type": "slide"
    }
   },
   "source": [
    "<br>\n",
    "<br>\n",
    "\n",
    "# <center>Questions re Adjusted $R^2$?</center>\n",
    "<br>\n",
    "<br>"
   ]
  },
  {
   "cell_type": "markdown",
   "metadata": {
    "slideshow": {
     "slide_type": "slide"
    }
   },
   "source": [
    "# Feature Extraction\n",
    "\n",
    "- Transform original features into new feature space\n",
    "- Can be thought of as compression while maintaining relevant information\n",
    "- Often used for:\n",
    " - visualization (multi-dimensional to 2-D)\n",
    " - compression (storage)\n",
    " - dimensionality reduction\n",
    " \n",
    "- Popular methods:\n",
    " - **Principal Component Analysis:** Unsupervised data compression\n",
    " - Linear Discriminant Analysis: Supervised method to maximize class separation\n",
    " - Kernel PCA, etc."
   ]
  },
  {
   "cell_type": "markdown",
   "metadata": {
    "slideshow": {
     "slide_type": "slide"
    }
   },
   "source": [
    "# Principal Component Analysis (PCA)\n",
    "\n",
    "- Unsupervised Learning method (ignores label)\n",
    "- Idea: \n",
    " - Directions of high variance in the data contain important information\n",
    " - Colinear features can be combined\n",
    " - Find directions of maximum variance\n",
    " - Project onto subspace with same or fewer dimensions\n",
    "<br>"
   ]
  },
  {
   "cell_type": "markdown",
   "metadata": {
    "slideshow": {
     "slide_type": "slide"
    }
   },
   "source": [
    "# Principal Component Analysis (PCA)\n",
    "<br>\n",
    "\n",
    "- How it works:\n",
    "  0. first center the data (subtract the means)\n",
    "  1. first component:\n",
    "    - direction (combination of features)\n",
    "    - explains maximum variance\n",
    "  2. next component:\n",
    "    - direction, orthogonal to the first (linearly independent)\n",
    "    - explains max remaining variance\n",
    "  3. repeat:\n",
    "    - max number of possible components equals number of original dimensions"
   ]
  },
  {
   "cell_type": "code",
   "execution_count": 50,
   "metadata": {
    "slideshow": {
     "slide_type": "skip"
    }
   },
   "outputs": [],
   "source": [
    "# function to plot a vector\n",
    "def draw_vector(v0,v1,ax=None):\n",
    "    ax = ax or plt.gca()\n",
    "    arrowprops=dict(width=3,\n",
    "                    headwidth=12,\n",
    "                    shrink=0,\n",
    "                    color='k'\n",
    "                    #arrowstyle='->',\n",
    "                    #linewidth=6,\n",
    "                    #shrinkA=0,shrinkB=0\n",
    "                   )\n",
    "    ax.annotate('', v1, v0, arrowprops=arrowprops)\n",
    "\n",
    "# plot data, pca vectors and pca planes\n",
    "def plot_pca(df,pca,num_components=1,colors=['r','g'],fig=None):\n",
    "    fig = fig or plt.figure(figsize=(14,6))\n",
    "    plt.subplot2grid((2,2), (0, 0), rowspan=2)\n",
    "    sns.scatterplot(x=df.columns[0],y=df.columns[1],data=df);\n",
    "    plt.scatter(1,2,c='k',linewidths=5)\n",
    "\n",
    "    for i in range(num_components):\n",
    "        length = pca.explained_variance_[i]\n",
    "        vector = pca.components_[i]\n",
    "        slope0 = vector[1] / vector[0]\n",
    "        _= plt.plot([-3,3],[slope0*-3,slope0*3],color=colors[i])\n",
    "        v = vector * 3 * np.sqrt(length)\n",
    "        draw_vector(pca.mean_,pca.mean_ + v)\n",
    "    plt.gca().set_aspect('equal')\n",
    "    #plt.axis([-8.5, 8.5, -8.5, 8.5])\n",
    "    X = pca.transform(df)\n",
    "    for i in range(num_components):\n",
    "        plt.subplot2grid((2,2), (i, 1))\n",
    "        plt.plot([-4,4],[0,0],colors[i])\n",
    "        sns.scatterplot(x=X[:,i],y=[0]*len(X));\n",
    "        plt.scatter(pca.transform([[1,2]])[0][i],0,color='k',linewidths=5)\n",
    "        plt.axis([-4.5, 4.5, -1, 1]);\n",
    "        plt.xlabel('component '+str(i))"
   ]
  },
  {
   "cell_type": "markdown",
   "metadata": {
    "slideshow": {
     "slide_type": "slide"
    }
   },
   "source": [
    "# PCA Example"
   ]
  },
  {
   "cell_type": "code",
   "execution_count": 51,
   "metadata": {
    "slideshow": {
     "slide_type": "fragment"
    }
   },
   "outputs": [
    {
     "data": {
      "image/png": "[encoded data removed]",
      "text/plain": [
       "<Figure size 576x576 with 1 Axes>"
      ]
     },
     "metadata": {
      "needs_background": "light"
     },
     "output_type": "display_data"
    }
   ],
   "source": [
    "fig,ax = plt.subplots(1,1,figsize=(8,8))\n",
    "sns.scatterplot(x='proline',y='color_intensity',data=X_train,ax=ax);"
   ]
  },
  {
   "cell_type": "code",
   "execution_count": 52,
   "metadata": {
    "slideshow": {
     "slide_type": "skip"
    }
   },
   "outputs": [],
   "source": [
    "from sklearn.decomposition import PCA\n",
    "pca = PCA(n_components=2).fit(X_train[['proline','color_intensity']])"
   ]
  },
  {
   "cell_type": "markdown",
   "metadata": {
    "slideshow": {
     "slide_type": "slide"
    }
   },
   "source": [
    "# PCA Example Cont."
   ]
  },
  {
   "cell_type": "code",
   "execution_count": 53,
   "metadata": {
    "slideshow": {
     "slide_type": "fragment"
    }
   },
   "outputs": [
    {
     "data": {
      "image/png": "[encoded data removed]",
      "text/plain": [
       "<Figure size 1008x432 with 2 Axes>"
      ]
     },
     "metadata": {
      "needs_background": "light"
     },
     "output_type": "display_data"
    }
   ],
   "source": [
    "plot_pca(X_train[['proline','color_intensity']],pca,num_components=1)\n",
    "plt.tight_layout()"
   ]
  },
  {
   "cell_type": "markdown",
   "metadata": {
    "slideshow": {
     "slide_type": "slide"
    }
   },
   "source": [
    "# PCA Example Cont."
   ]
  },
  {
   "cell_type": "code",
   "execution_count": 54,
   "metadata": {
    "slideshow": {
     "slide_type": "fragment"
    }
   },
   "outputs": [
    {
     "data": {
      "image/png": "[encoded data removed]",
      "text/plain": [
       "<Figure size 1008x432 with 3 Axes>"
      ]
     },
     "metadata": {
      "needs_background": "light"
     },
     "output_type": "display_data"
    }
   ],
   "source": [
    "plot_pca(X_train[['proline','color_intensity']],pca,num_components=2)\n",
    "plt.tight_layout()"
   ]
  },
  {
   "cell_type": "markdown",
   "metadata": {
    "slideshow": {
     "slide_type": "slide"
    }
   },
   "source": [
    "# PCA in sklearn"
   ]
  },
  {
   "cell_type": "code",
   "execution_count": 55,
   "metadata": {
    "slideshow": {
     "slide_type": "fragment"
    }
   },
   "outputs": [
    {
     "data": {
      "image/png": "[encoded data removed]",
      "text/plain": [
       "<Figure size 1008x432 with 2 Axes>"
      ]
     },
     "metadata": {
      "needs_background": "light"
     },
     "output_type": "display_data"
    }
   ],
   "source": [
    "from sklearn.decomposition import PCA\n",
    "\n",
    "# extract the first 2 principle compenents\n",
    "pca = PCA(n_components=2)\n",
    "X_pca = pca.fit_transform(X_train[['proline','color_intensity']])\n",
    "\n",
    "X_pca = pd.DataFrame(X_pca,columns=['component1','component2'])\n",
    "\n",
    "\n",
    "fig,ax=plt.subplots(1,2,figsize=(14,6))\n",
    "sns.scatterplot(x='proline',y='color_intensity',data=X_train,ax=ax[0]);\n",
    "sns.scatterplot(x='component1',y='component2',data=X_pca,ax=ax[1]);\n",
    "ax[0].axis('equal');ax[1].axis('equal');"
   ]
  },
  {
   "cell_type": "markdown",
   "metadata": {
    "slideshow": {
     "slide_type": "slide"
    }
   },
   "source": [
    "# PCA: Explained Variance\n",
    "<br>\n",
    "\n",
    "- How much of the variance is explained by each component?"
   ]
  },
  {
   "cell_type": "code",
   "execution_count": 56,
   "metadata": {
    "slideshow": {
     "slide_type": "fragment"
    }
   },
   "outputs": [
    {
     "data": {
      "text/plain": [
       "array([0.89808764, 0.10191236])"
      ]
     },
     "execution_count": 56,
     "metadata": {},
     "output_type": "execute_result"
    }
   ],
   "source": [
    "pca.explained_variance_ratio_"
   ]
  },
  {
   "cell_type": "markdown",
   "metadata": {
    "slideshow": {
     "slide_type": "slide"
    }
   },
   "source": [
    "# PCA: Principle Components\n",
    "<br>\n",
    "\n",
    "- What does the first component (vector) look like?"
   ]
  },
  {
   "cell_type": "code",
   "execution_count": 57,
   "metadata": {
    "slideshow": {
     "slide_type": "fragment"
    }
   },
   "outputs": [
    {
     "data": {
      "text/plain": [
       "array([0.70710678, 0.70710678])"
      ]
     },
     "execution_count": 57,
     "metadata": {},
     "output_type": "execute_result"
    }
   ],
   "source": [
    "pca.components_[0]"
   ]
  },
  {
   "cell_type": "markdown",
   "metadata": {
    "slideshow": {
     "slide_type": "fragment"
    }
   },
   "source": [
    "- And the second?"
   ]
  },
  {
   "cell_type": "code",
   "execution_count": 58,
   "metadata": {
    "slideshow": {
     "slide_type": "fragment"
    }
   },
   "outputs": [
    {
     "data": {
      "text/plain": [
       "array([-0.70710678,  0.70710678])"
      ]
     },
     "execution_count": 58,
     "metadata": {},
     "output_type": "execute_result"
    }
   ],
   "source": [
    "pca.components_[1]"
   ]
  },
  {
   "cell_type": "markdown",
   "metadata": {
    "slideshow": {
     "slide_type": "fragment"
    }
   },
   "source": [
    "- All components returned"
   ]
  },
  {
   "cell_type": "code",
   "execution_count": 59,
   "metadata": {
    "slideshow": {
     "slide_type": "fragment"
    }
   },
   "outputs": [
    {
     "data": {
      "text/plain": [
       "array([[ 0.70710678,  0.70710678],\n",
       "       [-0.70710678,  0.70710678]])"
      ]
     },
     "execution_count": 59,
     "metadata": {},
     "output_type": "execute_result"
    }
   ],
   "source": [
    "pca.components_"
   ]
  },
  {
   "cell_type": "code",
   "execution_count": 60,
   "metadata": {
    "slideshow": {
     "slide_type": "fragment"
    }
   },
   "outputs": [
    {
     "data": {
      "text/plain": [
       "array([13.1995834 ,  4.44645904])"
      ]
     },
     "execution_count": 60,
     "metadata": {},
     "output_type": "execute_result"
    }
   ],
   "source": [
    "# Can also return the singular values themselves\n",
    "pca.singular_values_"
   ]
  },
  {
   "cell_type": "markdown",
   "metadata": {
    "slideshow": {
     "slide_type": "slide"
    }
   },
   "source": [
    "# Dimensionality Reduction with PCA"
   ]
  },
  {
   "cell_type": "code",
   "execution_count": 61,
   "metadata": {
    "slideshow": {
     "slide_type": "fragment"
    }
   },
   "outputs": [
    {
     "data": {
      "image/png": "[encoded data removed]",
      "text/plain": [
       "<Figure size 432x288 with 1 Axes>"
      ]
     },
     "metadata": {
      "needs_background": "light"
     },
     "output_type": "display_data"
    }
   ],
   "source": [
    "pca_2d = PCA(n_components=2)\n",
    "X_2d = pca_2d.fit_transform(X_train)\n",
    "X_2d = pd.DataFrame(X_2d, columns=[\"component\"+str(i) for i in range(2)])\n",
    "sns.scatterplot(x='component0',y='component1',data=X_2d);"
   ]
  },
  {
   "cell_type": "code",
   "execution_count": 62,
   "metadata": {
    "slideshow": {
     "slide_type": "fragment"
    }
   },
   "outputs": [
    {
     "name": "stdout",
     "output_type": "stream",
     "text": [
      "-0.28*nonflavanoid_phenols + \n",
      "-0.26*alcalinity_of_ash + \n",
      "-0.03*hue + \n",
      " 0.01*malic_acid + \n",
      " 0.11*ash + \n",
      " 0.21*proanthocyanins + \n",
      " 0.23*magnesium + \n",
      " 0.25*od280/od315_of_diluted_wines + \n",
      " 0.36*proline + \n",
      " 0.36*color_intensity + \n",
      " 0.36*total_phenols + \n",
      " 0.37*alcohol + \n",
      " 0.39*flavanoids\n"
     ]
    }
   ],
   "source": [
    "print(' + \\n'.join([f'{w: 0.2f}*{f}' for f,w in sorted(zip(X_train.columns,pca_2d.components_[0]),key=lambda x:x[1])]))"
   ]
  },
  {
   "cell_type": "code",
   "execution_count": 63,
   "metadata": {
    "slideshow": {
     "slide_type": "skip"
    }
   },
   "outputs": [
    {
     "data": {
      "text/plain": [
       "array([[ 0.36733214,  0.00549227,  0.11190797, -0.25939926,  0.23258252,\n",
       "         0.36400809,  0.39036058, -0.27650372,  0.20948443,  0.36335279,\n",
       "        -0.03275396,  0.24799821,  0.36236509],\n",
       "       [-0.10690524,  0.51012671, -0.00107632,  0.26118437, -0.14060643,\n",
       "         0.16490533,  0.1128431 , -0.17937195,  0.29617847, -0.25034748,\n",
       "        -0.4633292 ,  0.36822912, -0.25998   ]])"
      ]
     },
     "execution_count": 63,
     "metadata": {},
     "output_type": "execute_result"
    }
   ],
   "source": [
    "pca_2d.components_"
   ]
  },
  {
   "cell_type": "markdown",
   "metadata": {
    "slideshow": {
     "slide_type": "slide"
    }
   },
   "source": [
    "<br>\n",
    "<br>\n",
    "\n",
    "# <center>Image Recognition Example</center>\n",
    "<br>\n",
    "<br>"
   ]
  },
  {
   "cell_type": "markdown",
   "metadata": {
    "slideshow": {
     "slide_type": "slide"
    }
   },
   "source": [
    "# PCA and Image Recognition\n",
    "\n",
    "- Generally, an image is represented by a grid of pixels\n",
    "- Each pixel is a square that takes a value representing a shade (usually a value between 0 and 255)\n",
    "- 1024 x 1024 pixels = 1,048,576 pixels = 1 megapixel\n",
    "- iPhone X11 Pro : 12 megapixels\n",
    "- Color images contain three layers: red, green, blue\n",
    "- ~36 million pixel values\n",
    "- A very high dimensional space!\n",
    "<br>\n",
    "\n",
    "- Image classification using PCA?\n",
    " - Example based on [Faces recognition example using eigenfaces and SVMs](https://scikit-learn.org/stable/auto_examples/applications/plot_face_recognition.html#sphx-glr-auto-examples-applications-plot-face-recognition-py)\n"
   ]
  },
  {
   "cell_type": "markdown",
   "metadata": {
    "slideshow": {
     "slide_type": "slide"
    }
   },
   "source": [
    "# Example Dataset: Labeled Faces in th Wild (LFW)\n",
    "<br>\n",
    "\n",
    "[Labeled Faces in the Wild](http://vis-www.cs.umass.edu/lfw/)"
   ]
  },
  {
   "cell_type": "code",
   "execution_count": 64,
   "metadata": {
    "slideshow": {
     "slide_type": "fragment"
    }
   },
   "outputs": [],
   "source": [
    "from sklearn.datasets import fetch_lfw_people\n",
    "\n",
    "lfw_people = fetch_lfw_people(min_faces_per_person=70, resize=0.4)"
   ]
  },
  {
   "cell_type": "code",
   "execution_count": 65,
   "metadata": {
    "slideshow": {
     "slide_type": "fragment"
    }
   },
   "outputs": [
    {
     "data": {
      "image/png": "[encoded data removed]",
      "text/plain": [
       "<Figure size 432x288 with 1 Axes>"
      ]
     },
     "metadata": {},
     "output_type": "display_data"
    }
   ],
   "source": [
    "sns.set_style('dark')\n",
    "plt.imshow(lfw_people.images[1], cmap=plt.cm.gray, vmin=0, vmax=255)\n",
    "plt.title(lfw_people.target_names[lfw_people.target[1]], size=12);"
   ]
  },
  {
   "cell_type": "markdown",
   "metadata": {
    "slideshow": {
     "slide_type": "slide"
    }
   },
   "source": [
    "# Example Pixel Values"
   ]
  },
  {
   "cell_type": "code",
   "execution_count": 66,
   "metadata": {
    "slideshow": {
     "slide_type": "fragment"
    }
   },
   "outputs": [
    {
     "data": {
      "image/png": "[encoded data removed]",
      "text/plain": [
       "<Figure size 432x288 with 1 Axes>"
      ]
     },
     "metadata": {},
     "output_type": "display_data"
    }
   ],
   "source": [
    "# first 3x3 set of pixels\n",
    "plt.imshow(lfw_people.images[1][:3,:3],cmap=plt.cm.gray,vmin=0, vmax=255);"
   ]
  },
  {
   "cell_type": "code",
   "execution_count": 67,
   "metadata": {
    "slideshow": {
     "slide_type": "fragment"
    }
   },
   "outputs": [
    {
     "data": {
      "text/plain": [
       "array([[39.666668, 50.333332, 47.      ],\n",
       "       [47.666668, 63.      , 65.333336],\n",
       "       [55.333332, 76.666664, 86.333336]], dtype=float32)"
      ]
     },
     "execution_count": 67,
     "metadata": {},
     "output_type": "execute_result"
    }
   ],
   "source": [
    "lfw_people.images[1][:3,:3]"
   ]
  },
  {
   "cell_type": "markdown",
   "metadata": {
    "slideshow": {
     "slide_type": "slide"
    }
   },
   "source": [
    "# Representing each Image: Flatten\n",
    "<br>\n",
    "\n",
    "- Grid as a fixed length feature vector?"
   ]
  },
  {
   "cell_type": "code",
   "execution_count": 68,
   "metadata": {
    "slideshow": {
     "slide_type": "fragment"
    }
   },
   "outputs": [
    {
     "data": {
      "text/plain": [
       "(50, 37)"
      ]
     },
     "execution_count": 68,
     "metadata": {},
     "output_type": "execute_result"
    }
   ],
   "source": [
    "lfw_people.images[1].shape"
   ]
  },
  {
   "cell_type": "code",
   "execution_count": 69,
   "metadata": {
    "slideshow": {
     "slide_type": "fragment"
    }
   },
   "outputs": [
    {
     "data": {
      "text/plain": [
       "array([[ 39.666668,  50.333332,  47.      , ..., 117.666664, 115.      ,\n",
       "        133.66667 ]], dtype=float32)"
      ]
     },
     "execution_count": 69,
     "metadata": {},
     "output_type": "execute_result"
    }
   ],
   "source": [
    "x = lfw_people.images[1].reshape(1,-1)\n",
    "x"
   ]
  },
  {
   "cell_type": "code",
   "execution_count": 70,
   "metadata": {
    "slideshow": {
     "slide_type": "fragment"
    }
   },
   "outputs": [
    {
     "data": {
      "text/plain": [
       "(1, 1850)"
      ]
     },
     "execution_count": 70,
     "metadata": {},
     "output_type": "execute_result"
    }
   ],
   "source": [
    "x.shape"
   ]
  },
  {
   "cell_type": "markdown",
   "metadata": {
    "slideshow": {
     "slide_type": "fragment"
    }
   },
   "source": [
    "What information do we lose when we do this?"
   ]
  },
  {
   "cell_type": "markdown",
   "metadata": {
    "slideshow": {
     "slide_type": "slide"
    }
   },
   "source": [
    "# Create a Dataset"
   ]
  },
  {
   "cell_type": "code",
   "execution_count": 71,
   "metadata": {
    "slideshow": {
     "slide_type": "fragment"
    }
   },
   "outputs": [
    {
     "name": "stdout",
     "output_type": "stream",
     "text": [
      "image_size: 50x37\n",
      "n_features: 1850\n",
      "n_classes : 7\n",
      "n_train   : 966\n",
      "n_test    : 322\n"
     ]
    }
   ],
   "source": [
    "# get the shape of images for plotting the\n",
    "n_samples, h, w = lfw_people.images.shape\n",
    "\n",
    "# use actual pixel values, ignoring relative position\n",
    "X_faces = lfw_people.data\n",
    "n_features = X_faces.shape[1]\n",
    "\n",
    "# the label to predict is the id of the person\n",
    "y_faces = lfw_people.target\n",
    "target_names = lfw_people.target_names\n",
    "n_classes = target_names.shape[0]\n",
    "\n",
    "# create train/test split\n",
    "X_train_faces, X_test_faces, y_train_faces, y_test_faces = train_test_split(X_faces, y_faces,\n",
    "                                                                            test_size=0.25,\n",
    "                                                                            stratify=y_faces,\n",
    "                                                                            random_state=123)\n",
    "print(f\"image_size: {h}x{w}\")\n",
    "print(\"n_features: %d\" % n_features)\n",
    "print(\"n_classes : %d\" % n_classes)\n",
    "print(f\"n_train   : {len(X_train_faces)}\")\n",
    "print(f\"n_test    : {len(X_test_faces)}\")"
   ]
  },
  {
   "cell_type": "markdown",
   "metadata": {
    "slideshow": {
     "slide_type": "slide"
    }
   },
   "source": [
    "# Compute PCA and Transform"
   ]
  },
  {
   "cell_type": "code",
   "execution_count": 72,
   "metadata": {
    "slideshow": {
     "slide_type": "fragment"
    }
   },
   "outputs": [],
   "source": [
    "# set the number of dimensions we want to retain\n",
    "n_components = 150\n",
    "\n",
    "# instantiate and fit on X_train\n",
    "pca_faces = PCA(n_components=n_components,\n",
    "                svd_solver='randomized',\n",
    "                whiten=True).fit(X_train_faces)\n",
    "\n",
    "# extract and reshape components into eigenfaces for plotting\n",
    "eigenfaces = pca_faces.components_.reshape((n_components, h, w))\n",
    "\n",
    "# transform the training and test set for classification\n",
    "X_train_pca_faces = pca_faces.transform(X_train_faces)\n",
    "X_test_pca_faces = pca_faces.transform(X_test_faces)"
   ]
  },
  {
   "cell_type": "code",
   "execution_count": 73,
   "metadata": {
    "slideshow": {
     "slide_type": "fragment"
    }
   },
   "outputs": [
    {
     "data": {
      "text/plain": [
       "array([-0.01278668, -0.01292658, -0.01463957, ..., -0.00385124,\n",
       "       -0.00411337, -0.0045574 ], dtype=float32)"
      ]
     },
     "execution_count": 73,
     "metadata": {},
     "output_type": "execute_result"
    }
   ],
   "source": [
    "pca_faces.components_[0]"
   ]
  },
  {
   "cell_type": "code",
   "execution_count": 74,
   "metadata": {
    "slideshow": {
     "slide_type": "fragment"
    }
   },
   "outputs": [
    {
     "data": {
      "text/plain": [
       "array([21388.467  , 19735.988  , 13733.558  , 12266.252  , 11349.948  ,\n",
       "        8755.401  ,  7928.223  ,  7296.223  ,  7035.028  ,  6864.7207 ,\n",
       "        6348.1304 ,  6118.6055 ,  5526.047  ,  5221.793  ,  4977.621  ,\n",
       "        4962.2236 ,  4785.6265 ,  4679.6924 ,  4524.9766 ,  4275.846  ,\n",
       "        4209.652  ,  4032.5813 ,  3924.0525 ,  3801.2917 ,  3723.4976 ,\n",
       "        3675.6616 ,  3581.645  ,  3497.1353 ,  3378.749  ,  3268.003  ,\n",
       "        3137.3608 ,  3030.9197 ,  3017.3242 ,  2981.4546 ,  2897.5417 ,\n",
       "        2858.5464 ,  2792.041  ,  2762.1348 ,  2726.447  ,  2702.855  ,\n",
       "        2661.0544 ,  2591.7307 ,  2543.3933 ,  2526.289  ,  2459.802  ,\n",
       "        2429.5876 ,  2417.179  ,  2379.5273 ,  2339.4941 ,  2332.3047 ,\n",
       "        2293.3118 ,  2283.203  ,  2221.0967 ,  2194.8472 ,  2160.4968 ,\n",
       "        2144.4883 ,  2110.5505 ,  2088.7078 ,  2063.9463 ,  2043.5891 ,\n",
       "        2025.4708 ,  2015.7623 ,  1991.989  ,  1967.3948 ,  1934.7207 ,\n",
       "        1919.0978 ,  1903.6674 ,  1882.6061 ,  1860.8585 ,  1841.5057 ,\n",
       "        1817.5499 ,  1804.0743 ,  1789.1073 ,  1762.907  ,  1756.5995 ,\n",
       "        1734.2104 ,  1713.4298 ,  1709.3933 ,  1699.7631 ,  1691.3091 ,\n",
       "        1665.0392 ,  1659.1537 ,  1640.2972 ,  1615.7921 ,  1609.4435 ,\n",
       "        1593.5886 ,  1581.632  ,  1570.2622 ,  1558.9673 ,  1551.7286 ,\n",
       "        1545.3182 ,  1526.7295 ,  1512.867  ,  1502.3687 ,  1485.8354 ,\n",
       "        1476.9359 ,  1461.7416 ,  1448.5217 ,  1441.638  ,  1418.3416 ,\n",
       "        1411.0355 ,  1408.6664 ,  1399.116  ,  1377.932  ,  1369.3612 ,\n",
       "        1353.4885 ,  1345.9337 ,  1332.8931 ,  1324.9926 ,  1316.9496 ,\n",
       "        1310.7335 ,  1309.0565 ,  1291.4537 ,  1277.1063 ,  1269.8738 ,\n",
       "        1259.6508 ,  1255.8784 ,  1245.608  ,  1226.1138 ,  1217.6237 ,\n",
       "        1210.1542 ,  1199.8496 ,  1191.564  ,  1184.0542 ,  1180.1501 ,\n",
       "        1170.3989 ,  1166.5591 ,  1157.1482 ,  1141.7108 ,  1135.3065 ,\n",
       "        1134.1444 ,  1118.5774 ,  1110.3324 ,  1104.1069 ,  1096.6047 ,\n",
       "        1092.826  ,  1082.0818 ,  1071.1436 ,  1066.9321 ,  1056.2136 ,\n",
       "        1051.6959 ,  1042.011  ,  1038.0168 ,  1024.2737 ,  1017.2074 ,\n",
       "        1014.2571 ,  1009.10315,  1002.5714 ,   990.4884 ,   990.0565 ],\n",
       "      dtype=float32)"
      ]
     },
     "execution_count": 74,
     "metadata": {},
     "output_type": "execute_result"
    }
   ],
   "source": [
    "pca_faces.singular_values_"
   ]
  },
  {
   "cell_type": "markdown",
   "metadata": {
    "slideshow": {
     "slide_type": "slide"
    }
   },
   "source": [
    "# Eigenfaces\n",
    "\n",
    "- What if we plot the top 12 components (eigenfaces) using .reshape(h,w)?"
   ]
  },
  {
   "cell_type": "code",
   "execution_count": 75,
   "metadata": {
    "slideshow": {
     "slide_type": "skip"
    }
   },
   "outputs": [],
   "source": [
    "def plot_gallery(images, titles, h, w, n_row=3, n_col=4):\n",
    "    \"\"\"Helper function to plot a gallery of portraits\"\"\"\n",
    "    plt.figure(figsize=(1.8 * n_col, 2.4 * n_row))\n",
    "    plt.subplots_adjust(bottom=0, left=.01, right=.99, top=.90, hspace=.35)\n",
    "    for i in range(n_row * n_col):\n",
    "        plt.subplot(n_row, n_col, i + 1)\n",
    "        plt.imshow(images[i].reshape((h, w)), cmap=plt.cm.gray)\n",
    "        plt.title(titles[i], size=12)\n",
    "        plt.xticks(())\n",
    "        plt.yticks(())\n",
    "\n",
    "\n",
    "# plot the result of the prediction on a portion of the test set\n",
    "\n",
    "def title(y_pred, y_test, target_names, i):\n",
    "    pred_name = target_names[y_pred[i]].rsplit(' ', 1)[-1]\n",
    "    true_name = target_names[y_test[i]].rsplit(' ', 1)[-1]\n",
    "    return 'predicted: %s\\ntrue:      %s' % (pred_name, true_name)"
   ]
  },
  {
   "cell_type": "code",
   "execution_count": 76,
   "metadata": {
    "slideshow": {
     "slide_type": "fragment"
    }
   },
   "outputs": [
    {
     "data": {
      "image/png": "[encoded data removed]",
      "text/plain": [
       "<Figure size 518.4x518.4 with 12 Axes>"
      ]
     },
     "metadata": {},
     "output_type": "display_data"
    }
   ],
   "source": [
    "eigenface_titles = [\"eigenface %d\" % i for i in range(eigenfaces.shape[0])]\n",
    "plot_gallery(eigenfaces, eigenface_titles, h, w)\n",
    "plt.tight_layout()"
   ]
  },
  {
   "cell_type": "markdown",
   "metadata": {
    "slideshow": {
     "slide_type": "slide"
    }
   },
   "source": [
    "# Train and Tune SVC"
   ]
  },
  {
   "cell_type": "code",
   "execution_count": 77,
   "metadata": {
    "slideshow": {
     "slide_type": "fragment"
    }
   },
   "outputs": [
    {
     "name": "stdout",
     "output_type": "stream",
     "text": [
      "CPU times: user 258 ms, sys: 133 ms, total: 391 ms\n",
      "Wall time: 2.71 s\n"
     ]
    }
   ],
   "source": [
    "%%time\n",
    "from sklearn.model_selection import GridSearchCV\n",
    "from sklearn.svm import SVC\n",
    "\n",
    "params = {'C': [1e3, 5e3, 1e4, 5e4, 1e5],\n",
    "          'gamma': [0.0001, 0.0005, 0.001, 0.005, 0.01, 0.1], }\n",
    "clf_faces = GridSearchCV(SVC(kernel='rbf', class_weight='balanced'),\n",
    "                         params, cv=3, n_jobs=-1)\n",
    "clf_faces = clf_faces.fit(X_train_pca_faces, y_train_faces)"
   ]
  },
  {
   "cell_type": "code",
   "execution_count": 78,
   "metadata": {
    "slideshow": {
     "slide_type": "fragment"
    }
   },
   "outputs": [
    {
     "name": "stdout",
     "output_type": "stream",
     "text": [
      "best_params : {'C': 1000.0, 'gamma': 0.005}\n",
      "best_score  : 0.79\n"
     ]
    }
   ],
   "source": [
    "print(f\"best_params : {clf_faces.best_params_}\")\n",
    "print(f\"best_score  : {clf_faces.best_score_:0.2f}\")"
   ]
  },
  {
   "cell_type": "markdown",
   "metadata": {
    "slideshow": {
     "slide_type": "slide"
    }
   },
   "source": [
    "# Evaluate on the test set"
   ]
  },
  {
   "cell_type": "code",
   "execution_count": 79,
   "metadata": {
    "slideshow": {
     "slide_type": "fragment"
    }
   },
   "outputs": [
    {
     "name": "stdout",
     "output_type": "stream",
     "text": [
      "                   precision    recall  f1-score   support\n",
      "\n",
      "     Ariel Sharon       0.93      0.74      0.82        19\n",
      "     Colin Powell       0.82      0.86      0.84        59\n",
      "  Donald Rumsfeld       0.89      0.83      0.86        30\n",
      "    George W Bush       0.84      0.97      0.90       133\n",
      "Gerhard Schroeder       1.00      0.52      0.68        27\n",
      "      Hugo Chavez       1.00      0.61      0.76        18\n",
      "       Tony Blair       0.84      0.89      0.86        36\n",
      "\n",
      "         accuracy                           0.86       322\n",
      "        macro avg       0.90      0.77      0.82       322\n",
      "     weighted avg       0.87      0.86      0.85       322\n",
      "\n"
     ]
    }
   ],
   "source": [
    "y_pred = clf_faces.predict(X_test_pca_faces)\n",
    "from sklearn.metrics import classification_report\n",
    "print(classification_report(y_test_faces, y_pred, target_names=target_names))"
   ]
  },
  {
   "cell_type": "markdown",
   "metadata": {
    "slideshow": {
     "slide_type": "slide"
    }
   },
   "source": [
    "# Prediction Examples"
   ]
  },
  {
   "cell_type": "code",
   "execution_count": 80,
   "metadata": {
    "slideshow": {
     "slide_type": "fragment"
    }
   },
   "outputs": [
    {
     "data": {
      "image/png": "[encoded data removed]",
      "text/plain": [
       "<Figure size 518.4x518.4 with 12 Axes>"
      ]
     },
     "metadata": {},
     "output_type": "display_data"
    }
   ],
   "source": [
    "prediction_titles = [title(y_pred, y_test_faces, target_names, i)\n",
    "                     for i in range(y_pred.shape[0])]\n",
    "\n",
    "plot_gallery(X_test_faces, prediction_titles, h, w)\n",
    "plt.tight_layout()"
   ]
  },
  {
   "cell_type": "markdown",
   "metadata": {
    "slideshow": {
     "slide_type": "slide"
    }
   },
   "source": [
    "# Performance without PCA"
   ]
  },
  {
   "cell_type": "raw",
   "metadata": {
    "slideshow": {
     "slide_type": "fragment"
    }
   },
   "source": [
    "%%time\n",
    "\n",
    "# Warning: this cell takes up to 2 minutes to execute on an Intel i7 1.8Ghz w/ 8 cores\n",
    "\n",
    "params = {'C': [1e3, 5e3, 1e4, 5e4, 1e5],\n",
    "          'gamma': [0.0001, 0.0005, 0.001, 0.005, 0.01, 0.1],}\n",
    "clf_faces = GridSearchCV(SVC(kernel='rbf', class_weight='balanced'),\n",
    "                         params, cv=3, n_jobs=-1)\n",
    "clf_faces = clf_faces.fit(X_train_faces, y_train_faces)\n",
    "\n",
    "# CPU times: user 9.57 s, sys: 72.1 ms, total: 9.64 s\n",
    "# Wall time: 1min 18s\n",
    "\n",
    "print(f\"best_params : {clf_faces.best_params_}\")\n",
    "print(f\"best_score  : {clf_faces.best_score_:0.2f}\")\n",
    "\n",
    "# best_params : {'C': 1000.0, 'gamma': 0.0001}\n",
    "# best_score  : 0.41"
   ]
  },
  {
   "cell_type": "markdown",
   "metadata": {
    "slideshow": {
     "slide_type": "slide"
    }
   },
   "source": [
    "# Other Image Recognition Methods\n",
    "\n",
    "- With Feature Engineering and general models\n",
    " - ex: Histogram of Oriented Gradients or HOG (See [PDSH Chap 5](https://jakevdp.github.io/PythonDataScienceHandbook/05.14-image-features.html#HOG-Features))\n",
    " - many more (See [scikit-image](https://scikit-image.org/))\n",
    "<br>\n",
    "<br>\n",
    "\n",
    "<div align=\"center\"><img src=\"images/cat_hog.png\" width=\"1600px\"></div>\n",
    "    \n",
    "<font size=3>From PDSH</font>"
   ]
  },
  {
   "cell_type": "markdown",
   "metadata": {
    "slideshow": {
     "slide_type": "slide"
    }
   },
   "source": [
    "# Other Image Recognition Methods: Deep Neural Networks\n",
    "<br>\n",
    "\n",
    "- With Deep Neural Nets\n",
    "<br>\n",
    "\n",
    "<div align=\"center\"><img src=\"images/dnn_image_recognition.png\" width=\"800px\"></div>\n",
    "<br>\n",
    "<br>\n",
    "\n",
    "<font size=4>From https://www.researchgate.net/figure/Layers-and-their-abstraction-in-deep-learning-Image-recognition-as-measured-by-ImageNet_fig17_326531654</font>"
   ]
  },
  {
   "cell_type": "markdown",
   "metadata": {
    "slideshow": {
     "slide_type": "slide"
    }
   },
   "source": [
    "# Other Image Recognition Methods: Deep Neural Networks\n",
    "<br>\n",
    "\n",
    "- With Convolutional Neural Networks [Good Example](https://medium.com/@ageitgey/machine-learning-is-fun-part-3-deep-learning-and-convolutional-neural-networks-f40359318721)\n",
    "<br>\n",
    "<br>\n",
    "\n",
    "<div align=\"center\"><img src=\"images/cnn.jpeg\" width=\"1200px\"></div>\n",
    "<br>\n",
    "<br>\n",
    "\n",
    "<font size=3>From https://towardsdatascience.com/a-comprehensive-guide-to-convolutional-neural-networks-the-eli5-way-3bd2b1164a53</font>"
   ]
  },
  {
   "cell_type": "markdown",
   "metadata": {
    "slideshow": {
     "slide_type": "slide"
    }
   },
   "source": [
    "<br>\n",
    "<br>\n",
    "\n",
    "# <center>Questions re Feature Extraction and PCA?</center>\n",
    "<br>\n",
    "<br>"
   ]
  },
  {
   "cell_type": "markdown",
   "metadata": {
    "slideshow": {
     "slide_type": "slide"
    }
   },
   "source": [
    "<br>\n",
    "<br>\n",
    "\n",
    "# <center>Next time: NLP and Pipelines</center>\n",
    "<br>\n",
    "<br>"
   ]
  }
 ],
 "metadata": {
  "celltoolbar": "Slideshow",
  "kernelspec": {
   "display_name": "eods-f21",
   "language": "python",
   "name": "eods-f21"
  },
  "language_info": {
   "codemirror_mode": {
    "name": "ipython",
    "version": 3
   },
   "file_extension": ".py",
   "mimetype": "text/x-python",
   "name": "python",
   "nbconvert_exporter": "python",
   "pygments_lexer": "ipython3",
   "version": "3.8.10"
  }
 },
 "nbformat": 4,
 "nbformat_minor": 4
}
